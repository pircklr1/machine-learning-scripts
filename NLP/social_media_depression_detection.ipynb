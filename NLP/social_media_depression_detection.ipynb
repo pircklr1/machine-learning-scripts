{
 "cells": [
  {
   "cell_type": "markdown",
   "metadata": {},
   "source": [
    "# Supervised Learning for Depression Detection in Online User Content"
   ]
  },
  {
   "cell_type": "markdown",
   "metadata": {},
   "source": [
    "In this project, a labelled Reddit data collection from https://erisk.irlab.org/ is used.\n",
    "\n",
    "The work is partially based on:\n",
    "\n",
    "Proceedings of the Ninth International Conference of the CLEF Association (CLEF 2018)\n",
    "\n",
    "@inproceedings{maupomemeurs2018,\n",
    "\n",
    "author = {Diego Maupomé and Marie-Jean Meurs},\n",
    "\n",
    "booktitle = {Experimental IR Meets Multilinguality, Multimodality, and Interaction. \n",
    "\n",
    "Proceedings of the Ninth International Conference of the {CLEF} Association ({CLEF} 2018)},\n",
    "\n",
    "title = {{Using Topic Extraction on Social Media Content for the Early Detection of Depression}},\n",
    "\n",
    "address   = {Avignon, France},\n",
    "\n",
    "year = {2018}\n",
    "}\n",
    "\n",
    "Based on previous research, it has been hypothesized that the following features can help detecting depression from online user content:\n",
    "* Time of day user writes messages\n",
    "* Discussed topics: Emotions, relationships, themselves, mental disorders"
   ]
  },
  {
   "cell_type": "code",
   "execution_count": 66,
   "metadata": {},
   "outputs": [],
   "source": [
    "from textblob import TextBlob\n",
    "import pandas as pd\n",
    "import numpy as np\n",
    "from matplotlib import pyplot as plt\n",
    "import os \n",
    "from numpy.random import randint\n",
    "import collections\n",
    "\n",
    "from xml.dom import minidom\n",
    "from datetime import datetime, date, time, timedelta\n",
    "import random\n",
    "\n",
    "import re\n",
    "from nltk.tokenize import TweetTokenizer\n",
    "import string\n",
    "import nltk\n",
    "from nltk.corpus import stopwords\n",
    "\n",
    "from sklearn.feature_extraction.text import CountVectorizer, TfidfVectorizer\n",
    "from sklearn.decomposition import TruncatedSVD\n",
    "from sklearn.model_selection import train_test_split\n",
    "from sklearn.feature_extraction.text import TfidfTransformer\n",
    "from sklearn.naive_bayes import MultinomialNB\n",
    "from sklearn.pipeline import Pipeline\n",
    "from sklearn.feature_extraction.text import CountVectorizer\n",
    "from sklearn.linear_model import SGDClassifier\n",
    "from sklearn.svm import LinearSVC\n",
    "from sklearn.metrics import precision_recall_fscore_support\n",
    "from sklearn.metrics import confusion_matrix\n",
    "from sklearn.metrics import accuracy_score\n",
    "\n",
    "from joblib import dump\n"
   ]
  },
  {
   "cell_type": "markdown",
   "metadata": {},
   "source": [
    "## ETL"
   ]
  },
  {
   "cell_type": "code",
   "execution_count": null,
   "metadata": {},
   "outputs": [],
   "source": [
    "df = pd.DataFrame(columns=['subject', 'group'])\n",
    "i=0\n",
    "crs = open(\"golden_truth.txt\", \"r\")\n",
    "for column in ( raw.strip().split() for raw in crs ):  \n",
    "    df.loc[i]=[column[0],column[1]]\n",
    "    i+=1\n",
    "\n",
    "names=df[\"subject\"]\n",
    "df_summary=pd.DataFrame(columns=['subject', 'group','message'])\n",
    "j=0\n",
    "for name in names:\n",
    "    fileName = os.path.join(\"data/\", name)\n",
    "    fileName=fileName+\".xml\"\n",
    "    xmldoc = minidom.parse(fileName)\n",
    "    itemlist = xmldoc.getElementsByTagName('TEXT')\n",
    "\n",
    "    row=df.loc[df['subject'] == name]\n",
    "    for k in range(0,len(itemlist)):\n",
    "        df_summary.loc[j]=[name,row[\"group\"].values[0],(itemlist[k].firstChild.nodeValue)]\n",
    "        j+=1\n",
    "\n",
    "df_summary.to_csv('summary.csv')"
   ]
  },
  {
   "cell_type": "code",
   "execution_count": 70,
   "metadata": {},
   "outputs": [
    {
     "data": {
      "text/html": [
       "<div>\n",
       "<style scoped>\n",
       "    .dataframe tbody tr th:only-of-type {\n",
       "        vertical-align: middle;\n",
       "    }\n",
       "\n",
       "    .dataframe tbody tr th {\n",
       "        vertical-align: top;\n",
       "    }\n",
       "\n",
       "    .dataframe thead th {\n",
       "        text-align: right;\n",
       "    }\n",
       "</style>\n",
       "<table border=\"1\" class=\"dataframe\">\n",
       "  <thead>\n",
       "    <tr style=\"text-align: right;\">\n",
       "      <th></th>\n",
       "      <th>Unnamed: 0</th>\n",
       "      <th>subject</th>\n",
       "      <th>group</th>\n",
       "      <th>message</th>\n",
       "    </tr>\n",
       "  </thead>\n",
       "  <tbody>\n",
       "    <tr>\n",
       "      <th>0</th>\n",
       "      <td>0</td>\n",
       "      <td>subject671</td>\n",
       "      <td>1</td>\n",
       "      <td>there's a pizza place a couple doors down and ...</td>\n",
       "    </tr>\n",
       "    <tr>\n",
       "      <th>1</th>\n",
       "      <td>1</td>\n",
       "      <td>subject671</td>\n",
       "      <td>1</td>\n",
       "      <td>i pour hot water into a pitcher while my ameri...</td>\n",
       "    </tr>\n",
       "    <tr>\n",
       "      <th>2</th>\n",
       "      <td>2</td>\n",
       "      <td>subject671</td>\n",
       "      <td>1</td>\n",
       "      <td>ombre pink drink has cool lime base too. i thi...</td>\n",
       "    </tr>\n",
       "    <tr>\n",
       "      <th>3</th>\n",
       "      <td>3</td>\n",
       "      <td>subject671</td>\n",
       "      <td>1</td>\n",
       "      <td>tall americano double sleeve no cup</td>\n",
       "    </tr>\n",
       "    <tr>\n",
       "      <th>4</th>\n",
       "      <td>4</td>\n",
       "      <td>subject671</td>\n",
       "      <td>1</td>\n",
       "      <td>we print blank receipt paper, write our closin...</td>\n",
       "    </tr>\n",
       "  </tbody>\n",
       "</table>\n",
       "</div>"
      ],
      "text/plain": [
       "   Unnamed: 0     subject  group  \\\n",
       "0           0  subject671      1   \n",
       "1           1  subject671      1   \n",
       "2           2  subject671      1   \n",
       "3           3  subject671      1   \n",
       "4           4  subject671      1   \n",
       "\n",
       "                                             message  \n",
       "0  there's a pizza place a couple doors down and ...  \n",
       "1  i pour hot water into a pitcher while my ameri...  \n",
       "2  ombre pink drink has cool lime base too. i thi...  \n",
       "3                tall americano double sleeve no cup  \n",
       "4  we print blank receipt paper, write our closin...  "
      ]
     },
     "execution_count": 70,
     "metadata": {},
     "output_type": "execute_result"
    }
   ],
   "source": [
    "df = pd.read_csv(\"summary.csv\")\n",
    "df.head()"
   ]
  },
  {
   "cell_type": "code",
   "execution_count": 71,
   "metadata": {},
   "outputs": [
    {
     "data": {
      "text/plain": [
       "(127941, 4)"
      ]
     },
     "execution_count": 71,
     "metadata": {},
     "output_type": "execute_result"
    }
   ],
   "source": [
    "df.shape"
   ]
  },
  {
   "cell_type": "markdown",
   "metadata": {},
   "source": [
    "## EDA"
   ]
  },
  {
   "cell_type": "code",
   "execution_count": 8,
   "metadata": {},
   "outputs": [
    {
     "name": "stdout",
     "output_type": "stream",
     "text": [
      "Number of messages: 127941\n",
      "Number of messages from not depressed: 120988\n",
      "Number of messages from depressed: 6953\n",
      "Number of not depressed users: 299\n",
      "Number of depressed users: 41\n",
      "Avg message count: 376\n",
      "Avg message count not depressed: 405\n",
      "Avg message count depressed: 170\n",
      "Avg word count: 30\n",
      "Avg word count not depressed: 30\n",
      "Avg word count depressed: 35\n",
      "Avg message history: 751.0 days\n",
      "Avg message history not depressed: 785.0 days\n",
      "Avg message history depressed: 504.0 days\n"
     ]
    }
   ],
   "source": [
    "df = pd.DataFrame(columns=['subject', 'group'])\n",
    "i=0\n",
    "crs = open(\"golden_truth.txt\", \"r\")\n",
    "for column in ( raw.strip().split() for raw in crs ):  \n",
    "    df.loc[i]=[column[0],column[1]]\n",
    "    i+=1\n",
    "\n",
    "names=df[\"subject\"]\n",
    "t0 = 0\n",
    "t1 = 0\n",
    "total = 0\n",
    "total0 = 0\n",
    "total1 = 0\n",
    "wordSum0 = 0\n",
    "wordSum1 = 0\n",
    "datesum0 = 0\n",
    "datesum1 = 0\n",
    "totalDateSum = 0\n",
    "\n",
    "for name in names:\n",
    "    fileName = os.path.join(\"data/\", name)\n",
    "    fileName=fileName+\".xml\"\n",
    "    xmldoc = minidom.parse(fileName)\n",
    "    itemlist = xmldoc.getElementsByTagName('TEXT')\n",
    "    total+=len(itemlist)\n",
    "\n",
    "    row=df.loc[df['subject'] == name]\n",
    "    \n",
    "    datelist = xmldoc.getElementsByTagName('DATE')\n",
    "    firstDate=datelist[0].firstChild.nodeValue\n",
    "    lastDate=datelist[len(datelist)-1].firstChild.nodeValue\n",
    "    fD=datetime.strptime(firstDate, '%Y-%m-%d %H:%M:%S') #2018-01-14 13:47:07\n",
    "    lD=datetime.strptime(lastDate, '%Y-%m-%d %H:%M:%S')\n",
    "    diff=lD-fD\n",
    "    totalDateSum += diff.days\n",
    "    summ=0\n",
    "    for i in range(0,len(itemlist)):\n",
    "        s=(itemlist[i].firstChild.nodeValue)\n",
    "        summ+=len(s.split())\n",
    "        \n",
    "    if(row[\"group\"].values[0]==\"0\"):\n",
    "        total0+=len(itemlist)\n",
    "        t0+=1\n",
    "        wordSum0+=summ\n",
    "        datesum0+=diff.days\n",
    "    elif(row[\"group\"].values[0]==\"1\"):\n",
    "        total1+=len(itemlist)\n",
    "        t1+=1\n",
    "        wordSum1+=summ\n",
    "        datesum1+=diff.days\n",
    "    else:\n",
    "        print(\"Something went wrong\")\n",
    "        break\n",
    "\n",
    "print(\"Number of messages: {}\".format(total))\n",
    "print(\"Number of messages from not depressed: {}\".format(total0))\n",
    "print(\"Number of messages from depressed: {}\".format(total1))\n",
    "print(\"Number of not depressed users: {}\".format(t0))\n",
    "print(\"Number of depressed users: {}\".format(t1))\n",
    "\n",
    "print(\"Avg message count: {}\".format(round(total/(t0+t1)),0))\n",
    "print(\"Avg message count not depressed: {}\".format(round(total0/t0),0))\n",
    "print(\"Avg message count depressed: {}\".format(round(total1/t1),0))\n",
    "\n",
    "print(\"Avg word count: {}\".format(round((wordSum0+wordSum1)/total),0))\n",
    "print(\"Avg word count not depressed: {}\".format(round(wordSum0/total0),0))\n",
    "print(\"Avg word count depressed: {}\".format(round(wordSum1/total1),0))\n",
    "\n",
    "print(\"Avg message history: {} days\".format(round(totalDateSum/(t0+t1),0)))\n",
    "print(\"Avg message history not depressed: {} days\".format(round(datesum0/t0,0)))\n",
    "print(\"Avg message history depressed: {} days\".format(round(datesum1/t1,0)))"
   ]
  },
  {
   "cell_type": "markdown",
   "metadata": {},
   "source": [
    "### Data preprocessing"
   ]
  },
  {
   "cell_type": "code",
   "execution_count": 72,
   "metadata": {},
   "outputs": [],
   "source": [
    "stopword_list = stopwords.words('english')\n",
    "\n",
    "def remove_whitespaces(text):\n",
    "    \"\"\"This function removes whitespaces)\"\"\"\n",
    "    return ' '.join(text.split())\n",
    "\n",
    "\n",
    "def lowercase_text(text):\n",
    "    \"\"\"This function makes text lowercase\"\"\"\n",
    "    return str(text).lower()\n",
    "\n",
    "\n",
    "def remove_emails(text):\n",
    "    \"\"\"This function removes emails from text\"\"\"\n",
    "    return re.sub(r\"\\S*@\\S*\\s?\", ' ', str(text))\n",
    "\n",
    "\n",
    "def remove_domains(text):\n",
    "    \"\"\"This function removes .com .org .net .fi domains\n",
    "    and strings with https www from text\"\"\"\n",
    "    text = re.sub(r\"[^\\s]*\\.(com|org|net|fi)\\S*\", ' ', str(text))\n",
    "    text = re.sub('https?://\\S+|www\\.\\S+', '', text)\n",
    "    return text\n",
    "\n",
    "\n",
    "def remove_brackets(text):\n",
    "    \"\"\"This function removes content within []-brackets and <>-marks from text\"\"\"\n",
    "    text = re.sub('\\[.*?\\]', '', text)\n",
    "    text = re.sub('<.*?>+', '', text)\n",
    "    return text\n",
    "\n",
    "\n",
    "def remove_punctuation(text):\n",
    "    \"\"\"This function removes punctuation from text\"\"\"\n",
    "    return re.sub('[%s]' % re.escape(string.punctuation), ' ', text)\n",
    "\n",
    "\n",
    "def remove_numbers(text):\n",
    "    \"\"\"This function removes numbers, number series,\n",
    "    and words that have numbers in them from text\"\"\"\n",
    "    return re.sub('\\w*\\d\\w*', '', text)\n",
    "\n",
    "\n",
    "def remove_stopwords(text):\n",
    "    tknzr = TweetTokenizer()\n",
    "    text_tokens = tknzr.tokenize(text)\n",
    "    filtered_tokens = [word for word in text_tokens if word not in stopword_list]\n",
    "    filtered_text = \" \".join(filtered_tokens)\n",
    "    return filtered_text\n",
    "\n",
    "\n",
    "def remove_single_chars(text):\n",
    "    text = ' '.join([word for word in text.split() if len(word) > 1])\n",
    "    return text\n",
    "\n",
    "\n",
    "def limit_length(text):\n",
    "    text = text.split()[:50]\n",
    "    text = ' '.join(word for word in text)\n",
    "    return text\n",
    "\n",
    "\n",
    "def clean_text(text):\n",
    "    \"\"\"This function makes text lowercase, and removes domains, emails, punctuation, linebreaks,\n",
    "    text within [] and <>, and words containing numbers. Filters out stopwords and custom words.\"\"\"\n",
    "    text = limit_length(text)\n",
    "    text = remove_whitespaces(text)\n",
    "    text = lowercase_text(text)\n",
    "    text = remove_emails(text)\n",
    "    text = remove_domains(text)\n",
    "    text = remove_brackets(text)\n",
    "    text = remove_punctuation(text)\n",
    "    text = remove_stopwords(text)\n",
    "    text = remove_numbers(text)\n",
    "    text = remove_single_chars(text)\n",
    "    return text\n"
   ]
  },
  {
   "cell_type": "code",
   "execution_count": 73,
   "metadata": {},
   "outputs": [],
   "source": [
    "for i, val in df.iterrows():\n",
    "    df.at[i, \"message\"] = clean_text(val.message)"
   ]
  },
  {
   "cell_type": "code",
   "execution_count": 74,
   "metadata": {},
   "outputs": [
    {
     "data": {
      "text/html": [
       "<div>\n",
       "<style scoped>\n",
       "    .dataframe tbody tr th:only-of-type {\n",
       "        vertical-align: middle;\n",
       "    }\n",
       "\n",
       "    .dataframe tbody tr th {\n",
       "        vertical-align: top;\n",
       "    }\n",
       "\n",
       "    .dataframe thead th {\n",
       "        text-align: right;\n",
       "    }\n",
       "</style>\n",
       "<table border=\"1\" class=\"dataframe\">\n",
       "  <thead>\n",
       "    <tr style=\"text-align: right;\">\n",
       "      <th></th>\n",
       "      <th>Unnamed: 0</th>\n",
       "      <th>subject</th>\n",
       "      <th>group</th>\n",
       "      <th>message</th>\n",
       "    </tr>\n",
       "  </thead>\n",
       "  <tbody>\n",
       "    <tr>\n",
       "      <th>0</th>\n",
       "      <td>0</td>\n",
       "      <td>subject671</td>\n",
       "      <td>1</td>\n",
       "      <td>pizza place couple doors couple kids working c...</td>\n",
       "    </tr>\n",
       "    <tr>\n",
       "      <th>1</th>\n",
       "      <td>1</td>\n",
       "      <td>subject671</td>\n",
       "      <td>1</td>\n",
       "      <td>pour hot water pitcher americano shots pouring...</td>\n",
       "    </tr>\n",
       "    <tr>\n",
       "      <th>2</th>\n",
       "      <td>2</td>\n",
       "      <td>subject671</td>\n",
       "      <td>1</td>\n",
       "      <td>ombre pink drink cool lime base think lot cust...</td>\n",
       "    </tr>\n",
       "    <tr>\n",
       "      <th>3</th>\n",
       "      <td>3</td>\n",
       "      <td>subject671</td>\n",
       "      <td>1</td>\n",
       "      <td>tall americano double sleeve cup</td>\n",
       "    </tr>\n",
       "    <tr>\n",
       "      <th>4</th>\n",
       "      <td>4</td>\n",
       "      <td>subject671</td>\n",
       "      <td>1</td>\n",
       "      <td>print blank receipt paper write closing list c...</td>\n",
       "    </tr>\n",
       "  </tbody>\n",
       "</table>\n",
       "</div>"
      ],
      "text/plain": [
       "   Unnamed: 0     subject  group  \\\n",
       "0           0  subject671      1   \n",
       "1           1  subject671      1   \n",
       "2           2  subject671      1   \n",
       "3           3  subject671      1   \n",
       "4           4  subject671      1   \n",
       "\n",
       "                                             message  \n",
       "0  pizza place couple doors couple kids working c...  \n",
       "1  pour hot water pitcher americano shots pouring...  \n",
       "2  ombre pink drink cool lime base think lot cust...  \n",
       "3                   tall americano double sleeve cup  \n",
       "4  print blank receipt paper write closing list c...  "
      ]
     },
     "execution_count": 74,
     "metadata": {},
     "output_type": "execute_result"
    }
   ],
   "source": [
    "df.head()"
   ]
  },
  {
   "cell_type": "markdown",
   "metadata": {},
   "source": [
    "#### Message length"
   ]
  },
  {
   "cell_type": "code",
   "execution_count": 33,
   "metadata": {},
   "outputs": [
    {
     "data": {
      "text/html": [
       "<div>\n",
       "<style scoped>\n",
       "    .dataframe tbody tr th:only-of-type {\n",
       "        vertical-align: middle;\n",
       "    }\n",
       "\n",
       "    .dataframe tbody tr th {\n",
       "        vertical-align: top;\n",
       "    }\n",
       "\n",
       "    .dataframe thead th {\n",
       "        text-align: right;\n",
       "    }\n",
       "</style>\n",
       "<table border=\"1\" class=\"dataframe\">\n",
       "  <thead>\n",
       "    <tr style=\"text-align: right;\">\n",
       "      <th></th>\n",
       "      <th>subject</th>\n",
       "      <th>group</th>\n",
       "      <th>message</th>\n",
       "      <th>polarity</th>\n",
       "      <th>len</th>\n",
       "    </tr>\n",
       "  </thead>\n",
       "  <tbody>\n",
       "    <tr>\n",
       "      <th>0</th>\n",
       "      <td>subject671</td>\n",
       "      <td>1</td>\n",
       "      <td>pizza place couple doors couple kids working c...</td>\n",
       "      <td>0.000000</td>\n",
       "      <td>18</td>\n",
       "    </tr>\n",
       "    <tr>\n",
       "      <th>1</th>\n",
       "      <td>subject671</td>\n",
       "      <td>1</td>\n",
       "      <td>pour hot water pitcher americano shots pouring...</td>\n",
       "      <td>0.233333</td>\n",
       "      <td>18</td>\n",
       "    </tr>\n",
       "    <tr>\n",
       "      <th>2</th>\n",
       "      <td>subject671</td>\n",
       "      <td>1</td>\n",
       "      <td>ombre pink drink cool lime base think lot cust...</td>\n",
       "      <td>-0.170000</td>\n",
       "      <td>15</td>\n",
       "    </tr>\n",
       "    <tr>\n",
       "      <th>3</th>\n",
       "      <td>subject671</td>\n",
       "      <td>1</td>\n",
       "      <td>tall americano double sleeve cup</td>\n",
       "      <td>0.000000</td>\n",
       "      <td>5</td>\n",
       "    </tr>\n",
       "    <tr>\n",
       "      <th>4</th>\n",
       "      <td>subject671</td>\n",
       "      <td>1</td>\n",
       "      <td>print blank receipt paper write closing list c...</td>\n",
       "      <td>0.166667</td>\n",
       "      <td>24</td>\n",
       "    </tr>\n",
       "  </tbody>\n",
       "</table>\n",
       "</div>"
      ],
      "text/plain": [
       "      subject group                                            message  \\\n",
       "0  subject671     1  pizza place couple doors couple kids working c...   \n",
       "1  subject671     1  pour hot water pitcher americano shots pouring...   \n",
       "2  subject671     1  ombre pink drink cool lime base think lot cust...   \n",
       "3  subject671     1                   tall americano double sleeve cup   \n",
       "4  subject671     1  print blank receipt paper write closing list c...   \n",
       "\n",
       "   polarity  len  \n",
       "0  0.000000   18  \n",
       "1  0.233333   18  \n",
       "2 -0.170000   15  \n",
       "3  0.000000    5  \n",
       "4  0.166667   24  "
      ]
     },
     "execution_count": 33,
     "metadata": {},
     "output_type": "execute_result"
    }
   ],
   "source": [
    "df['polarity'] = df['message'].map(lambda text: TextBlob(text).sentiment.polarity)\n",
    "df['len'] = df['message'].apply(lambda x: len(str(x).split()))\n",
    "df.head()"
   ]
  },
  {
   "cell_type": "code",
   "execution_count": 47,
   "metadata": {},
   "outputs": [
    {
     "data": {
      "image/png": "[encoded data removed]",
      "text/plain": [
       "<Figure size 432x288 with 1 Axes>"
      ]
     },
     "metadata": {
      "needs_background": "light"
     },
     "output_type": "display_data"
    }
   ],
   "source": [
    "len_depressed = df.loc[df['group'] == \"1\", 'len']\n",
    "len_happy = df.loc[df['group'] == \"0\", 'len']\n",
    "plt.hist(len_depressed, alpha=0.5, label='Depressed', log=True)\n",
    "plt.hist(len_happy, alpha=0.5, label='Not depressed', log=True)\n",
    "plt.legend(loc='upper right')\n",
    "plt.title(\"Distribution of message lengths based on mental health\")\n",
    "plt.xlabel(\"Message length\")\n",
    "plt.ylabel(\"Number of messages\")\n",
    "plt.show()"
   ]
  },
  {
   "cell_type": "markdown",
   "metadata": {},
   "source": [
    "#### Polarity"
   ]
  },
  {
   "cell_type": "code",
   "execution_count": 48,
   "metadata": {},
   "outputs": [
    {
     "data": {
      "image/png": "[encoded data removed]",
      "text/plain": [
       "<Figure size 432x288 with 1 Axes>"
      ]
     },
     "metadata": {
      "needs_background": "light"
     },
     "output_type": "display_data"
    }
   ],
   "source": [
    "polarity_depressed = df.loc[df['group'] == \"1\", 'polarity']\n",
    "polarity_happy = df.loc[df['group'] == \"0\", 'polarity']\n",
    "\n",
    "plt.hist(polarity_depressed, alpha=0.5, label='Depressed', log=True)\n",
    "plt.hist(polarity_happy, alpha=0.5, label='Not depressed', log=True)\n",
    "plt.legend(loc='upper right')\n",
    "plt.title(\"Distribution of sentiment polarity of messages based on mental health\")\n",
    "plt.xlabel(\"Polarity\")\n",
    "plt.ylabel(\"Number of messages\")\n",
    "plt.show()"
   ]
  },
  {
   "cell_type": "markdown",
   "metadata": {},
   "source": [
    "#### Most common words and ngrams"
   ]
  },
  {
   "cell_type": "code",
   "execution_count": null,
   "metadata": {},
   "outputs": [],
   "source": [
    "df_happy = df.loc[df['group'] == \"0\"]\n",
    "df_depressed = df.loc[df['group'] == \"1\"]\n",
    "\n",
    "def get_top_n_words(corpus, n=None):\n",
    "    vec = CountVectorizer(stop_words = 'english').fit(corpus)\n",
    "    bag_of_words = vec.transform(corpus)\n",
    "    sum_words = bag_of_words.sum(axis=0) \n",
    "    words_freq = [(word, sum_words[0, idx]) for word, idx in vec.vocabulary_.items()]\n",
    "    words_freq =sorted(words_freq, key = lambda x: x[1], reverse=True)\n",
    "    return words_freq[:n]\n",
    "\n",
    "top_words_happy = get_top_n_words(df_happy['message'], 50)\n",
    "top_words_depressed = get_top_n_words(df_depressed['message'], 50)\n",
    "features_rank_happy = np.array(sorted(top_words_happy, key=lambda x:x[1], reverse=True))\n",
    "features_rank_depressed = np.array(sorted(top_words_depressed, key=lambda x:x[1], reverse=True))"
   ]
  },
  {
   "cell_type": "code",
   "execution_count": 52,
   "metadata": {},
   "outputs": [
    {
     "data": {
      "image/png": "[encoded data removed]",
      "text/plain": [
       "<Figure size 432x288 with 1 Axes>"
      ]
     },
     "metadata": {
      "needs_background": "light"
     },
     "output_type": "display_data"
    },
    {
     "data": {
      "image/png": "[encoded data removed]",
      "text/plain": [
       "<Figure size 432x288 with 1 Axes>"
      ]
     },
     "metadata": {
      "needs_background": "light"
     },
     "output_type": "display_data"
    }
   ],
   "source": [
    "n = 20\n",
    "plt.barh(-np.arange(n), features_rank_happy[:n, 1].astype(float), height=.8)\n",
    "plt.yticks(ticks=-np.arange(n), labels=features_rank_happy[:n, 0])\n",
    "plt.title(\"Most common words for not depressed\")\n",
    "plt.show()\n",
    "\n",
    "plt.barh(-np.arange(n), features_rank_depressed[:n, 1].astype(float), height=.8)\n",
    "plt.yticks(ticks=-np.arange(n), labels=features_rank_depressed[:n, 0])\n",
    "plt.title(\"Most common words for depressed\")\n",
    "plt.show()"
   ]
  },
  {
   "cell_type": "code",
   "execution_count": 53,
   "metadata": {},
   "outputs": [],
   "source": [
    "def get_top_n_bigram(corpus, n=None):\n",
    "    vec = CountVectorizer(ngram_range=(2, 2), stop_words='english').fit(corpus)\n",
    "    bag_of_words = vec.transform(corpus)\n",
    "    sum_words = bag_of_words.sum(axis=0) \n",
    "    words_freq = [(word, sum_words[0, idx]) for word, idx in vec.vocabulary_.items()]\n",
    "    words_freq =sorted(words_freq, key = lambda x: x[1], reverse=True)\n",
    "    return words_freq[:n]\n",
    "\n",
    "top_bigrams_happy = get_top_n_bigram(df_happy['message'], 50)\n",
    "top_bigrams_depressed = get_top_n_bigram(df_depressed['message'], 50)\n",
    "bi_features_rank_happy = np.array(sorted(top_bigrams_happy, key=lambda x:x[1], reverse=True))\n",
    "bi_features_rank_depressed = np.array(sorted(top_bigrams_depressed, key=lambda x:x[1], reverse=True))"
   ]
  },
  {
   "cell_type": "code",
   "execution_count": 78,
   "metadata": {},
   "outputs": [
    {
     "data": {
      "image/png": "[encoded data removed]",
      "text/plain": [
       "<Figure size 432x288 with 1 Axes>"
      ]
     },
     "metadata": {
      "needs_background": "light"
     },
     "output_type": "display_data"
    },
    {
     "data": {
      "image/png": "[encoded data removed]",
      "text/plain": [
       "<Figure size 432x288 with 1 Axes>"
      ]
     },
     "metadata": {
      "needs_background": "light"
     },
     "output_type": "display_data"
    }
   ],
   "source": [
    "n = 20\n",
    "plt.barh(-np.arange(n), bi_features_rank_happy[:n, 1].astype(float), height=.8)\n",
    "plt.yticks(ticks=-np.arange(n), labels=bi_features_rank_happy[:n, 0])\n",
    "plt.title(\"Most common bigrams for not depressed\")\n",
    "plt.show()\n",
    "\n",
    "plt.barh(-np.arange(n), bi_features_rank_depressed[:n, 1].astype(float), height=.8)\n",
    "plt.yticks(ticks=-np.arange(n), labels=bi_features_rank_depressed[:n, 0])\n",
    "plt.title(\"Most common bigrams for depressed\")\n",
    "plt.show()"
   ]
  },
  {
   "cell_type": "code",
   "execution_count": 55,
   "metadata": {},
   "outputs": [],
   "source": [
    "def get_top_n_trigram(corpus, n=None):\n",
    "    vec = CountVectorizer(ngram_range=(3, 3), stop_words='english').fit(corpus)\n",
    "    bag_of_words = vec.transform(corpus)\n",
    "    sum_words = bag_of_words.sum(axis=0) \n",
    "    words_freq = [(word, sum_words[0, idx]) for word, idx in vec.vocabulary_.items()]\n",
    "    words_freq =sorted(words_freq, key = lambda x: x[1], reverse=True)\n",
    "    return words_freq[:n]\n",
    "\n",
    "top_trigrams_happy = get_top_n_trigram(df_happy['message'], 50)\n",
    "top_trirams_depressed = get_top_n_trigram(df_depressed['message'], 50)\n",
    "tri_features_rank_happy = np.array(sorted(top_trigrams_happy, key=lambda x:x[1], reverse=True))\n",
    "tri_features_rank_depressed = np.array(sorted(top_trirams_depressed, key=lambda x:x[1], reverse=True))"
   ]
  },
  {
   "cell_type": "code",
   "execution_count": 79,
   "metadata": {},
   "outputs": [
    {
     "data": {
      "image/png": "[encoded data removed]",
      "text/plain": [
       "<Figure size 432x288 with 1 Axes>"
      ]
     },
     "metadata": {
      "needs_background": "light"
     },
     "output_type": "display_data"
    },
    {
     "data": {
      "image/png": "[encoded data removed]",
      "text/plain": [
       "<Figure size 432x288 with 1 Axes>"
      ]
     },
     "metadata": {
      "needs_background": "light"
     },
     "output_type": "display_data"
    }
   ],
   "source": [
    "n = 20\n",
    "plt.barh(-np.arange(n), tri_features_rank_happy[:n, 1].astype(float), height=.8)\n",
    "plt.yticks(ticks=-np.arange(n), labels=tri_features_rank_happy[:n, 0])\n",
    "plt.title(\"Most common trigrams for not depressed\")\n",
    "plt.show()\n",
    "\n",
    "plt.barh(-np.arange(n), tri_features_rank_depressed[:n, 1].astype(float), height=.8)\n",
    "plt.yticks(ticks=-np.arange(n), labels=tri_features_rank_depressed[:n, 0])\n",
    "plt.title(\"Most common trigrams for depressed\")\n",
    "plt.show()"
   ]
  },
  {
   "cell_type": "markdown",
   "metadata": {},
   "source": [
    "There is still some need for improvement in data cleansing."
   ]
  },
  {
   "cell_type": "code",
   "execution_count": 97,
   "metadata": {},
   "outputs": [],
   "source": [
    "df_happy = df.loc[df['group'] == 0]\n",
    "df_depressed = df.loc[df['group'] == 1]\n",
    "top_words_happy = get_top_n_words(df_happy['message'], 9000)\n",
    "top_words_depressed = get_top_n_words(df_depressed['message'], 9000)"
   ]
  },
  {
   "cell_type": "code",
   "execution_count": 108,
   "metadata": {},
   "outputs": [
    {
     "name": "stdout",
     "output_type": "stream",
     "text": [
      "How commonly depressed and not depressed people use some specific words:\n",
      "Not depressed: love is 18. (count: 2491)\n",
      "Depressed: love is 10. (count: 228)\n",
      "______________________________\n",
      "Not depressed: game is 27. (count: 2225)\n",
      "Depressed: game is 40. (count: 125)\n",
      "______________________________\n",
      "Not depressed: feel is 42. (count: 1680)\n",
      "Depressed: feel is 9. (count: 300)\n",
      "______________________________\n",
      "Not depressed: help is 76. (count: 1144)\n",
      "Depressed: help is 48. (count: 115)\n",
      "______________________________\n",
      "Not depressed: sorry is 80. (count: 1089)\n",
      "Depressed: sorry is 65. (count: 100)\n",
      "______________________________\n",
      "Not depressed: kind is 89. (count: 1028)\n",
      "Depressed: kind is 33. (count: 128)\n",
      "______________________________\n",
      "Not depressed: live is 108. (count: 923)\n",
      "Depressed: live is 96. (count: 75)\n",
      "______________________________\n",
      "Not depressed: friend is 126. (count: 817)\n",
      "Depressed: friend is 81. (count: 84)\n",
      "______________________________\n",
      "Not depressed: school is 144. (count: 748)\n",
      "Depressed: school is 43. (count: 120)\n",
      "______________________________\n",
      "Not depressed: happy is 175. (count: 658)\n",
      "Depressed: happy is 131. (count: 61)\n",
      "______________________________\n",
      "Not depressed: movie is 202. (count: 609)\n",
      "Depressed: movie is 360. (count: 27)\n",
      "______________________________\n",
      "Not depressed: family is 216. (count: 590)\n",
      "Depressed: family is 142. (count: 57)\n",
      "______________________________\n",
      "Not depressed: car is 258. (count: 510)\n",
      "Depressed: car is 578. (count: 18)\n",
      "______________________________\n",
      "Not depressed: kill is 311. (count: 443)\n",
      "Depressed: kill is 442. (count: 23)\n",
      "______________________________\n",
      "Not depressed: perfect is 327. (count: 426)\n",
      "Depressed: perfect is 438. (count: 23)\n",
      "______________________________\n",
      "Not depressed: parents is 368. (count: 385)\n",
      "Depressed: parents is 88. (count: 80)\n",
      "______________________________\n",
      "Not depressed: death is 423. (count: 344)\n",
      "Depressed: death is 363. (count: 27)\n",
      "______________________________\n",
      "Not depressed: advice is 430. (count: 339)\n",
      "Depressed: advice is 194. (count: 45)\n",
      "______________________________\n",
      "Not depressed: sad is 496. (count: 303)\n",
      "Depressed: sad is 199. (count: 44)\n",
      "______________________________\n",
      "Not depressed: football is 898. (count: 182)\n",
      "Depressed: football is 1972. (count: 6)\n",
      "______________________________\n",
      "Not depressed: animal is 1053. (count: 156)\n",
      "Depressed: animal is 1081. (count: 10)\n",
      "______________________________\n",
      "Not depressed: success is 1187. (count: 142)\n",
      "Depressed: success is 3530. (count: 3)\n",
      "______________________________\n",
      "Not depressed: suicide is 1322. (count: 129)\n",
      "Depressed: suicide is 760. (count: 14)\n",
      "______________________________\n",
      "Not depressed: depression is 1528. (count: 108)\n",
      "Depressed: depression is 265. (count: 35)\n",
      "______________________________\n",
      "Not depressed: anxiety is 1860. (count: 88)\n",
      "Depressed: anxiety is 133. (count: 61)\n",
      "______________________________\n",
      "Not depressed: therapy is 1898. (count: 86)\n",
      "Depressed: therapy is 264. (count: 35)\n",
      "______________________________\n",
      "Not depressed: joy is 4033. (count: 36)\n",
      "Depressed: joy is 569. (count: 18)\n",
      "______________________________\n",
      "Not depressed: lonely is 4148. (count: 35)\n",
      "Depressed: lonely is 1933. (count: 6)\n",
      "______________________________\n"
     ]
    }
   ],
   "source": [
    "word_list=[\"happy\", \"sad\", \"love\", \"feel\", \"live\", \"kill\", \"death\", \"loneliness\", \"lonely\", \"anxiety\", \"depression\", \"suicide\", \n",
    "           \"advice\", \"therapy\", \"friend\", \"me\", \"family\", \"parents\", \"car\", \"football\", \"movie\", \"success\", \"help\", \"school\", \"kind\", \"sorry\",\n",
    "           \"joy\", \"perfect\", \"animal\", \"movie\", \"game\"\n",
    "          ]\n",
    "i=0\n",
    "print(\"How commonly depressed and not depressed people use some specific words:\")\n",
    "for word, freq in top_words_happy:\n",
    "    i+=1\n",
    "    if(word in word_list):\n",
    "        print(\"Not depressed: {} is {}. (count: {})\".format(word, i, freq))\n",
    "        \n",
    "        j=0\n",
    "        for word2, freq2 in top_words_depressed:\n",
    "            j+=1\n",
    "            if(word2 == word):\n",
    "                print(\"Depressed: {} is {}. (count: {})\".format(word, j, freq2))\n",
    "                break\n",
    "        print(\"_\"*30)"
   ]
  },
  {
   "cell_type": "markdown",
   "metadata": {},
   "source": [
    "It can be be seen that depressed users discuss more commonly about emotions, relationships, and topics such as mental disorders."
   ]
  },
  {
   "cell_type": "markdown",
   "metadata": {},
   "source": [
    "### Selecting k best features"
   ]
  },
  {
   "cell_type": "code",
   "execution_count": null,
   "metadata": {},
   "outputs": [],
   "source": [
    "from sklearn.feature_selection import SelectKBest, chi2\n",
    "X_new = SelectKBest(chi2, k=20).fit_transform(X, y)"
   ]
  },
  {
   "cell_type": "markdown",
   "metadata": {},
   "source": [
    "## Categorization"
   ]
  },
  {
   "cell_type": "markdown",
   "metadata": {},
   "source": [
    "### Message categorization"
   ]
  },
  {
   "cell_type": "code",
   "execution_count": 199,
   "metadata": {},
   "outputs": [],
   "source": [
    "x_training_data, x_validation_data, y_training_data, y_validation_data = train_test_split(df[\"message\"].values.astype('U'), df[\"group\"], test_size=0.3, random_state=0)  \n",
    "model = Pipeline([('vect', TfidfVectorizer()),\n",
    "                            ('clf-lin-svm', LinearSVC(random_state=0))])\n",
    "model = model.fit(x_training_data, y_training_data)"
   ]
  },
  {
   "cell_type": "code",
   "execution_count": 200,
   "metadata": {},
   "outputs": [],
   "source": [
    "pred = model.predict(x_validation_data)"
   ]
  },
  {
   "cell_type": "code",
   "execution_count": 201,
   "metadata": {},
   "outputs": [
    {
     "name": "stdout",
     "output_type": "stream",
     "text": [
      "[[36223   113]\n",
      " [ 1843   204]]\n",
      "0.9490399395565745\n",
      "(0.9351554549090215, 0.9490399395565745, 0.9309858494080593, None)\n",
      "(0.9490399395565745, 0.9490399395565745, 0.9490399395565745, None)\n",
      "(0.7975586069090361, 0.5482740863271034, 0.5731496083083842, None)\n"
     ]
    }
   ],
   "source": [
    "print(confusion_matrix(y_validation_data,pred))\n",
    "print(accuracy_score(y_validation_data, pred, normalize=True))\n",
    "print(precision_recall_fscore_support(y_validation_data, pred, average='weighted'))\n",
    "print(precision_recall_fscore_support(y_validation_data, pred, average='micro'))\n",
    "print(precision_recall_fscore_support(y_validation_data, pred, average='macro'))"
   ]
  },
  {
   "cell_type": "markdown",
   "metadata": {},
   "source": [
    "### User categorization"
   ]
  },
  {
   "cell_type": "code",
   "execution_count": 158,
   "metadata": {},
   "outputs": [],
   "source": [
    "df_combined_messages = df.groupby(['subject', 'group'])['message'].agg(lambda x: ' '.join(x)).reset_index()"
   ]
  },
  {
   "cell_type": "code",
   "execution_count": 161,
   "metadata": {},
   "outputs": [
    {
     "data": {
      "text/html": [
       "<div>\n",
       "<style scoped>\n",
       "    .dataframe tbody tr th:only-of-type {\n",
       "        vertical-align: middle;\n",
       "    }\n",
       "\n",
       "    .dataframe tbody tr th {\n",
       "        vertical-align: top;\n",
       "    }\n",
       "\n",
       "    .dataframe thead th {\n",
       "        text-align: right;\n",
       "    }\n",
       "</style>\n",
       "<table border=\"1\" class=\"dataframe\">\n",
       "  <thead>\n",
       "    <tr style=\"text-align: right;\">\n",
       "      <th></th>\n",
       "      <th>subject</th>\n",
       "      <th>group</th>\n",
       "      <th>message</th>\n",
       "    </tr>\n",
       "  </thead>\n",
       "  <tbody>\n",
       "    <tr>\n",
       "      <th>0</th>\n",
       "      <td>subject0</td>\n",
       "      <td>0</td>\n",
       "      <td>little late agree thought saying bad overall s...</td>\n",
       "    </tr>\n",
       "    <tr>\n",
       "      <th>1</th>\n",
       "      <td>subject1027</td>\n",
       "      <td>0</td>\n",
       "      <td>goodbye          jub jub want rub rub  ...</td>\n",
       "    </tr>\n",
       "    <tr>\n",
       "      <th>2</th>\n",
       "      <td>subject1055</td>\n",
       "      <td>0</td>\n",
       "      <td>hi everyone leah remini author troublemaker su...</td>\n",
       "    </tr>\n",
       "    <tr>\n",
       "      <th>3</th>\n",
       "      <td>subject1064</td>\n",
       "      <td>1</td>\n",
       "      <td>thinking going rtx london year live england lo...</td>\n",
       "    </tr>\n",
       "    <tr>\n",
       "      <th>4</th>\n",
       "      <td>subject1089</td>\n",
       "      <td>0</td>\n",
       "      <td>overly populated area world something missing ...</td>\n",
       "    </tr>\n",
       "  </tbody>\n",
       "</table>\n",
       "</div>"
      ],
      "text/plain": [
       "       subject  group                                            message\n",
       "0     subject0      0  little late agree thought saying bad overall s...\n",
       "1  subject1027      0         goodbye          jub jub want rub rub  ...\n",
       "2  subject1055      0  hi everyone leah remini author troublemaker su...\n",
       "3  subject1064      1  thinking going rtx london year live england lo...\n",
       "4  subject1089      0  overly populated area world something missing ..."
      ]
     },
     "execution_count": 161,
     "metadata": {},
     "output_type": "execute_result"
    }
   ],
   "source": [
    "df_combined_messages.head()"
   ]
  },
  {
   "cell_type": "code",
   "execution_count": 191,
   "metadata": {},
   "outputs": [
    {
     "name": "stdout",
     "output_type": "stream",
     "text": [
      "[[83  1]\n",
      " [12  6]]\n",
      "0.8725490196078431\n",
      "(0.870765148164529, 0.8725490196078431, 0.848425895497864, None)\n",
      "(0.8725490196078431, 0.8725490196078431, 0.8725490196078431, None)\n",
      "(0.8654135338345865, 0.6607142857142857, 0.7036871508379888, None)\n"
     ]
    }
   ],
   "source": [
    "model = Pipeline([(\"vectorizer\", TfidfVectorizer(max_features=1000)),\n",
    "                     ('clf-lin-svm', SGDClassifier(random_state=0))])\n",
    "\n",
    "model = model.fit(x_training_data, y_training_data)\n",
    "\n",
    "pred = model.predict(x_validation_data)\n",
    "\n",
    "print(confusion_matrix(y_validation_data,pred))\n",
    "print(accuracy_score(y_validation_data, pred, normalize=True))\n",
    "print(precision_recall_fscore_support(y_validation_data, pred, average='weighted'))\n",
    "print(precision_recall_fscore_support(y_validation_data, pred, average='micro'))\n",
    "print(precision_recall_fscore_support(y_validation_data, pred, average='macro'))"
   ]
  }
 ],
 "metadata": {
  "kernelspec": {
   "display_name": "Python 3",
   "language": "python",
   "name": "python3"
  },
  "language_info": {
   "codemirror_mode": {
    "name": "ipython",
    "version": 3
   },
   "file_extension": ".py",
   "mimetype": "text/x-python",
   "name": "python",
   "nbconvert_exporter": "python",
   "pygments_lexer": "ipython3",
   "version": "3.7.7"
  }
 },
 "nbformat": 4,
 "nbformat_minor": 4
}
