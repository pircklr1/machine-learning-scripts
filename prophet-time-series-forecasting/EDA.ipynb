{
 "cells": [
  {
   "cell_type": "markdown",
   "metadata": {},
   "source": [
    "# Exploratory Data Analysis"
   ]
  },
  {
   "cell_type": "code",
   "execution_count": 3,
   "metadata": {},
   "outputs": [],
   "source": [
    "from cslib import fetch_data, convert_to_ts\n",
    "import matplotlib.pyplot as plt"
   ]
  },
  {
   "cell_type": "markdown",
   "metadata": {},
   "source": [
    "## Load and transform data"
   ]
  },
  {
   "cell_type": "code",
   "execution_count": 5,
   "metadata": {},
   "outputs": [
    {
     "data": {
      "text/html": [
       "<div>\n",
       "<style scoped>\n",
       "    .dataframe tbody tr th:only-of-type {\n",
       "        vertical-align: middle;\n",
       "    }\n",
       "\n",
       "    .dataframe tbody tr th {\n",
       "        vertical-align: top;\n",
       "    }\n",
       "\n",
       "    .dataframe thead th {\n",
       "        text-align: right;\n",
       "    }\n",
       "</style>\n",
       "<table border=\"1\" class=\"dataframe\">\n",
       "  <thead>\n",
       "    <tr style=\"text-align: right;\">\n",
       "      <th></th>\n",
       "      <th>country</th>\n",
       "      <th>customer_id</th>\n",
       "      <th>day</th>\n",
       "      <th>invoice</th>\n",
       "      <th>month</th>\n",
       "      <th>price</th>\n",
       "      <th>stream_id</th>\n",
       "      <th>times_viewed</th>\n",
       "      <th>year</th>\n",
       "      <th>invoice_date</th>\n",
       "    </tr>\n",
       "  </thead>\n",
       "  <tbody>\n",
       "    <tr>\n",
       "      <th>0</th>\n",
       "      <td>United Kingdom</td>\n",
       "      <td>17998.0</td>\n",
       "      <td>28</td>\n",
       "      <td>489562</td>\n",
       "      <td>11</td>\n",
       "      <td>5.95</td>\n",
       "      <td>84656</td>\n",
       "      <td>1</td>\n",
       "      <td>2017</td>\n",
       "      <td>2017-11-28</td>\n",
       "    </tr>\n",
       "    <tr>\n",
       "      <th>1</th>\n",
       "      <td>United Kingdom</td>\n",
       "      <td>13085.0</td>\n",
       "      <td>28</td>\n",
       "      <td>489434</td>\n",
       "      <td>11</td>\n",
       "      <td>6.75</td>\n",
       "      <td>79323W</td>\n",
       "      <td>12</td>\n",
       "      <td>2017</td>\n",
       "      <td>2017-11-28</td>\n",
       "    </tr>\n",
       "    <tr>\n",
       "      <th>2</th>\n",
       "      <td>United Kingdom</td>\n",
       "      <td>13085.0</td>\n",
       "      <td>28</td>\n",
       "      <td>489434</td>\n",
       "      <td>11</td>\n",
       "      <td>2.10</td>\n",
       "      <td>22041</td>\n",
       "      <td>21</td>\n",
       "      <td>2017</td>\n",
       "      <td>2017-11-28</td>\n",
       "    </tr>\n",
       "    <tr>\n",
       "      <th>3</th>\n",
       "      <td>United Kingdom</td>\n",
       "      <td>13085.0</td>\n",
       "      <td>28</td>\n",
       "      <td>489434</td>\n",
       "      <td>11</td>\n",
       "      <td>1.25</td>\n",
       "      <td>21232</td>\n",
       "      <td>5</td>\n",
       "      <td>2017</td>\n",
       "      <td>2017-11-28</td>\n",
       "    </tr>\n",
       "    <tr>\n",
       "      <th>4</th>\n",
       "      <td>United Kingdom</td>\n",
       "      <td>13085.0</td>\n",
       "      <td>28</td>\n",
       "      <td>489434</td>\n",
       "      <td>11</td>\n",
       "      <td>1.65</td>\n",
       "      <td>22064</td>\n",
       "      <td>17</td>\n",
       "      <td>2017</td>\n",
       "      <td>2017-11-28</td>\n",
       "    </tr>\n",
       "  </tbody>\n",
       "</table>\n",
       "</div>"
      ],
      "text/plain": [
       "          country  customer_id  day invoice  month  price stream_id  \\\n",
       "0  United Kingdom      17998.0   28  489562     11   5.95     84656   \n",
       "1  United Kingdom      13085.0   28  489434     11   6.75    79323W   \n",
       "2  United Kingdom      13085.0   28  489434     11   2.10     22041   \n",
       "3  United Kingdom      13085.0   28  489434     11   1.25     21232   \n",
       "4  United Kingdom      13085.0   28  489434     11   1.65     22064   \n",
       "\n",
       "   times_viewed  year invoice_date  \n",
       "0             1  2017   2017-11-28  \n",
       "1            12  2017   2017-11-28  \n",
       "2            21  2017   2017-11-28  \n",
       "3             5  2017   2017-11-28  \n",
       "4            17  2017   2017-11-28  "
      ]
     },
     "execution_count": 5,
     "metadata": {},
     "output_type": "execute_result"
    }
   ],
   "source": [
    "# Fetch training data\n",
    "df = fetch_data(\"cs_train\")\n",
    "df.head()"
   ]
  },
  {
   "cell_type": "code",
   "execution_count": 6,
   "metadata": {},
   "outputs": [],
   "source": [
    "# Transform training data to timeseries dataframe\n",
    "df_ts = convert_to_ts(df)\n",
    "df_ts.head()\n",
    "\n",
    "# Save dataframe\n",
    "df_ts.to_csv(\"data/cs_train/ts_train_data\")"
   ]
  },
  {
   "cell_type": "markdown",
   "metadata": {},
   "source": [
    "## Data Analysis"
   ]
  },
  {
   "cell_type": "markdown",
   "metadata": {},
   "source": [
    "### Number of unique days and the dataset span"
   ]
  },
  {
   "cell_type": "code",
   "execution_count": 7,
   "metadata": {},
   "outputs": [
    {
     "name": "stdout",
     "output_type": "stream",
     "text": [
      "Number of unique days:  495\n",
      "The dataset spans for  606 days 00:00:00\n"
     ]
    }
   ],
   "source": [
    "print(\"Number of unique days: \", df.invoice_date.nunique())\n",
    "\n",
    "first_day=df_ts['date'].iloc[0] # first element \n",
    "last_day=df_ts['date'].iloc[-1] # last element \n",
    "total_days = (last_day - first_day)\n",
    "print(\"The dataset spans for \", total_days)\n"
   ]
  },
  {
   "cell_type": "markdown",
   "metadata": {},
   "source": [
    "### Countries by total revenue"
   ]
  },
  {
   "cell_type": "code",
   "execution_count": 17,
   "metadata": {},
   "outputs": [
    {
     "data": {
      "text/html": [
       "<div>\n",
       "<style scoped>\n",
       "    .dataframe tbody tr th:only-of-type {\n",
       "        vertical-align: middle;\n",
       "    }\n",
       "\n",
       "    .dataframe tbody tr th {\n",
       "        vertical-align: top;\n",
       "    }\n",
       "\n",
       "    .dataframe thead th {\n",
       "        text-align: right;\n",
       "    }\n",
       "</style>\n",
       "<table border=\"1\" class=\"dataframe\">\n",
       "  <thead>\n",
       "    <tr style=\"text-align: right;\">\n",
       "      <th></th>\n",
       "      <th>customer_id</th>\n",
       "      <th>day</th>\n",
       "      <th>month</th>\n",
       "      <th>price</th>\n",
       "      <th>times_viewed</th>\n",
       "      <th>year</th>\n",
       "    </tr>\n",
       "    <tr>\n",
       "      <th>country</th>\n",
       "      <th></th>\n",
       "      <th></th>\n",
       "      <th></th>\n",
       "      <th></th>\n",
       "      <th></th>\n",
       "      <th></th>\n",
       "    </tr>\n",
       "  </thead>\n",
       "  <tbody>\n",
       "    <tr>\n",
       "      <th>United Kingdom</th>\n",
       "      <td>2.759899e+09</td>\n",
       "      <td>3455741</td>\n",
       "      <td>2308092</td>\n",
       "      <td>931655.782</td>\n",
       "      <td>1173070</td>\n",
       "      <td>464575938</td>\n",
       "    </tr>\n",
       "    <tr>\n",
       "      <th>France</th>\n",
       "      <td>5.556953e+07</td>\n",
       "      <td>64096</td>\n",
       "      <td>43982</td>\n",
       "      <td>26648.170</td>\n",
       "      <td>36324</td>\n",
       "      <td>8944170</td>\n",
       "    </tr>\n",
       "    <tr>\n",
       "      <th>Germany</th>\n",
       "      <td>5.431722e+07</td>\n",
       "      <td>58183</td>\n",
       "      <td>42434</td>\n",
       "      <td>18292.630</td>\n",
       "      <td>35894</td>\n",
       "      <td>8657472</td>\n",
       "    </tr>\n",
       "  </tbody>\n",
       "</table>\n",
       "</div>"
      ],
      "text/plain": [
       "                 customer_id      day    month       price  times_viewed  \\\n",
       "country                                                                    \n",
       "United Kingdom  2.759899e+09  3455741  2308092  931655.782       1173070   \n",
       "France          5.556953e+07    64096    43982   26648.170         36324   \n",
       "Germany         5.431722e+07    58183    42434   18292.630         35894   \n",
       "\n",
       "                     year  \n",
       "country                    \n",
       "United Kingdom  464575938  \n",
       "France            8944170  \n",
       "Germany           8657472  "
      ]
     },
     "execution_count": 17,
     "metadata": {},
     "output_type": "execute_result"
    }
   ],
   "source": [
    "df_grouped = df.groupby(\"country\").sum()\n",
    "df_grouped.sort_values('price', ascending=False).head(3)"
   ]
  },
  {
   "cell_type": "markdown",
   "metadata": {},
   "source": [
    "### Number of missed values by feature"
   ]
  },
  {
   "cell_type": "code",
   "execution_count": 10,
   "metadata": {},
   "outputs": [
    {
     "data": {
      "text/plain": [
       "country              0\n",
       "customer_id     189762\n",
       "day                  0\n",
       "invoice              0\n",
       "month                0\n",
       "price                0\n",
       "stream_id            0\n",
       "times_viewed         0\n",
       "year                 0\n",
       "invoice_date         0\n",
       "dtype: int64"
      ]
     },
     "execution_count": 10,
     "metadata": {},
     "output_type": "execute_result"
    }
   ],
   "source": [
    "df.isna().sum()"
   ]
  },
  {
   "cell_type": "markdown",
   "metadata": {},
   "source": [
    "### Revenue time series for all countries"
   ]
  },
  {
   "cell_type": "code",
   "execution_count": 14,
   "metadata": {},
   "outputs": [
    {
     "data": {
      "text/plain": [
       "[<matplotlib.lines.Line2D at 0x134f83b10>]"
      ]
     },
     "execution_count": 14,
     "metadata": {},
     "output_type": "execute_result"
    },
    {
     "data": {
      "image/png": "[encoded data removed]",
      "text/plain": [
       "<Figure size 432x288 with 1 Axes>"
      ]
     },
     "metadata": {
      "needs_background": "light"
     },
     "output_type": "display_data"
    }
   ],
   "source": [
    "plt.plot(df_ts.date, df_ts.revenue, 'r')"
   ]
  },
  {
   "cell_type": "markdown",
   "metadata": {},
   "source": [
    "## Data Analysis for validation dataset"
   ]
  },
  {
   "cell_type": "code",
   "execution_count": 12,
   "metadata": {},
   "outputs": [
    {
     "name": "stdout",
     "output_type": "stream",
     "text": [
      "          country  customer_id  day invoice  month  price stream_id  \\\n",
      "0  United Kingdom          NaN    1  562417      8   8.29     40016   \n",
      "1           Spain      12502.0    1  562273      8   3.95     23012   \n",
      "2  United Kingdom      12971.0    1  562272      8   1.25     21447   \n",
      "3  United Kingdom      12971.0    1  562272      8   2.95     22807   \n",
      "4  United Kingdom      12971.0    1  562272      8   0.85     22156   \n",
      "\n",
      "   times_viewed  year invoice_date  \n",
      "0             1  2019   2019-08-01  \n",
      "1             4  2019   2019-08-01  \n",
      "2             5  2019   2019-08-01  \n",
      "3             6  2019   2019-08-01  \n",
      "4            12  2019   2019-08-01  \n",
      "        date  purchases  unique_invoices  unique_streams  total_views  \\\n",
      "0 2019-08-01       1839               99             905        12229   \n",
      "1 2019-08-02       1455               66             842         7801   \n",
      "2 2019-08-03          0                0               0            0   \n",
      "3 2019-08-04        541               33             409         3232   \n",
      "4 2019-08-05       1490               57             830         7908   \n",
      "\n",
      "  year_month  revenue  \n",
      "0    2019-08  6477.52  \n",
      "1    2019-08  4666.74  \n",
      "2    2019-08     0.00  \n",
      "3    2019-08  1310.75  \n",
      "4    2019-08  8444.06  \n",
      "Number of unique days:  109\n",
      "The dataset spans for  121 days 00:00:00\n",
      "                 customer_id      day    month       price  times_viewed  \\\n",
      "country                                                                    \n",
      "United Kingdom  2.759899e+09  3455741  2308092  931655.782       1173070   \n",
      "France          5.556953e+07    64096    43982   26648.170         36324   \n",
      "Germany         5.431722e+07    58183    42434   18292.630         35894   \n",
      "\n",
      "                     year  \n",
      "country                    \n",
      "United Kingdom  464575938  \n",
      "France            8944170  \n",
      "Germany           8657472  \n",
      "country             0\n",
      "customer_id     53245\n",
      "day                 0\n",
      "invoice             0\n",
      "month               0\n",
      "price               0\n",
      "stream_id           0\n",
      "times_viewed        0\n",
      "year                0\n",
      "invoice_date        0\n",
      "dtype: int64\n"
     ]
    }
   ],
   "source": [
    "# PRUDCTION DATA\n",
    "\n",
    "# Fetch data\n",
    "df = fetch_data(\"cs_production\")\n",
    "print(df.head())\n",
    "\n",
    "# Transform data to timeseries dataframe\n",
    "df_ts = convert_to_ts(df)\n",
    "print(df_ts.head())\n",
    "\n",
    "# Save dataframe\n",
    "df_ts.to_csv(\"data/cs_production/ts_prod_data\")\n",
    "\n",
    "# Number of unique days and the dataset span\n",
    "print(\"Number of unique days: \", df.invoice_date.nunique())\n",
    "\n",
    "first_day=df_ts['date'].iloc[0] # first element \n",
    "last_day=df_ts['date'].iloc[-1] # last element \n",
    "total_days = (last_day - first_day)\n",
    "print(\"The dataset spans for \", total_days)\n",
    "\n",
    "# Countries by total revenue\n",
    "df_grouped = df.groupby(\"country\").sum()\n",
    "print(df_grouped.sort_values('price', ascending=False).head(3))\n",
    "\n",
    "# Number of missed values by feature\n",
    "print(df.isna().sum())\n"
   ]
  },
  {
   "cell_type": "code",
   "execution_count": null,
   "metadata": {},
   "outputs": [],
   "source": []
  }
 ],
 "metadata": {
  "kernelspec": {
   "display_name": "Python 3",
   "language": "python",
   "name": "python3"
  },
  "language_info": {
   "codemirror_mode": {
    "name": "ipython",
    "version": 3
   },
   "file_extension": ".py",
   "mimetype": "text/x-python",
   "name": "python",
   "nbconvert_exporter": "python",
   "pygments_lexer": "ipython3",
   "version": "3.7.7"
  }
 },
 "nbformat": 4,
 "nbformat_minor": 4
}
