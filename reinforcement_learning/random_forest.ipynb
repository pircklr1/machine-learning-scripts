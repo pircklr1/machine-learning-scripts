{
 "cells": [
  {
   "cell_type": "markdown",
   "metadata": {},
   "source": [
    "# Random Forest solution for Rock, paper, scissors\n",
    "\n",
    "This notebook provides a solution for Kaggle's RPS-competition in which AI's are competing against each other in Rock, paper, scissors. This notebook provides an agent that makes predictions using the `Random Forest Classification`, spiced with some randomness.\n",
    "\n",
    "The notebook is based on https://www.kaggle.com/jumaru/random-forest-random-rock-paper-scissors"
   ]
  },
  {
   "cell_type": "code",
   "execution_count": 1,
   "metadata": {},
   "outputs": [
    {
     "name": "stdout",
     "output_type": "stream",
     "text": [
      "Writing random_forest.py\n"
     ]
    }
   ],
   "source": [
    "#%%writefile random_forest.py\n",
    "import random\n",
    "import pandas as pd\n",
    "import numpy as np\n",
    "import time\n",
    "from sklearn.ensemble import RandomForestClassifier\n",
    "\n",
    "actions =  np.empty((0,0), dtype = int)\n",
    "observations =  np.empty((0,0), dtype = int)\n",
    "total_reward = 0\n",
    "\n",
    "def random_forest(observation, configuration):\n",
    "    global actions, observations, total_reward\n",
    "\n",
    "    if observation.step == 0:\n",
    "        action = random.randint(0,2)\n",
    "        actions = np.append(actions , [action])\n",
    "        return action\n",
    "    \n",
    "    if observation.step == 1:\n",
    "        action = random.randint(0,2)\n",
    "        actions = np.append(actions , [action])\n",
    "        observations = np.append(observations , [observation.lastOpponentAction])\n",
    "        # Keep track of score\n",
    "        winner = int((3 + actions[-1] - observation.lastOpponentAction) % 3);\n",
    "        if winner == 1:\n",
    "            total_reward = total_reward + 1\n",
    "        elif winner == 2:\n",
    "            total_reward = total_reward - 1        \n",
    "        return action\n",
    "\n",
    "    # Get Observation to make the tables (actions & obervations) even.\n",
    "    observations = np.append(observations , [observation.lastOpponentAction])\n",
    "    # Prepare Data for training\n",
    "    # :-1 as we dont have feedback yet.\n",
    "    X_train = np.vstack((actions[:-1], observations[:-1])).T\n",
    "    \n",
    "    # Create Y by rolling observations to bring future a step earlier \n",
    "    shifted_observations = np.roll(observations, -1)\n",
    "    \n",
    "    # trim rolled & last element from rolled observations\n",
    "    y_train = shifted_observations[:-1].T\n",
    "    \n",
    "    # Set the history period. Long chains here will need a lot of time\n",
    "    if len(X_train) > 25:\n",
    "        random_window_size = 10 + random.randint(0,10)\n",
    "        X_train = X_train[-random_window_size:]\n",
    "        y_train = y_train[-random_window_size:]\n",
    "   \n",
    "    # Train a classifier model\n",
    "    model = RandomForestClassifier(n_estimators=25)\n",
    "    model.fit(X_train, y_train)\n",
    "\n",
    "    # Predict\n",
    "    X_test = np.empty((0,0), dtype = int)\n",
    "    X_test = np.append(X_test, [int(actions[-1]), observation.lastOpponentAction])\n",
    "    prediction = model.predict(X_test.reshape(1, -1))\n",
    "\n",
    "    # Keep track of score\n",
    "    winner = int((3 + actions[-1] - observation.lastOpponentAction) % 3);\n",
    "    if winner == 1:\n",
    "        total_reward = total_reward + 1\n",
    "    elif winner == 2:\n",
    "        total_reward = total_reward - 1\n",
    "   \n",
    "    # Prepare action\n",
    "    action = int((prediction + 1) % 3)\n",
    "    \n",
    "    # Break the patterns of a losing strategy by adding a random action\n",
    "    if total_reward < -2:\n",
    "        win_tie = random.randint(0,1)\n",
    "        action = int((prediction + win_tie) % 3)\n",
    "\n",
    "    actions = np.append(actions , [action])\n",
    "\n",
    "    return action"
   ]
  },
  {
   "cell_type": "code",
   "execution_count": null,
   "metadata": {},
   "outputs": [],
   "source": []
  }
 ],
 "metadata": {
  "kernelspec": {
   "display_name": "Python 3",
   "language": "python",
   "name": "python3"
  },
  "language_info": {
   "codemirror_mode": {
    "name": "ipython",
    "version": 3
   },
   "file_extension": ".py",
   "mimetype": "text/x-python",
   "name": "python",
   "nbconvert_exporter": "python",
   "pygments_lexer": "ipython3",
   "version": "3.7.7"
  }
 },
 "nbformat": 4,
 "nbformat_minor": 4
}
