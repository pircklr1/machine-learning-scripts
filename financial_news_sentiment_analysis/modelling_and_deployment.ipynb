{
 "cells": [
  {
   "cell_type": "markdown",
   "metadata": {},
   "source": [
    "# Sentiment Analysis for Financial News - Modelling"
   ]
  },
  {
   "cell_type": "code",
   "execution_count": 6,
   "metadata": {},
   "outputs": [
    {
     "name": "stderr",
     "output_type": "stream",
     "text": [
      "[nltk_data] Downloading package stopwords to\n",
      "[nltk_data]     /home/dsxuser/nltk_data...\n",
      "[nltk_data]   Package stopwords is already up-to-date!\n",
      "[nltk_data] Downloading package punkt to /home/dsxuser/nltk_data...\n",
      "[nltk_data]   Package punkt is already up-to-date!\n",
      "[nltk_data] Downloading package wordnet to /home/dsxuser/nltk_data...\n",
      "[nltk_data]   Package wordnet is already up-to-date!\n"
     ]
    },
    {
     "name": "stdout",
     "output_type": "stream",
     "text": [
      "Collecting torch\n",
      "\u001b[?25l  Downloading https://files.pythonhosted.org/packages/62/01/457b49d790b6c4b9720e6f9dbbb617692f6ce8afdaadf425c055c41a7416/torch-1.5.1-cp36-cp36m-manylinux1_x86_64.whl (753.2MB)\n",
      "\u001b[K     |████████████████████████████████| 753.2MB 42kB/s  eta 0:00:011                             | 8.0MB 6.9MB/s eta 0:01:48     |█                               | 22.9MB 6.9MB/s eta 0:01:46     |█▎                              | 31.1MB 41.0MB/s eta 0:00:18     |█▋                              | 37.7MB 41.0MB/s eta 0:00:18     |███▏                            | 74.3MB 39.5MB/s eta 0:00:18��████▌                     | 247.4MB 10.8MB/s eta 0:00:47     |███████████▎                    | 265.8MB 10.8MB/s eta 0:00:46     |████████████▏                   | 286.7MB 16.2MB/s eta 0:00:29     |███████████████████▋            | 462.3MB 9.7MB/s eta 0:00:31     |████████████████████▎           | 476.7MB 9.7MB/s eta 0:00:29�█████████▍          | 503.3MB 5.5MB/s eta 0:00:46█████████████▏        | 544.7MB 44.8MB/s eta 0:00:05��        | 551.1MB 44.8MB/s eta 0:00:05��        | 557.9MB 44.8MB/s eta 0:00:05     |████████████████████████        | 564.7MB 38.1MB/s eta 0:00:05MB/s eta 0:00:03��██████▏    | 639.5MB 46.8MB/s eta 0:00:03     |███████████████████████████▎    | 641.6MB 46.8MB/s eta 0:00:03��██████████████▊   | 675.0MB 42.5MB/s eta 0:00:02██████████████████▉   | 679.5MB 42.5MB/s eta 0:00:02| 684.3MB 42.5MB/s eta 0:00:02 eta 0:00:02███████  | 704.8MB 5.3MB/s eta 0:00:10��██████████████████  | 707.6MB 5.3MB/s eta 0:00:09     |██████████████████████████████▋ | 720.3MB 41.9MB/s eta 0:00:0141.9MB/s eta 0:00:01███████████████████████████████▎| 737.0MB 5.5MB/s eta 0:00:03\n",
      "\u001b[?25hRequirement already satisfied: numpy in /opt/conda/envs/Python36/lib/python3.6/site-packages (from torch) (1.15.4)\n",
      "Requirement already satisfied: future in /opt/conda/envs/Python36/lib/python3.6/site-packages (from torch) (0.17.1)\n",
      "Installing collected packages: torch\n",
      "Successfully installed torch-1.5.1\n",
      "Collecting torchtext\n",
      "\u001b[?25l  Downloading https://files.pythonhosted.org/packages/f2/17/e7c588245aece7aa93f360894179374830daf60d7ed0bbb59332de3b3b61/torchtext-0.6.0-py3-none-any.whl (64kB)\n",
      "\u001b[K     |████████████████████████████████| 71kB 7.3MB/s eta 0:00:011\n",
      "\u001b[?25hRequirement already satisfied: torch in /opt/conda/envs/Python36/lib/python3.6/site-packages (from torchtext) (1.5.1)\n",
      "Requirement already satisfied: six in /opt/conda/envs/Python36/lib/python3.6/site-packages (from torchtext) (1.12.0)\n",
      "Requirement already satisfied: tqdm in /opt/conda/envs/Python36/lib/python3.6/site-packages (from torchtext) (4.31.1)\n",
      "Collecting sentencepiece (from torchtext)\n",
      "\u001b[?25l  Downloading https://files.pythonhosted.org/packages/68/e5/0366f50a00db181f4b7f3bdc408fc7c4177657f5bf45cb799b79fb4ce15c/sentencepiece-0.1.92-cp36-cp36m-manylinux1_x86_64.whl (1.2MB)\n",
      "\u001b[K     |████████████████████████████████| 1.2MB 15.4MB/s eta 0:00:01\n",
      "\u001b[?25hRequirement already satisfied: numpy in /opt/conda/envs/Python36/lib/python3.6/site-packages (from torchtext) (1.15.4)\n",
      "Requirement already satisfied: requests in /opt/conda/envs/Python36/lib/python3.6/site-packages (from torchtext) (2.21.0)\n",
      "Requirement already satisfied: future in /opt/conda/envs/Python36/lib/python3.6/site-packages (from torch->torchtext) (0.17.1)\n",
      "Requirement already satisfied: idna<2.9,>=2.5 in /opt/conda/envs/Python36/lib/python3.6/site-packages (from requests->torchtext) (2.8)\n",
      "Requirement already satisfied: certifi>=2017.4.17 in /opt/conda/envs/Python36/lib/python3.6/site-packages (from requests->torchtext) (2020.6.20)\n",
      "Requirement already satisfied: urllib3<1.25,>=1.21.1 in /opt/conda/envs/Python36/lib/python3.6/site-packages (from requests->torchtext) (1.24.1)\n",
      "Requirement already satisfied: chardet<3.1.0,>=3.0.2 in /opt/conda/envs/Python36/lib/python3.6/site-packages (from requests->torchtext) (3.0.4)\n",
      "Installing collected packages: sentencepiece, torchtext\n",
      "Successfully installed sentencepiece-0.1.92 torchtext-0.6.0\n"
     ]
    }
   ],
   "source": [
    "# Import packages\n",
    "import nltk\n",
    "nltk.download('stopwords')\n",
    "nltk.download('punkt')\n",
    "nltk.download('wordnet')\n",
    "from nltk.corpus import stopwords\n",
    "from string import punctuation\n",
    "from nltk.stem import WordNetLemmatizer \n",
    "from nltk.tokenize import word_tokenize\n",
    "import re\n",
    "\n",
    "import matplotlib.pyplot as plt\n",
    "import seaborn as sns\n",
    "from plotly.offline import iplot\n",
    "\n",
    "import pandas as pd\n",
    "pd.set_option('display.max_colwidth', -1)\n",
    "\n",
    "from sklearn.model_selection import train_test_split\n",
    "from sklearn.feature_extraction.text import TfidfTransformer, CountVectorizer\n",
    "from sklearn.pipeline import Pipeline\n",
    "from sklearn.linear_model import SGDClassifier\n",
    "from sklearn.metrics import accuracy_score, classification_report\n",
    "from sklearn.model_selection import GridSearchCV\n",
    "from sklearn.utils import shuffle\n",
    "from sklearn.metrics import confusion_matrix\n",
    "\n",
    "!pip install torch\n",
    "!pip install torchtext\n",
    "import torch\n",
    "from torchtext import data\n",
    "import torch.nn as nn"
   ]
  },
  {
   "cell_type": "markdown",
   "metadata": {},
   "source": [
    "## Data Processing"
   ]
  },
  {
   "cell_type": "markdown",
   "metadata": {},
   "source": [
    "### Import Data"
   ]
  },
  {
   "cell_type": "code",
   "execution_count": 7,
   "metadata": {},
   "outputs": [
    {
     "data": {
      "text/html": [
       "<div>\n",
       "<style scoped>\n",
       "    .dataframe tbody tr th:only-of-type {\n",
       "        vertical-align: middle;\n",
       "    }\n",
       "\n",
       "    .dataframe tbody tr th {\n",
       "        vertical-align: top;\n",
       "    }\n",
       "\n",
       "    .dataframe thead th {\n",
       "        text-align: right;\n",
       "    }\n",
       "</style>\n",
       "<table border=\"1\" class=\"dataframe\">\n",
       "  <thead>\n",
       "    <tr style=\"text-align: right;\">\n",
       "      <th></th>\n",
       "      <th>sentiment</th>\n",
       "      <th>title</th>\n",
       "    </tr>\n",
       "  </thead>\n",
       "  <tbody>\n",
       "    <tr>\n",
       "      <th>0</th>\n",
       "      <td>neutral</td>\n",
       "      <td>According to Gran , the company has no plans to move all production to Russia , although that is where the company is growing .</td>\n",
       "    </tr>\n",
       "    <tr>\n",
       "      <th>1</th>\n",
       "      <td>neutral</td>\n",
       "      <td>Technopolis plans to develop in stages an area of no less than 100,000 square meters in order to host companies working in computer technologies and telecommunications , the statement said .</td>\n",
       "    </tr>\n",
       "    <tr>\n",
       "      <th>2</th>\n",
       "      <td>negative</td>\n",
       "      <td>The international electronic industry company Elcoteq has laid off tens of employees from its Tallinn facility ; contrary to earlier layoffs the company contracted the ranks of its office workers , the daily Postimees reported .</td>\n",
       "    </tr>\n",
       "    <tr>\n",
       "      <th>3</th>\n",
       "      <td>positive</td>\n",
       "      <td>With the new production plant the company would increase its capacity to meet the expected increase in demand and would improve the use of raw materials and therefore increase the production profitability .</td>\n",
       "    </tr>\n",
       "    <tr>\n",
       "      <th>4</th>\n",
       "      <td>positive</td>\n",
       "      <td>According to the company 's updated strategy for the years 2009-2012 , Basware targets a long-term net sales growth in the range of 20 % -40 % with an operating profit margin of 10 % -20 % of net sales .</td>\n",
       "    </tr>\n",
       "  </tbody>\n",
       "</table>\n",
       "</div>"
      ],
      "text/plain": [
       "  sentiment  \\\n",
       "0  neutral    \n",
       "1  neutral    \n",
       "2  negative   \n",
       "3  positive   \n",
       "4  positive   \n",
       "\n",
       "                                                                                                                                                                                                                                  title  \n",
       "0  According to Gran , the company has no plans to move all production to Russia , although that is where the company is growing .                                                                                                       \n",
       "1  Technopolis plans to develop in stages an area of no less than 100,000 square meters in order to host companies working in computer technologies and telecommunications , the statement said .                                        \n",
       "2  The international electronic industry company Elcoteq has laid off tens of employees from its Tallinn facility ; contrary to earlier layoffs the company contracted the ranks of its office workers , the daily Postimees reported .  \n",
       "3  With the new production plant the company would increase its capacity to meet the expected increase in demand and would improve the use of raw materials and therefore increase the production profitability .                        \n",
       "4  According to the company 's updated strategy for the years 2009-2012 , Basware targets a long-term net sales growth in the range of 20 % -40 % with an operating profit margin of 10 % -20 % of net sales .                           "
      ]
     },
     "execution_count": 7,
     "metadata": {},
     "output_type": "execute_result"
    }
   ],
   "source": [
    "import types\n",
    "from botocore.client import Config\n",
    "import ibm_boto3\n",
    "\n",
    "def __iter__(self): return 0\n",
    "\n",
    "# Credentials and the data retrieval from IBM Cloud Object Storage has been removed for security reasons.\n",
    "client_x = ibm_boto3.client(service_name='s3',\n",
    "    ibm_api_key_id='REMOVED',\n",
    "    ibm_auth_endpoint=\"REMOVED\",\n",
    "    config=Config(signature_version='oauth'),\n",
    "    endpoint_url='REMOVED')\n",
    "\n",
    "body = client_x.get_object(Bucket='REMOVED',Key='all-data.csv')['Body']\n",
    "if not hasattr(body, \"__iter__\"): body.__iter__ = types.MethodType( __iter__, body )\n",
    "\n",
    "df = pd.read_csv(body, encoding=\"ISO-8859-1\", header=None)\n",
    "df.columns = [\"sentiment\", \"title\"]\n",
    "df.head()\n"
   ]
  },
  {
   "cell_type": "markdown",
   "metadata": {},
   "source": [
    "### Data Cleansing"
   ]
  },
  {
   "cell_type": "code",
   "execution_count": 8,
   "metadata": {},
   "outputs": [
    {
     "data": {
      "text/html": [
       "<div>\n",
       "<style scoped>\n",
       "    .dataframe tbody tr th:only-of-type {\n",
       "        vertical-align: middle;\n",
       "    }\n",
       "\n",
       "    .dataframe tbody tr th {\n",
       "        vertical-align: top;\n",
       "    }\n",
       "\n",
       "    .dataframe thead th {\n",
       "        text-align: right;\n",
       "    }\n",
       "</style>\n",
       "<table border=\"1\" class=\"dataframe\">\n",
       "  <thead>\n",
       "    <tr style=\"text-align: right;\">\n",
       "      <th></th>\n",
       "      <th>sentiment</th>\n",
       "      <th>title</th>\n",
       "    </tr>\n",
       "  </thead>\n",
       "  <tbody>\n",
       "    <tr>\n",
       "      <th>0</th>\n",
       "      <td>neutral</td>\n",
       "      <td>according gran company plan move production russia although company growing</td>\n",
       "    </tr>\n",
       "    <tr>\n",
       "      <th>1</th>\n",
       "      <td>neutral</td>\n",
       "      <td>technopolis plan develop stage area le square meter order host company working computer technology telecommunication statement said</td>\n",
       "    </tr>\n",
       "    <tr>\n",
       "      <th>2</th>\n",
       "      <td>negative</td>\n",
       "      <td>international electronic industry company elcoteq laid ten employee tallinn facility contrary earlier layoff company contracted rank office worker daily postimees reported</td>\n",
       "    </tr>\n",
       "    <tr>\n",
       "      <th>3</th>\n",
       "      <td>positive</td>\n",
       "      <td>new production plant company would increase capacity meet expected increase demand would improve use raw material therefore increase production profitability</td>\n",
       "    </tr>\n",
       "    <tr>\n",
       "      <th>4</th>\n",
       "      <td>positive</td>\n",
       "      <td>according company updated strategy year basware target long-term net sale growth range operating profit margin net sale</td>\n",
       "    </tr>\n",
       "  </tbody>\n",
       "</table>\n",
       "</div>"
      ],
      "text/plain": [
       "  sentiment  \\\n",
       "0  neutral    \n",
       "1  neutral    \n",
       "2  negative   \n",
       "3  positive   \n",
       "4  positive   \n",
       "\n",
       "                                                                                                                                                                         title  \n",
       "0  according gran company plan move production russia although company growing                                                                                                  \n",
       "1  technopolis plan develop stage area le square meter order host company working computer technology telecommunication statement said                                          \n",
       "2  international electronic industry company elcoteq laid ten employee tallinn facility contrary earlier layoff company contracted rank office worker daily postimees reported  \n",
       "3  new production plant company would increase capacity meet expected increase demand would improve use raw material therefore increase production profitability                \n",
       "4  according company updated strategy year basware target long-term net sale growth range operating profit margin net sale                                                      "
      ]
     },
     "execution_count": 8,
     "metadata": {},
     "output_type": "execute_result"
    }
   ],
   "source": [
    "# Function to clean the titles\n",
    "stopword_set = set(stopwords.words('english'))\n",
    "forbidden_words = [\"``\", \"''\", \"--\", \"'s\"]\n",
    "lemmatizer = WordNetLemmatizer() \n",
    "\n",
    "def lowercase(text):\n",
    "    return str(text).lower()\n",
    "\n",
    "def joinText(text):\n",
    "    return \" \".join(text)\n",
    "\n",
    "def cleanText(text):\n",
    "    text=lowercase(text)\n",
    "    # Remove words with numbers\n",
    "    text = re.sub('\\w*\\d\\w*', '', text)\n",
    "    # Tokenize\n",
    "    text=word_tokenize(text)\n",
    "    \n",
    "    clean_text = []\n",
    "    for w in text:\n",
    "        if w not in stopword_set and w not in forbidden_words and w not in punctuation:\n",
    "            w = lemmatizer.lemmatize(w)\n",
    "            clean_text.append(w)\n",
    "\n",
    "    clean_text=joinText(clean_text)\n",
    "    return clean_text\n",
    "\n",
    "df['title'] = df['title'].map(lambda text: cleanText(text))\n",
    "df.head()\n"
   ]
  },
  {
   "cell_type": "markdown",
   "metadata": {},
   "source": [
    "## Model (Linear SVM) Definition"
   ]
  },
  {
   "cell_type": "code",
   "execution_count": 9,
   "metadata": {},
   "outputs": [],
   "source": [
    "sgd_classifier_model = Pipeline([('vect', CountVectorizer()), ('tfidf', TfidfTransformer()),\n",
    "                            ('clf-svm', SGDClassifier(loss='log', penalty='l2', max_iter=1000, random_state=None))])"
   ]
  },
  {
   "cell_type": "markdown",
   "metadata": {},
   "source": [
    "## Model Training"
   ]
  },
  {
   "cell_type": "code",
   "execution_count": 10,
   "metadata": {},
   "outputs": [
    {
     "name": "stdout",
     "output_type": "stream",
     "text": [
      "(1812, 2)\n"
     ]
    }
   ],
   "source": [
    "# Data shuffling and normalizing\n",
    "df = shuffle(df)\n",
    "df_normalized=df.groupby('sentiment').apply(lambda x: x.sample(604)).reset_index(drop=True)\n",
    "print(df_normalized.shape)\n",
    "\n",
    "# Test and validation data creation\n",
    "feature1 = df_normalized[\"title\"]\n",
    "feature2 = df_normalized[\"sentiment\"]\n",
    "\n",
    "x_training_data, x_validation_data, y_training_data, y_validation_data = train_test_split(feature1, feature2, test_size=0.2, random_state=0)  "
   ]
  },
  {
   "cell_type": "code",
   "execution_count": 11,
   "metadata": {},
   "outputs": [
    {
     "name": "stderr",
     "output_type": "stream",
     "text": [
      "/opt/conda/envs/Python36/lib/python3.6/site-packages/sklearn/model_selection/_split.py:2053: FutureWarning:\n",
      "\n",
      "You should specify a value for 'cv' instead of relying on the default value. The default value will change from 3 to 5 in version 0.22.\n",
      "\n",
      "/opt/conda/envs/Python36/lib/python3.6/site-packages/sklearn/linear_model/stochastic_gradient.py:183: FutureWarning:\n",
      "\n",
      "max_iter and tol parameters have been added in SGDClassifier in 0.19. If max_iter is set but tol is left unset, the default value for tol in 0.19 and 0.20 will be None (which is equivalent to -infinity, so it has no effect) but will change in 0.21 to 1e-3. Specify tol to silence this warning.\n",
      "\n"
     ]
    },
    {
     "name": "stdout",
     "output_type": "stream",
     "text": [
      "0.6459627329192547\n",
      "{'clf-svm__alpha': 0.0001}\n"
     ]
    }
   ],
   "source": [
    "# Trainining the model and optimizing hyperparameters\n",
    "\n",
    "parameters = {}\n",
    "parameters['clf-svm__alpha'] = [0.001, 0.0005, 0.0001]\n",
    "\n",
    "clf = GridSearchCV(sgd_classifier_model, parameters)\n",
    "clf.fit(x_training_data, y_training_data)\n",
    "print(clf.best_score_)    \n",
    "print(clf.best_params_)    "
   ]
  },
  {
   "cell_type": "markdown",
   "metadata": {},
   "source": [
    "## Model Evaluation"
   ]
  },
  {
   "cell_type": "code",
   "execution_count": 12,
   "metadata": {},
   "outputs": [
    {
     "name": "stdout",
     "output_type": "stream",
     "text": [
      "              precision    recall  f1-score   support\n",
      "\n",
      "    negative       0.72      0.67      0.69       127\n",
      "     neutral       0.60      0.69      0.64       119\n",
      "    positive       0.62      0.57      0.60       117\n",
      "\n",
      "   micro avg       0.64      0.64      0.64       363\n",
      "   macro avg       0.65      0.64      0.64       363\n",
      "weighted avg       0.65      0.64      0.64       363\n",
      "\n"
     ]
    },
    {
     "data": {
      "text/plain": [
       "<matplotlib.axes._subplots.AxesSubplot at 0x7f88a6fdbc88>"
      ]
     },
     "execution_count": 12,
     "metadata": {},
     "output_type": "execute_result"
    },
    {
     "data": {
      "image/png": "[encoded data removed]",
      "text/plain": [
       "<Figure size 432x288 with 2 Axes>"
      ]
     },
     "metadata": {
      "needs_background": "light"
     },
     "output_type": "display_data"
    }
   ],
   "source": [
    "prediction = clf.predict(x_validation_data)\n",
    "print(classification_report(y_validation_data, prediction))\n",
    "\n",
    "df_cm = confusion_matrix(y_validation_data, prediction)\n",
    "labels = [\"Negative\", \"Neutral\", \"Positive\"]\n",
    "sns.heatmap(df_cm, annot=True,cmap=\"OrRd\", xticklabels=labels, yticklabels=labels)"
   ]
  },
  {
   "cell_type": "markdown",
   "metadata": {},
   "source": [
    "As a result, it can be seen that the most common misclassification is labelling positive titles as neutral. The accuracy was around 64 %. Next, the performance is analysed using the whole dataset."
   ]
  },
  {
   "cell_type": "markdown",
   "metadata": {},
   "source": [
    "### Comparison using the whole dataset instead of smaller, normalized one"
   ]
  },
  {
   "cell_type": "code",
   "execution_count": 13,
   "metadata": {},
   "outputs": [
    {
     "name": "stderr",
     "output_type": "stream",
     "text": [
      "/opt/conda/envs/Python36/lib/python3.6/site-packages/sklearn/model_selection/_split.py:2053: FutureWarning:\n",
      "\n",
      "You should specify a value for 'cv' instead of relying on the default value. The default value will change from 3 to 5 in version 0.22.\n",
      "\n",
      "/opt/conda/envs/Python36/lib/python3.6/site-packages/sklearn/linear_model/stochastic_gradient.py:183: FutureWarning:\n",
      "\n",
      "max_iter and tol parameters have been added in SGDClassifier in 0.19. If max_iter is set but tol is left unset, the default value for tol in 0.19 and 0.20 will be None (which is equivalent to -infinity, so it has no effect) but will change in 0.21 to 1e-3. Specify tol to silence this warning.\n",
      "\n"
     ]
    },
    {
     "name": "stdout",
     "output_type": "stream",
     "text": [
      "0.7438080495356038\n",
      "{'clf-svm__alpha': 0.0001}\n"
     ]
    }
   ],
   "source": [
    "# Test and validation data creation\n",
    "feature1 = df[\"title\"]\n",
    "feature2 = df[\"sentiment\"]\n",
    "\n",
    "x_training_data, x_validation_data, y_training_data, y_validation_data = train_test_split(feature1, feature2, test_size=0.2, random_state=0) \n",
    "\n",
    "# Trainining the model and optimizing hyperparameters\n",
    "\n",
    "parameters = {}\n",
    "parameters['clf-svm__alpha'] = [0.001, 0.0005, 0.0001]\n",
    "\n",
    "clf2 = GridSearchCV(sgd_classifier_model, parameters)\n",
    "clf2.fit(x_training_data, y_training_data)\n",
    "print(clf2.best_score_)    \n",
    "print(clf2.best_params_)   "
   ]
  },
  {
   "cell_type": "code",
   "execution_count": 14,
   "metadata": {},
   "outputs": [
    {
     "name": "stdout",
     "output_type": "stream",
     "text": [
      "              precision    recall  f1-score   support\n",
      "\n",
      "    negative       0.71      0.36      0.48       121\n",
      "     neutral       0.71      0.92      0.80       553\n",
      "    positive       0.72      0.46      0.56       296\n",
      "\n",
      "   micro avg       0.71      0.71      0.71       970\n",
      "   macro avg       0.72      0.58      0.62       970\n",
      "weighted avg       0.71      0.71      0.69       970\n",
      "\n"
     ]
    },
    {
     "data": {
      "text/plain": [
       "<matplotlib.axes._subplots.AxesSubplot at 0x7f88829fc6a0>"
      ]
     },
     "execution_count": 14,
     "metadata": {},
     "output_type": "execute_result"
    },
    {
     "data": {
      "image/png": "[encoded data removed]",
      "text/plain": [
       "<Figure size 432x288 with 2 Axes>"
      ]
     },
     "metadata": {
      "needs_background": "light"
     },
     "output_type": "display_data"
    }
   ],
   "source": [
    "prediction = clf2.predict(x_validation_data)\n",
    "print(classification_report(y_validation_data, prediction))\n",
    "\n",
    "df_cm = confusion_matrix(y_validation_data, prediction)\n",
    "labels = [\"Negative\", \"Neutral\", \"Positive\"]\n",
    "sns.heatmap(df_cm, annot=True,cmap=\"OrRd\", xticklabels=labels, yticklabels=labels)"
   ]
  },
  {
   "cell_type": "markdown",
   "metadata": {},
   "source": [
    "This time the whole dataset was used without normalizing it so that each category had an equal amount of samples. As a result, the accuracy increased to 74 %. However, this caused titles with neutral sentiment to dominte the other categories, decreasing the recall of negative and positive titles. As can be seen from the confusion matrix, negative labels are very poorly detected, and also less than half of positive ones are detected correctly. As a conclusion, such model was not considered optimal for the use case, and the model with lower accuracy was chosen."
   ]
  },
  {
   "cell_type": "markdown",
   "metadata": {},
   "source": [
    "## Data processing for LSTM model"
   ]
  },
  {
   "cell_type": "markdown",
   "metadata": {},
   "source": [
    "For the second model, LSTM was chosen."
   ]
  },
  {
   "cell_type": "code",
   "execution_count": 15,
   "metadata": {},
   "outputs": [],
   "source": [
    "# Split data into train and validation\n",
    "df2 = df[[\"title\",\"sentiment\"]] \n",
    "df2.columns = ['text', 'target']\n",
    "df2[['target']] = df2[['target']].replace([\"positive\",\"neutral\",\"negative\"], [2, 1, 0])\n",
    "df2 = df2[df2['text'].map(len) > 10]\n",
    "train_df, valid_df = train_test_split(df2, test_size=0.2)"
   ]
  },
  {
   "cell_type": "code",
   "execution_count": 16,
   "metadata": {},
   "outputs": [],
   "source": [
    "# Configure\n",
    "SEED = 42\n",
    "torch.manual_seed(SEED)\n",
    "torch.backends.cudnn.deterministic = True\n",
    "torch.backends.cudnn.benchmark = False"
   ]
  },
  {
   "cell_type": "code",
   "execution_count": 17,
   "metadata": {},
   "outputs": [],
   "source": [
    "TEXT = data.Field(tokenize = word_tokenize, include_lengths = True)\n",
    "LABEL = data.LabelField(dtype = torch.float)"
   ]
  },
  {
   "cell_type": "code",
   "execution_count": 18,
   "metadata": {},
   "outputs": [],
   "source": [
    "# source : https://gist.github.com/lextoumbourou/8f90313cbc3598ffbabeeaa1741a11c8\n",
    "# to use DataFrame as a Data source\n",
    "\n",
    "class DataFrameDataset(data.Dataset):\n",
    "\n",
    "    def __init__(self, df, fields, is_test=False, **kwargs):\n",
    "        examples = []\n",
    "        for i, row in df.iterrows():\n",
    "            label = row.target if not is_test else None\n",
    "            text = row.text\n",
    "            examples.append(data.Example.fromlist([text, label], fields))\n",
    "\n",
    "        super().__init__(examples, fields, **kwargs)\n",
    "\n",
    "    @staticmethod\n",
    "    def sort_key(ex):\n",
    "        return len(ex.text)\n",
    "    \n",
    "    @classmethod\n",
    "    def splits(cls, fields, train_df, val_df=None, test_df=None, **kwargs):\n",
    "        train_data, val_data, test_data = (None, None, None)\n",
    "        data_field = fields\n",
    "\n",
    "        if train_df is not None:\n",
    "            train_data = cls(train_df.copy(), data_field, **kwargs)\n",
    "        if val_df is not None:\n",
    "            val_data = cls(val_df.copy(), data_field, **kwargs)\n",
    "        if test_df is not None:\n",
    "            test_data = cls(test_df.copy(), data_field, True, **kwargs)\n",
    "\n",
    "        return tuple(d for d in (train_data, val_data, test_data) if d is not None)"
   ]
  },
  {
   "cell_type": "code",
   "execution_count": 19,
   "metadata": {},
   "outputs": [],
   "source": [
    "fields = [('text',TEXT), ('label',LABEL)]\n",
    "\n",
    "train_ds, val_ds = DataFrameDataset.splits(fields, train_df=train_df, val_df=valid_df)"
   ]
  },
  {
   "cell_type": "code",
   "execution_count": 20,
   "metadata": {},
   "outputs": [
    {
     "name": "stderr",
     "output_type": "stream",
     "text": [
      ".vector_cache/glove.6B.zip: 862MB [06:28, 2.22MB/s]                               \n",
      "100%|█████████▉| 399332/400000 [00:55<00:00, 7629.45it/s]"
     ]
    }
   ],
   "source": [
    "# Build vocabulary using GloVe\n",
    "MAX_VOCAB_SIZE = 25000\n",
    "\n",
    "TEXT.build_vocab(train_ds, \n",
    "                 max_size = MAX_VOCAB_SIZE, \n",
    "                 vectors = 'glove.6B.200d',\n",
    "                 unk_init = torch.Tensor.zero_)"
   ]
  },
  {
   "cell_type": "code",
   "execution_count": 21,
   "metadata": {},
   "outputs": [],
   "source": [
    "LABEL.build_vocab(train_ds)"
   ]
  },
  {
   "cell_type": "markdown",
   "metadata": {},
   "source": [
    "## Model 2 (LSTM) Definition"
   ]
  },
  {
   "cell_type": "markdown",
   "metadata": {},
   "source": [
    "This model relies heavily on the following Kaggle notebook: https://www.kaggle.com/swarnabha/pytorch-text-classification-torchtext-lstm"
   ]
  },
  {
   "cell_type": "code",
   "execution_count": 22,
   "metadata": {},
   "outputs": [],
   "source": [
    "BATCH_SIZE = 128\n",
    "\n",
    "device = torch.device('cuda' if torch.cuda.is_available() else 'cpu')\n",
    "\n",
    "train_iterator, valid_iterator = data.BucketIterator.splits(\n",
    "    (train_ds, val_ds), \n",
    "    batch_size = BATCH_SIZE,\n",
    "    sort_within_batch = True,\n",
    "    device = device)"
   ]
  },
  {
   "cell_type": "code",
   "execution_count": 23,
   "metadata": {},
   "outputs": [],
   "source": [
    "# Hyperparameters\n",
    "num_epochs = 25\n",
    "learning_rate = 0.001\n",
    "\n",
    "INPUT_DIM = len(TEXT.vocab)\n",
    "EMBEDDING_DIM = 200\n",
    "HIDDEN_DIM = 256\n",
    "OUTPUT_DIM = 1\n",
    "N_LAYERS = 2\n",
    "BIDIRECTIONAL = True\n",
    "DROPOUT = 0.2\n",
    "PAD_IDX = TEXT.vocab.stoi[TEXT.pad_token] # padding"
   ]
  },
  {
   "cell_type": "code",
   "execution_count": 24,
   "metadata": {},
   "outputs": [],
   "source": [
    "class LSTM_net(nn.Module):\n",
    "    def __init__(self, vocab_size, embedding_dim, hidden_dim, output_dim, n_layers, \n",
    "                 bidirectional, dropout, pad_idx):\n",
    "        \n",
    "        super().__init__()\n",
    "        \n",
    "        self.embedding = nn.Embedding(vocab_size, embedding_dim, padding_idx = pad_idx)\n",
    "        \n",
    "        self.rnn = nn.LSTM(embedding_dim, \n",
    "                           hidden_dim, \n",
    "                           num_layers=n_layers, \n",
    "                           bidirectional=bidirectional, \n",
    "                           dropout=dropout)\n",
    "        \n",
    "        self.fc1 = nn.Linear(hidden_dim * 2, hidden_dim)\n",
    "        self.fc2 = nn.Linear(hidden_dim, 1)       \n",
    "        self.dropout = nn.Dropout(dropout)\n",
    "        \n",
    "    def forward(self, text, text_lengths):\n",
    "        embedded = self.embedding(text)\n",
    " \n",
    "        #pack sequence\n",
    "        packed_embedded = nn.utils.rnn.pack_padded_sequence(embedded, text_lengths)\n",
    "        \n",
    "        packed_output, (hidden, cell) = self.rnn(packed_embedded)\n",
    "        \n",
    "        hidden = self.dropout(torch.cat((hidden[-2,:,:], hidden[-1,:,:]), dim = 1))\n",
    "        output = self.fc1(hidden)\n",
    "        output = self.dropout(self.fc2(output))\n",
    "                \n",
    "        return output\n"
   ]
  },
  {
   "cell_type": "code",
   "execution_count": 25,
   "metadata": {},
   "outputs": [],
   "source": [
    "# Create an instance of the LSTM_net class\n",
    "model = LSTM_net(INPUT_DIM, \n",
    "            EMBEDDING_DIM, \n",
    "            HIDDEN_DIM, \n",
    "            OUTPUT_DIM, \n",
    "            N_LAYERS, \n",
    "            BIDIRECTIONAL, \n",
    "            DROPOUT, \n",
    "            PAD_IDX)"
   ]
  },
  {
   "cell_type": "code",
   "execution_count": 26,
   "metadata": {},
   "outputs": [
    {
     "name": "stdout",
     "output_type": "stream",
     "text": [
      "torch.Size([7579, 200])\n"
     ]
    },
    {
     "data": {
      "text/plain": [
       "tensor([[ 0.0000,  0.0000,  0.0000,  ...,  0.0000,  0.0000,  0.0000],\n",
       "        [ 0.0000,  0.0000,  0.0000,  ...,  0.0000,  0.0000,  0.0000],\n",
       "        [ 0.1189,  0.1599, -0.2332,  ...,  0.6788,  0.9448,  0.3268],\n",
       "        ...,\n",
       "        [ 0.1892,  0.0165,  0.5557,  ...,  0.6909, -0.2369,  0.7791],\n",
       "        [-0.5785,  0.1491,  0.0510,  ...,  0.1844,  0.2903,  0.2528],\n",
       "        [-0.0364, -0.4738, -0.1913,  ...,  0.4871, -0.0841,  0.5200]])"
      ]
     },
     "execution_count": 26,
     "metadata": {},
     "output_type": "execute_result"
    }
   ],
   "source": [
    "pretrained_embeddings = TEXT.vocab.vectors\n",
    "\n",
    "print(pretrained_embeddings.shape)\n",
    "model.embedding.weight.data.copy_(pretrained_embeddings)"
   ]
  },
  {
   "cell_type": "code",
   "execution_count": 27,
   "metadata": {},
   "outputs": [
    {
     "name": "stdout",
     "output_type": "stream",
     "text": [
      "tensor([[ 0.0000,  0.0000,  0.0000,  ...,  0.0000,  0.0000,  0.0000],\n",
      "        [ 0.0000,  0.0000,  0.0000,  ...,  0.0000,  0.0000,  0.0000],\n",
      "        [ 0.1189,  0.1599, -0.2332,  ...,  0.6788,  0.9448,  0.3268],\n",
      "        ...,\n",
      "        [ 0.1892,  0.0165,  0.5557,  ...,  0.6909, -0.2369,  0.7791],\n",
      "        [-0.5785,  0.1491,  0.0510,  ...,  0.1844,  0.2903,  0.2528],\n",
      "        [-0.0364, -0.4738, -0.1913,  ...,  0.4871, -0.0841,  0.5200]])\n"
     ]
    }
   ],
   "source": [
    "# Initiaise padded to zeros\n",
    "model.embedding.weight.data[PAD_IDX] = torch.zeros(EMBEDDING_DIM)\n",
    "\n",
    "print(model.embedding.weight.data)"
   ]
  },
  {
   "cell_type": "code",
   "execution_count": 28,
   "metadata": {},
   "outputs": [],
   "source": [
    "model.to(device)\n",
    "\n",
    "# Loss and optimizer\n",
    "criterion = nn.BCEWithLogitsLoss()\n",
    "\n",
    "optimizer = torch.optim.Adam(model.parameters(), lr=learning_rate)"
   ]
  },
  {
   "cell_type": "code",
   "execution_count": 29,
   "metadata": {},
   "outputs": [],
   "source": [
    "def binary_accuracy(preds, y):\n",
    "    \"\"\"\n",
    "    Returns accuracy per batch, i.e. if you get 8/10 right, this returns 0.8, NOT 8\n",
    "    \"\"\"\n",
    "\n",
    "    #round predictions to the closest integer\n",
    "    rounded_preds = torch.round(torch.sigmoid(preds))\n",
    "    correct = (rounded_preds == y).float() #convert into float for division \n",
    "    acc = correct.sum() / len(correct)\n",
    "    return acc"
   ]
  },
  {
   "cell_type": "markdown",
   "metadata": {},
   "source": [
    "## Model 2 Training"
   ]
  },
  {
   "cell_type": "code",
   "execution_count": 30,
   "metadata": {},
   "outputs": [],
   "source": [
    "def train(model, iterator):\n",
    "    \n",
    "    epoch_loss = 0\n",
    "    epoch_acc = 0\n",
    "    \n",
    "    model.train()\n",
    "    \n",
    "    for batch in iterator:\n",
    "        text, text_lengths = batch.text\n",
    "        \n",
    "        optimizer.zero_grad()\n",
    "        predictions = model(text, text_lengths).squeeze(1)\n",
    "        loss = criterion(predictions, batch.label)\n",
    "        acc = binary_accuracy(predictions, batch.label)\n",
    "\n",
    "        loss.backward()\n",
    "        optimizer.step()\n",
    "        \n",
    "        epoch_loss += loss.item()\n",
    "        epoch_acc += acc.item()\n",
    "        \n",
    "\n",
    "    return epoch_loss / len(iterator), epoch_acc / len(iterator)"
   ]
  },
  {
   "cell_type": "markdown",
   "metadata": {},
   "source": [
    "## Model 2 Evaluation"
   ]
  },
  {
   "cell_type": "code",
   "execution_count": 31,
   "metadata": {},
   "outputs": [
    {
     "name": "stderr",
     "output_type": "stream",
     "text": [
      "100%|█████████▉| 399332/400000 [01:10<00:00, 7629.45it/s]"
     ]
    }
   ],
   "source": [
    "def evaluate(model, iterator):\n",
    "    \n",
    "    epoch_acc = 0\n",
    "    model.eval()\n",
    "    \n",
    "    with torch.no_grad():\n",
    "        for batch in iterator:\n",
    "            text, text_lengths = batch.text\n",
    "            predictions = model(text, text_lengths).squeeze(1)\n",
    "            acc = binary_accuracy(predictions, batch.label)\n",
    "            \n",
    "            epoch_acc += acc.item()\n",
    "        \n",
    "    return epoch_acc / len(iterator)"
   ]
  },
  {
   "cell_type": "code",
   "execution_count": 313,
   "metadata": {},
   "outputs": [
    {
     "name": "stdout",
     "output_type": "stream",
     "text": [
      "\tTrain Loss: -20.621 | Train Acc: 57.05%\n",
      "\t Val. Acc: 64.18%\n",
      "\tTrain Loss: -66.958 | Train Acc: 61.67%\n",
      "\t Val. Acc: 60.97%\n",
      "\tTrain Loss: -178.144 | Train Acc: 59.40%\n",
      "\t Val. Acc: 60.46%\n",
      "\tTrain Loss: -326.159 | Train Acc: 61.91%\n",
      "\t Val. Acc: 62.01%\n",
      "\tTrain Loss: -676.606 | Train Acc: 64.39%\n",
      "\t Val. Acc: 63.84%\n",
      "\tTrain Loss: -1066.460 | Train Acc: 59.48%\n",
      "\t Val. Acc: 59.04%\n",
      "\tTrain Loss: -1488.934 | Train Acc: 63.95%\n",
      "\t Val. Acc: 58.31%\n",
      "\tTrain Loss: -1678.587 | Train Acc: 64.20%\n",
      "\t Val. Acc: 64.49%\n",
      "\tTrain Loss: -2620.654 | Train Acc: 64.81%\n",
      "\t Val. Acc: 40.65%\n",
      "\tTrain Loss: -3105.650 | Train Acc: 60.74%\n",
      "\t Val. Acc: 48.23%\n",
      "\tTrain Loss: -3575.702 | Train Acc: 64.08%\n",
      "\t Val. Acc: 51.69%\n",
      "\tTrain Loss: -4368.822 | Train Acc: 62.08%\n",
      "\t Val. Acc: 57.65%\n",
      "\tTrain Loss: -5579.807 | Train Acc: 64.33%\n",
      "\t Val. Acc: 60.91%\n",
      "\tTrain Loss: -6598.165 | Train Acc: 64.11%\n",
      "\t Val. Acc: 60.34%\n",
      "\tTrain Loss: -7444.642 | Train Acc: 65.24%\n",
      "\t Val. Acc: 61.73%\n",
      "\tTrain Loss: -8431.545 | Train Acc: 65.47%\n",
      "\t Val. Acc: 59.02%\n",
      "\tTrain Loss: -10319.307 | Train Acc: 67.15%\n",
      "\t Val. Acc: 62.73%\n",
      "\tTrain Loss: -11796.610 | Train Acc: 67.71%\n",
      "\t Val. Acc: 57.57%\n",
      "\tTrain Loss: -12952.104 | Train Acc: 67.49%\n",
      "\t Val. Acc: 62.10%\n",
      "\tTrain Loss: -11968.243 | Train Acc: 59.75%\n",
      "\t Val. Acc: 62.28%\n",
      "\tTrain Loss: -13287.894 | Train Acc: 63.01%\n",
      "\t Val. Acc: 58.14%\n",
      "\tTrain Loss: -15587.545 | Train Acc: 63.96%\n",
      "\t Val. Acc: 54.23%\n",
      "\tTrain Loss: -16628.768 | Train Acc: 64.28%\n",
      "\t Val. Acc: 61.71%\n",
      "\tTrain Loss: -17353.512 | Train Acc: 64.53%\n",
      "\t Val. Acc: 57.18%\n",
      "\tTrain Loss: -18934.380 | Train Acc: 66.33%\n",
      "\t Val. Acc: 63.33%\n"
     ]
    }
   ],
   "source": [
    "loss=[]\n",
    "acc=[]\n",
    "val_acc=[]\n",
    "\n",
    "for epoch in range(num_epochs):\n",
    "    \n",
    "    train_loss, train_acc = train(model, train_iterator)\n",
    "    valid_acc = evaluate(model, valid_iterator)\n",
    "    \n",
    "    print(f'\\tTrain Loss: {train_loss:.3f} | Train Acc: {train_acc*100:.2f}%')\n",
    "    print(f'\\t Val. Acc: {valid_acc*100:.2f}%')\n",
    "    \n",
    "    loss.append(train_loss)\n",
    "    acc.append(train_acc)\n",
    "    val_acc.append(valid_acc)"
   ]
  },
  {
   "cell_type": "markdown",
   "metadata": {},
   "source": [
    "As can be seen, the training accuracy is about 66 %, and the validation accuracy is around 63 %. Most likely there isn't any remarkable under- or overfitting. The low accuracy can be explained at least partially by the small amount of data as well as the misclassified samples that were detected previously in the initial data exploration phase. Only under 5000 data points were used for this task. It is worth noticing that while the previous SGDClassifier had a normalized dataset containing 604 titles for each category, this model was trained with all the available datapoints.\n",
    "\n",
    "As a conclusion, due to the increased complexity, poor performance, and high computational expense, SGDClassifier was chosen as the final, deployable model.\n"
   ]
  },
  {
   "cell_type": "markdown",
   "metadata": {},
   "source": [
    "# Deployment"
   ]
  },
  {
   "cell_type": "code",
   "execution_count": 326,
   "metadata": {},
   "outputs": [
    {
     "data": {
      "text/plain": [
       "['production_model_SGDClassifier.pkl']"
      ]
     },
     "execution_count": 326,
     "metadata": {},
     "output_type": "execute_result"
    }
   ],
   "source": [
    "# Save the model\n",
    "from sklearn.externals import joblib \n",
    "joblib_file = \"production_model_SGDClassifier.pkl\"   \n",
    "joblib.dump(clf, joblib_file)"
   ]
  },
  {
   "cell_type": "code",
   "execution_count": 321,
   "metadata": {},
   "outputs": [
    {
     "name": "stdout",
     "output_type": "stream",
     "text": [
      "production_model_SGDClassifier.pkl\n"
     ]
    }
   ],
   "source": [
    "!mkdir model-dir\n",
    "!cp production_model_SGDClassifier.pkl model-dir\n",
    "!tar -zcvf production_model_SGDClassifier.tar.gz production_model_SGDClassifier.pkl"
   ]
  },
  {
   "cell_type": "code",
   "execution_count": 336,
   "metadata": {},
   "outputs": [],
   "source": [
    "import pickle\n",
    "from watson_machine_learning_client import WatsonMachineLearningAPIClient\n",
    "client = WatsonMachineLearningAPIClient( {\n",
    "  \"apikey\": \"REMOVED\",\n",
    "  \"iam_apikey_description\": \"REMOVED\",\n",
    "  \"iam_apikey_name\": \"REMOVED\",\n",
    "  \"iam_role_crn\": \"REMOVED\",\n",
    "  \"iam_serviceid_crn\": \"REMOVED\",\n",
    "  \"instance_id\": \"REMOVED\",\n",
    "  \"url\": \"REMOVED\"\n",
    "} )\n",
    "pipeline = joblib.load( \"production_model_SGDClassifier.pkl\")\n",
    "model_details = client.repository.store_model( pipeline, \"My scikit-learn model (in-memory object)\" )"
   ]
  },
  {
   "cell_type": "code",
   "execution_count": 337,
   "metadata": {},
   "outputs": [
    {
     "name": "stdout",
     "output_type": "stream",
     "text": [
      "\n",
      "\n",
      "#######################################################################################\n",
      "\n",
      "Synchronous deployment creation for uid: 'e5195880-088a-478a-9f17-8183b0f4c75b' started\n",
      "\n",
      "#######################################################################################\n",
      "\n",
      "\n",
      "INITIALIZING\n",
      "DEPLOY_SUCCESS\n",
      "\n",
      "\n",
      "------------------------------------------------------------------------------------------------\n",
      "Successfully finished deployment creation, deployment_uid='eb52acdb-b151-4c86-b150-845fef367084'\n",
      "------------------------------------------------------------------------------------------------\n",
      "\n",
      "\n"
     ]
    }
   ],
   "source": [
    "model_id = model_details[\"metadata\"][\"guid\"]\n",
    "model_deployment_details = client.deployments.create( artifact_uid=model_id, name=\"SVM sentiment analysis model deployment\" )"
   ]
  },
  {
   "cell_type": "markdown",
   "metadata": {},
   "source": [
    "## Testing API"
   ]
  },
  {
   "cell_type": "code",
   "execution_count": 341,
   "metadata": {},
   "outputs": [
    {
     "data": {
      "text/plain": [
       "'https://us-south.ml.cloud.ibm.com/v3/wml_instances/4a4e4888-e056-4b13-b540-d8d10e4ff354/deployments/eb52acdb-b151-4c86-b150-845fef367084/online'"
      ]
     },
     "execution_count": 341,
     "metadata": {},
     "output_type": "execute_result"
    }
   ],
   "source": [
    "model_endpoint_url = client.deployments.get_scoring_url( model_deployment_details )\n",
    "model_endpoint_url"
   ]
  },
  {
   "cell_type": "code",
   "execution_count": 381,
   "metadata": {},
   "outputs": [
    {
     "data": {
      "text/plain": [
       "{'fields': ['prediction', 'probability'],\n",
       " 'values': [['neutral',\n",
       "   [0.2311133110833331, 0.44926031477886685, 0.3196263741378001]]]}"
      ]
     },
     "execution_count": 381,
     "metadata": {},
     "output_type": "execute_result"
    }
   ],
   "source": [
    "scoring_endpoint = \"https://us-south.ml.cloud.ibm.com/v3/wml_instances/4a4e4888-e056-4b13-b540-d8d10e4ff354/deployments/eb52acdb-b151-4c86-b150-845fef367084/online\"\n",
    "payload_scoring = {'fields': [\"title\"], \n",
    "                   'values': [[\"No surprises in Apple's revenue\"]]}\n",
    "client.deployments.score(scoring_endpoint,payload_scoring)\n"
   ]
  }
 ],
 "metadata": {
  "kernelspec": {
   "display_name": "Python 3",
   "language": "python",
   "name": "python3"
  },
  "language_info": {
   "codemirror_mode": {
    "name": "ipython",
    "version": 3
   },
   "file_extension": ".py",
   "mimetype": "text/x-python",
   "name": "python",
   "nbconvert_exporter": "python",
   "pygments_lexer": "ipython3",
   "version": "3.7.7"
  }
 },
 "nbformat": 4,
 "nbformat_minor": 4
}
