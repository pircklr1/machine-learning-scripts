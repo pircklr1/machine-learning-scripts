{
 "cells": [
  {
   "cell_type": "markdown",
   "metadata": {},
   "source": [
    "# ABCD Strategy"
   ]
  },
  {
   "cell_type": "code",
   "execution_count": 896,
   "metadata": {},
   "outputs": [],
   "source": [
    "import numpy as np\n",
    "import pandas as pd\n",
    "import matplotlib.pyplot as plt\n",
    "import seaborn as sns\n",
    "sns.set()\n",
    "\n",
    "import pandas as pd\n",
    "import numpy as np\n",
    "from datetime import datetime\n",
    "import matplotlib.pyplot as plt\n",
    "\n",
    "import yfinance as yf"
   ]
  },
  {
   "cell_type": "code",
   "execution_count": 897,
   "metadata": {},
   "outputs": [
    {
     "name": "stdout",
     "output_type": "stream",
     "text": [
      "[*********************100%***********************]  1 of 1 completed\n"
     ]
    }
   ],
   "source": [
    "ticker = \"INTL\"\n",
    "df = yf.download(ticker)"
   ]
  },
  {
   "cell_type": "code",
   "execution_count": 898,
   "metadata": {},
   "outputs": [
    {
     "data": {
      "text/html": [
       "<div>\n",
       "<style scoped>\n",
       "    .dataframe tbody tr th:only-of-type {\n",
       "        vertical-align: middle;\n",
       "    }\n",
       "\n",
       "    .dataframe tbody tr th {\n",
       "        vertical-align: top;\n",
       "    }\n",
       "\n",
       "    .dataframe thead th {\n",
       "        text-align: right;\n",
       "    }\n",
       "</style>\n",
       "<table border=\"1\" class=\"dataframe\">\n",
       "  <thead>\n",
       "    <tr style=\"text-align: right;\">\n",
       "      <th></th>\n",
       "      <th>Open</th>\n",
       "      <th>High</th>\n",
       "      <th>Low</th>\n",
       "      <th>Close</th>\n",
       "      <th>Adj Close</th>\n",
       "      <th>Volume</th>\n",
       "      <th>Trade_action_price</th>\n",
       "    </tr>\n",
       "    <tr>\n",
       "      <th>Date</th>\n",
       "      <th></th>\n",
       "      <th></th>\n",
       "      <th></th>\n",
       "      <th></th>\n",
       "      <th></th>\n",
       "      <th></th>\n",
       "      <th></th>\n",
       "    </tr>\n",
       "  </thead>\n",
       "  <tbody>\n",
       "    <tr>\n",
       "      <th>1995-03-06</th>\n",
       "      <td>2.253944</td>\n",
       "      <td>2.253944</td>\n",
       "      <td>2.253944</td>\n",
       "      <td>2.253944</td>\n",
       "      <td>2.253944</td>\n",
       "      <td>1300</td>\n",
       "      <td>1.878287</td>\n",
       "    </tr>\n",
       "    <tr>\n",
       "      <th>1995-03-07</th>\n",
       "      <td>1.878287</td>\n",
       "      <td>2.066116</td>\n",
       "      <td>1.878287</td>\n",
       "      <td>1.878287</td>\n",
       "      <td>1.878287</td>\n",
       "      <td>5800</td>\n",
       "      <td>1.878287</td>\n",
       "    </tr>\n",
       "    <tr>\n",
       "      <th>1995-03-08</th>\n",
       "      <td>1.878287</td>\n",
       "      <td>1.878287</td>\n",
       "      <td>1.878287</td>\n",
       "      <td>1.878287</td>\n",
       "      <td>1.878287</td>\n",
       "      <td>0</td>\n",
       "      <td>1.878287</td>\n",
       "    </tr>\n",
       "    <tr>\n",
       "      <th>1995-03-09</th>\n",
       "      <td>1.878287</td>\n",
       "      <td>1.878287</td>\n",
       "      <td>1.878287</td>\n",
       "      <td>1.878287</td>\n",
       "      <td>1.878287</td>\n",
       "      <td>0</td>\n",
       "      <td>1.878287</td>\n",
       "    </tr>\n",
       "    <tr>\n",
       "      <th>1995-03-10</th>\n",
       "      <td>1.878287</td>\n",
       "      <td>1.878287</td>\n",
       "      <td>1.878287</td>\n",
       "      <td>1.878287</td>\n",
       "      <td>1.878287</td>\n",
       "      <td>0</td>\n",
       "      <td>1.878287</td>\n",
       "    </tr>\n",
       "  </tbody>\n",
       "</table>\n",
       "</div>"
      ],
      "text/plain": [
       "                Open      High       Low     Close  Adj Close  Volume  \\\n",
       "Date                                                                    \n",
       "1995-03-06  2.253944  2.253944  2.253944  2.253944   2.253944    1300   \n",
       "1995-03-07  1.878287  2.066116  1.878287  1.878287   1.878287    5800   \n",
       "1995-03-08  1.878287  1.878287  1.878287  1.878287   1.878287       0   \n",
       "1995-03-09  1.878287  1.878287  1.878287  1.878287   1.878287       0   \n",
       "1995-03-10  1.878287  1.878287  1.878287  1.878287   1.878287       0   \n",
       "\n",
       "            Trade_action_price  \n",
       "Date                            \n",
       "1995-03-06            1.878287  \n",
       "1995-03-07            1.878287  \n",
       "1995-03-08            1.878287  \n",
       "1995-03-09            1.878287  \n",
       "1995-03-10            1.878287  "
      ]
     },
     "execution_count": 898,
     "metadata": {},
     "output_type": "execute_result"
    }
   ],
   "source": [
    "df[\"Trade_action_price\"]=df[\"Open\"].shift(-1)\n",
    "df.head()"
   ]
  },
  {
   "cell_type": "code",
   "execution_count": 899,
   "metadata": {},
   "outputs": [
    {
     "data": {
      "text/plain": [
       "(1000, 7)"
      ]
     },
     "execution_count": 899,
     "metadata": {},
     "output_type": "execute_result"
    }
   ],
   "source": [
    "#df = df.tail(n=2000)\n",
    "df = df.head(n=1000)\n",
    "df.shape"
   ]
  },
  {
   "cell_type": "code",
   "execution_count": 900,
   "metadata": {},
   "outputs": [],
   "source": [
    "def abcd(trend, skip_loop = 4, ma = 7):\n",
    "    ma = pd.Series(trend).rolling(ma).mean().values\n",
    "    x = []\n",
    "    y = []\n",
    "    if len(trend) < 4:\n",
    "        len_s = len(trend) +1\n",
    "        signal = np.zeros(len_s)\n",
    "        return signal\n",
    "    for a in range(ma.shape[0]):\n",
    "        if a%100 == 0: print(a, end='\\r')\n",
    "        for b in range(a, ma.shape[0], skip_loop):\n",
    "            for c in range(b, ma.shape[0], skip_loop):\n",
    "                d = ma.shape[0]-1\n",
    "                if ma[b] > ma[a] and \\\n",
    "                (ma[c] < ma[b] and ma[c] > ma[a]) \\\n",
    "                and ma[d] > ma[b]:\n",
    "                    x.append([a,b,c,d])\n",
    "\n",
    "                if ma[b] < ma[a] and \\\n",
    "                (ma[c] > ma[b] and ma[c] < ma[a]) \\\n",
    "                and ma[d] < ma[b]:\n",
    "                    y.append([a,b,c,d])\n",
    "    x_np = np.array(x)\n",
    "    y_np = np.array(y)\n",
    "    signal = np.zeros(len(trend))\n",
    "    if(len(x_np)>0):\n",
    "        ac = x_np[:,0].tolist() + x_np[:,2].tolist()\n",
    "        bd = x_np[:,1].tolist() + x_np[:,3].tolist()\n",
    "        ac_set = set(ac)\n",
    "        bd_set = set(bd)\n",
    "        sell = list(list(bd_set - ac_set))\n",
    "        signal[sell] = -1.0\n",
    "    if(len(y_np)>0):\n",
    "        ac2 = y_np[:,0].tolist() + y_np[:,2].tolist()\n",
    "        bd2 = y_np[:,1].tolist() + y_np[:,3].tolist()\n",
    "        ac_set2 = set(ac2)\n",
    "        bd_set2 = set(bd2)\n",
    "        buy = list(list(bd_set2 - ac_set2))\n",
    "        signal[buy] = signal[buy]+1\n",
    "    return signal"
   ]
  },
  {
   "cell_type": "code",
   "execution_count": 901,
   "metadata": {},
   "outputs": [
    {
     "name": "stdout",
     "output_type": "stream",
     "text": [
      "[0.0, 0, 0, 0, 0, 0, 0, 0, 0, 0, 0, 0, 0, 0, 0, 0, 0, 0, 0, 0, 0, 0, 0, 0, 0, 0, 0, 0, 0, 0, 0, 0, 0, 0, 0, 0, 0, 0, 0, 0, 0, 0, 0, 0, 0, 0, 0, 0, 0, 0, 0, 0, 0, 0, 0, 0, 0, -1.0, 0, 0, 0, 0, 0, 0, 0, 0, 0, 0, 0, 0, 0, 0, 0.0, 0, 0, 0, 0, 0, 0, 0, 0, 0, 1.0, 0, 0, 0.0, 0, 0, 1.0, 0, 0, 0, 0, 0, 0, 0, 0, 0, 0, 0, 0, 0, 0, 0, 0, 0, 0, 0, 0.0, 0, 0, 0, 0, 0, 0, 0, 0, 0, -1.0, 0, 0, 0.0, 0, 0, 0, 0, 0, 0, 0, 0, 0, 0, 0, 0, 0, 0, 0, 0, 0, 0, 0, 0, 0, 0, 0, 0, 0, 0, 0, 0, 0, 0, 0, 0, 0, 0, 0, 0, 0, 0, 0, 0, 0, 0, 0, 0, 0, 0, 0, 0, 0, 0, 0, 0, -1.0, 0, 0, 0, 0, 0, 0, 0, 0, 0, 0, 0, 0, 0, 0, 0, 0, 0, 0, 0, 0, 0, 0, 0, 0, 0, 0, 0, 0, 0, 0.0, 0, 0, 0, 0, 0, 0, 0, 0, 1.0, 0.0, 0, 0, 0, 0, 0, 0, 0, 0, 0, 0, 0, 0, 0, 0, 0, 0, 0, 0, 0, 0, 0, 0, 0, 0, 0, 0, 0, 0, 0, 0, 0, 0, 0, 0, 0, 0, 0, 0, 0, 0, 0, 0, 0, 0, -1.0, 0, 0, 0, 0, 0, 0, 0, 0, 0, 0, 0, 0, 0, 0, 0, 0, 0, 0, 0, 0, 0, 0, 0, 0, 0, 0, 0, 0, 0, 0, 0, 0, 0, 0, 0, 0, 0, 0, 0, 0, 0, 0, 0, 0, 0, 0, 0, 0, 0, 0, 0, 0, 0, 0, 0, 0, 0, 0, 0, 0, 0, 0, 0, 0, 0, 0, 0.0, 0, 0, 0, 0, 0, 0, 0, 0, 0, 0, 0, 0, 0, 0, 0, 0, 0, 0, 0, 0, 0, -1.0, 0, 0.0, 0, 0, 0, 0, 0, 0, 0, 0, 0, -1.0, 0, 0, 0.0, 0, 1.0, 0, 0, 0, 0, 0, 0, 0, 0, 0, 0, 0.0, 0, 0, 0, 0, 0, 0, 0, 0, 0, 0, 0, 0, 0, 0, 1.0, 0, 0, 0, 0, 0, 0, 0, 0, 0, 0, 0, 0, 0, 0, 0, 0, 0, 0, 0, 0.0, 0, 0, 0, 0, 1.0, 0.0, 0, 0, 0, 0, 1.0, 0, 0, 0, 0, 0, 0, 0, 0, 0, 0, 0, 0.0, 1.0, 0, 0, 0, 0, 0, 0, 0, 0, 0, 0, 0, 0, 0, 0, 0, 0, 0, 0, 0, 0, 0, 0, 0, 0.0, 1.0, 0, 0.0, 0, 0, 0, 0, 0, 0, 0, 0, 0, 0, 0, 0, 1.0, 0, 0, 0, 0, 0.0, 0, 0, 1.0, 0, 0, 0, 0, 0, 0, 0, 0, 0, 0, 0.0, 0, 0, 0, 0, 0, 0, 0, 0, 0, 0, 0, 0, 0, 0, 0, 0, 0, 0, 0, 0, 0, 0, 0, 0, 0, 0, 1.0, 0, 0, 0, 0, 0, 0, 0.0, 0, 0, 0, 0, 0, 0, 0, 1.0, 0, 0, 0, 0, 0, 0.0, 0, 0, -1.0, 0.0, 0, 0, 1.0, 0, 0, 0, 0, 0, 0, 0, 0, 0, 0, 0, 0, 0, 0.0, 0, 0, 0, 0, -1.0, 0, 0, 0, 0, 0, 0.0, 0, 0, 0, 0, 0, 0, 0, -1.0, 0, 0, 0, 0, 0, 0, 0.0, 0, 0, 0, 0, -1.0, 0, 0, 0, 0, 0, 0, 0, 0, 0, 0, 0, 0, 0, 0, 0, 0, 0, 0, 0, 0, 0.0, 0, 0, 0, 0, -1.0, 0, 0, 0, 0, 0, 0, 0, 0, 0, 0, 0, 0, 0, 0, 0, 0, 0, 0, 0, 0, 0, 0, 0, 0, 0, 0, 0, 0, 0, 0, 0, 0, 0, 0, 0, 0, 0, 0, 0.0, 0, -1.0, 0.0, 0, 0, -1.0, 0, 0, 0, 0, 0, 0, 0, 0, 0.0, 0, 0, 0, 0, 0, 0, 0, 0, 0, 0, 0, 0, 0, 0, 0, 0, 0, 0, 1.0, 0, 0, 0, 0, 0, 0, 0, 0, 0, 0, 0, 0, 0, 0, 0, 0, 0, 0.0, 0, 0, 0, 0, 0, 0, 0, 0, 0, 0, 0, 0, 1.0, 0, 0, 0, 0, 0, 0, 0, 0, 0, 0, 0, 0, 0, 0, 0, 0, 0, 0, 0, 0, 0, 0, 0, 0, 0, 0, 0, 0, 0, 0, 0, 0, 0, 0, 0, 0, 0, 0, 0, 0, 0, 0, 0, 0, 0, 0, 0, 0, 0, 0, 0, 0, 0, 0, 0, 0.0, 0, 0, 0, 0, 0, 0, 0, 0, 0, 0, 0, 0, 0, 0, 0, 0, 0, 0, 0, 0, 0, 0, 0, 0, 1.0, 0, 0, 0, 0, 0, 0, 0, 0, 0.0, 0, 0, 1.0, 0, 0, 0, 0, 0, 0, 0, 0, 0, 0, 0, 0, 0, 0, 0, 0, 0, 0, 0, 0, 0, 0, 0, 0.0, 1.0, 0.0, 0, 0, 0, 0, 0, 0, 0, 0, 0, 1.0, 0, 0, 0, 0, 0, 0, 0, 0, 0, 0, 0, 0, 0, 0, 0, 0, 0, 0, 0, 0, 0, 0, 0, 0, 0, 0, 0, 0, 0, 0, 0, 0, 0, 0, 0, 0, 0, 0, 0, 0, 0, 0, 0, 0, 0, 0, 0, 0, 0, 0, 0, 0, 0, 0, 0, 0, 0, 0, 0, 0, 0, 0, 0, 0, 0, 0, 0, 0, 0, 0, 0, 0, 0, 0, 0, 0, 0, 0, 0, 0, 0, 0, 0, 0, 0, 0.0, 1.0, 0, 0, 0, 0, 0, 0, 0, 0, 0, 0, 0, 0, 0, 0, 0, 0, 0.0, 0, 0, -1.0, 0, 0, 0.0, 0, 0, 0, 1.0, 0, 0, 0, 0, 0, 0, 0, 0.0, 0, 0, 0, 0, 0, 0, 0, -1.0, 0, 0, 0, 0, 0, 0, 0, 0, 0, 0, 0, 0, 0, 0, 0, 0]\n",
      "CPU times: user 12.8 s, sys: 217 ms, total: 13 s\n",
      "Wall time: 13 s\n"
     ]
    }
   ],
   "source": [
    "%%time\n",
    "signal_combined=[]\n",
    "i=0\n",
    "frame = 100\n",
    "l=[]\n",
    "for x in range(1,11):\n",
    "    l.append(x*frame)\n",
    "for j in l:\n",
    "    for k in range(i,j):\n",
    "        if(i<30):\n",
    "            signal = abcd(df['Close'][i:k])\n",
    "        else:\n",
    "            signal = abcd(df['Close'][k-frame:k])\n",
    "        signal_combined.append(signal[-1])\n",
    "    i=j\n",
    "signal2=signal_combined.copy()\n",
    "signal=signal_combined.copy()\n",
    "for i,val in enumerate(signal2):    \n",
    "    if(i>0):\n",
    "        if signal2[i-1]==signal2[i]:\n",
    "            signal[i]=0\n",
    "print(signal)\n"
   ]
  },
  {
   "cell_type": "code",
   "execution_count": 902,
   "metadata": {},
   "outputs": [
    {
     "name": "stdout",
     "output_type": "stream",
     "text": [
      "22\n",
      "15\n"
     ]
    }
   ],
   "source": [
    "print(signal.count(1))\n",
    "print(signal.count(-1))"
   ]
  },
  {
   "cell_type": "code",
   "execution_count": 903,
   "metadata": {},
   "outputs": [],
   "source": [
    "def buy_stock(\n",
    "    real_movement,\n",
    "    signal\n",
    "):\n",
    "    states_sell = []\n",
    "    states_buy = []\n",
    "    profit_percentage = 0\n",
    "    current_inventory = 0\n",
    "    \n",
    "    def buy(i, current_inventory):\n",
    "        if current_inventory == 0:\n",
    "            current_inventory = 1\n",
    "            print(\n",
    "                'day %d: buy 1 unit at price %f'\n",
    "                % (i,  real_movement[i])\n",
    "            )\n",
    "        return current_inventory\n",
    "    \n",
    "    for i in range(real_movement.shape[0]):\n",
    "        state = signal[i]\n",
    "        if state == 1 and current_inventory == 0:\n",
    "            current_inventory = buy(i, current_inventory)\n",
    "            states_buy.append(i)\n",
    "        elif state == -1 and current_inventory > 0:\n",
    "            current_inventory = 0\n",
    "            total_sell =  real_movement[i]\n",
    "            try:\n",
    "                invest = (\n",
    "                    (real_movement[i] - real_movement[states_buy[-1]])\n",
    "                    / real_movement[states_buy[-1]]\n",
    "                ) * 100\n",
    "            except:\n",
    "                invest = 0\n",
    "            print(\n",
    "                'day %d, sell 1 units at price %f, profit %f %%'\n",
    "                % (i, total_sell, round(invest,1))\n",
    "            )\n",
    "            profit_percentage += invest\n",
    "            states_sell.append(i)\n",
    "        \n",
    "    return states_buy, states_sell, profit_percentage"
   ]
  },
  {
   "cell_type": "code",
   "execution_count": 904,
   "metadata": {},
   "outputs": [
    {
     "name": "stdout",
     "output_type": "stream",
     "text": [
      "day 82: buy 1 unit at price 1.972201\n",
      "day 118, sell 1 units at price 2.253944, profit 14.300000 %\n",
      "day 213: buy 1 unit at price 1.878287\n",
      "day 259, sell 1 units at price 2.817430, profit 50.000000 %\n",
      "day 365: buy 1 unit at price 3.005259\n",
      "day 545, sell 1 units at price 2.160030, profit -28.100000 %\n",
      "day 549: buy 1 unit at price 2.160030\n",
      "day 568, sell 1 units at price 2.535687, profit 17.400000 %\n",
      "day 693: buy 1 unit at price 3.287002\n",
      "day 960, sell 1 units at price 1.549587, profit -52.900000 %\n",
      "day 967: buy 1 unit at price 1.136364\n",
      "day 983, sell 1 units at price 2.014463, profit 77.300000 %\n"
     ]
    }
   ],
   "source": [
    "states_buy, states_sell, profit_percentage = buy_stock(df.Close.values, signal)"
   ]
  },
  {
   "cell_type": "code",
   "execution_count": 905,
   "metadata": {},
   "outputs": [
    {
     "data": {
      "image/png": "[encoded data removed]",
      "text/plain": [
       "<Figure size 1080x360 with 1 Axes>"
      ]
     },
     "metadata": {},
     "output_type": "display_data"
    }
   ],
   "source": [
    "close = df['Close']\n",
    "fig = plt.figure(figsize = (15,5))\n",
    "plt.plot(close, color='r', lw=2.)\n",
    "plt.plot(close, '^', markersize=10, color='m', label = 'buying signal', markevery = states_buy)\n",
    "plt.plot(close, 'v', markersize=10, color='k', label = 'selling signal', markevery = states_sell)\n",
    "plt.title('total profit percentage %f%%'%(profit_percentage))\n",
    "plt.legend()\n",
    "plt.show()"
   ]
  },
  {
   "cell_type": "code",
   "execution_count": 906,
   "metadata": {},
   "outputs": [
    {
     "name": "stdout",
     "output_type": "stream",
     "text": [
      "Trade count:  12\n"
     ]
    }
   ],
   "source": [
    "buy=[]\n",
    "buy_time=[]\n",
    "i=0\n",
    "trade_profit=[]\n",
    "trade_length=[]\n",
    "for val in signal:\n",
    "    if val==1:\n",
    "        buy.append(df[\"Trade_action_price\"][i])  \n",
    "        buy_time.append(i)\n",
    "    if val==-1 and len(buy)>0:\n",
    "        buy_price=buy.pop(0)\n",
    "        profit=df[\"Trade_action_price\"][i]-buy_price\n",
    "        trade_profit.append(profit/buy_price)\n",
    "        trade_length.append(i-buy_time.pop(0))\n",
    "    i+=1\n",
    "print(\"Trade count: \", len(trade_profit))"
   ]
  },
  {
   "cell_type": "code",
   "execution_count": 907,
   "metadata": {},
   "outputs": [
    {
     "name": "stderr",
     "output_type": "stream",
     "text": [
      "/usr/local/lib/python3.7/site-packages/seaborn/distributions.py:2557: FutureWarning: `distplot` is a deprecated function and will be removed in a future version. Please adapt your code to use either `displot` (a figure-level function with similar flexibility) or `histplot` (an axes-level function for histograms).\n",
      "  warnings.warn(msg, FutureWarning)\n",
      "/usr/local/lib/python3.7/site-packages/seaborn/distributions.py:2557: FutureWarning: `distplot` is a deprecated function and will be removed in a future version. Please adapt your code to use either `displot` (a figure-level function with similar flexibility) or `histplot` (an axes-level function for histograms).\n",
      "  warnings.warn(msg, FutureWarning)\n"
     ]
    },
    {
     "data": {
      "text/plain": [
       "Text(0.5, 1.0, 'Trade length')"
      ]
     },
     "execution_count": 907,
     "metadata": {},
     "output_type": "execute_result"
    },
    {
     "data": {
      "image/png": "[encoded data removed]",
      "text/plain": [
       "<Figure size 576x288 with 2 Axes>"
      ]
     },
     "metadata": {},
     "output_type": "display_data"
    }
   ],
   "source": [
    "fig,axes=plt.subplots(1,2)\n",
    "sns.distplot(trade_profit,ax=axes[0])\n",
    "sns.distplot(trade_length,ax=axes[1])\n",
    "axes[0].set_title(\"Profit\")\n",
    "axes[1].set_title(\"Trade length\")"
   ]
  },
  {
   "cell_type": "code",
   "execution_count": null,
   "metadata": {},
   "outputs": [],
   "source": []
  }
 ],
 "metadata": {
  "kernelspec": {
   "display_name": "Python 3",
   "language": "python",
   "name": "python3"
  },
  "language_info": {
   "codemirror_mode": {
    "name": "ipython",
    "version": 3
   },
   "file_extension": ".py",
   "mimetype": "text/x-python",
   "name": "python",
   "nbconvert_exporter": "python",
   "pygments_lexer": "ipython3",
   "version": "3.7.7"
  }
 },
 "nbformat": 4,
 "nbformat_minor": 4
}
