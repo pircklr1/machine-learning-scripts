{
 "cells": [
  {
   "cell_type": "markdown",
   "metadata": {},
   "source": [
    "# Clustering"
   ]
  },
  {
   "cell_type": "markdown",
   "metadata": {},
   "source": [
    "CS-E4650 Methods of Data mining: Project work\n",
    "\n",
    "The task of this project is to cluster two data sets as well as possible. The first dataset contains gene expression data while the second is about mass spectrometry. The goodness of the clustering is evaluated with normalized mutual information (NMI). In this notebook, mass spectrometry clustering is performed."
   ]
  },
  {
   "cell_type": "markdown",
   "metadata": {},
   "source": [
    "## Data 2: Mass spectrometry"
   ]
  },
  {
   "cell_type": "code",
   "execution_count": 1,
   "metadata": {},
   "outputs": [],
   "source": [
    "%matplotlib inline\n",
    "import numpy as np\n",
    "import matplotlib.pyplot as plt\n",
    "import pandas as pd\n",
    "import matplotlib.cm as cm\n",
    "import operator\n",
    "import random\n",
    "\n",
    "from sklearn.cluster import KMeans, AgglomerativeClustering\n",
    "from sklearn.datasets import make_blobs\n",
    "from sklearn import metrics\n",
    "from sklearn.utils import shuffle\n",
    "\n",
    "from scipy.cluster.hierarchy import linkage, centroid, fcluster, fclusterdata\n",
    "from scipy.spatial.distance import pdist\n",
    "\n",
    "from sklearn.decomposition import PCA\n",
    "from sklearn.mixture import GaussianMixture\n",
    "from sklearn.cluster import Birch\n",
    "from sklearn.cluster import MiniBatchKMeans\n",
    "from sklearn.cluster import SpectralClustering\n",
    "from sklearn import preprocessing\n",
    "\n",
    "from sklearn.feature_selection import SelectKBest\n",
    "from sklearn.feature_selection import chi2, f_classif\n",
    "\n"
   ]
  },
  {
   "cell_type": "markdown",
   "metadata": {},
   "source": [
    "### Data ETL"
   ]
  },
  {
   "cell_type": "code",
   "execution_count": 2,
   "metadata": {},
   "outputs": [],
   "source": [
    "df_ms= pd.read_csv(\"msdata.csv\")"
   ]
  },
  {
   "cell_type": "code",
   "execution_count": 11,
   "metadata": {},
   "outputs": [
    {
     "data": {
      "text/html": [
       "<div>\n",
       "<style scoped>\n",
       "    .dataframe tbody tr th:only-of-type {\n",
       "        vertical-align: middle;\n",
       "    }\n",
       "\n",
       "    .dataframe tbody tr th {\n",
       "        vertical-align: top;\n",
       "    }\n",
       "\n",
       "    .dataframe thead th {\n",
       "        text-align: right;\n",
       "    }\n",
       "</style>\n",
       "<table border=\"1\" class=\"dataframe\">\n",
       "  <thead>\n",
       "    <tr style=\"text-align: right;\">\n",
       "      <th></th>\n",
       "      <th>id</th>\n",
       "      <th>class</th>\n",
       "      <th>f1</th>\n",
       "      <th>f2</th>\n",
       "      <th>f3</th>\n",
       "      <th>f4</th>\n",
       "      <th>f5</th>\n",
       "      <th>f6</th>\n",
       "      <th>f7</th>\n",
       "      <th>f8</th>\n",
       "      <th>...</th>\n",
       "      <th>f4991</th>\n",
       "      <th>f4992</th>\n",
       "      <th>f4993</th>\n",
       "      <th>f4994</th>\n",
       "      <th>f4995</th>\n",
       "      <th>f4996</th>\n",
       "      <th>f4997</th>\n",
       "      <th>f4998</th>\n",
       "      <th>f4999</th>\n",
       "      <th>f5000</th>\n",
       "    </tr>\n",
       "  </thead>\n",
       "  <tbody>\n",
       "    <tr>\n",
       "      <th>0</th>\n",
       "      <td>1</td>\n",
       "      <td>1</td>\n",
       "      <td>14.3704</td>\n",
       "      <td>13.5189</td>\n",
       "      <td>15.2479</td>\n",
       "      <td>13.8274</td>\n",
       "      <td>14.2323</td>\n",
       "      <td>13.2383</td>\n",
       "      <td>16.1178</td>\n",
       "      <td>13.2488</td>\n",
       "      <td>...</td>\n",
       "      <td>16.0304</td>\n",
       "      <td>13.3344</td>\n",
       "      <td>16.0211</td>\n",
       "      <td>10.0160</td>\n",
       "      <td>15.2300</td>\n",
       "      <td>13.1752</td>\n",
       "      <td>14.8580</td>\n",
       "      <td>17.1991</td>\n",
       "      <td>17.1206</td>\n",
       "      <td>13.0425</td>\n",
       "    </tr>\n",
       "    <tr>\n",
       "      <th>1</th>\n",
       "      <td>2</td>\n",
       "      <td>1</td>\n",
       "      <td>16.6945</td>\n",
       "      <td>13.3035</td>\n",
       "      <td>16.5303</td>\n",
       "      <td>15.2523</td>\n",
       "      <td>15.7153</td>\n",
       "      <td>15.6161</td>\n",
       "      <td>18.3479</td>\n",
       "      <td>14.6787</td>\n",
       "      <td>...</td>\n",
       "      <td>17.4675</td>\n",
       "      <td>15.3745</td>\n",
       "      <td>17.5870</td>\n",
       "      <td>14.3768</td>\n",
       "      <td>16.1388</td>\n",
       "      <td>14.5012</td>\n",
       "      <td>15.3480</td>\n",
       "      <td>16.3339</td>\n",
       "      <td>19.2920</td>\n",
       "      <td>13.4911</td>\n",
       "    </tr>\n",
       "    <tr>\n",
       "      <th>2</th>\n",
       "      <td>3</td>\n",
       "      <td>1</td>\n",
       "      <td>16.1807</td>\n",
       "      <td>13.3308</td>\n",
       "      <td>16.1866</td>\n",
       "      <td>12.3704</td>\n",
       "      <td>13.9519</td>\n",
       "      <td>15.1695</td>\n",
       "      <td>17.2757</td>\n",
       "      <td>14.3283</td>\n",
       "      <td>...</td>\n",
       "      <td>16.1209</td>\n",
       "      <td>15.0801</td>\n",
       "      <td>18.0217</td>\n",
       "      <td>13.3382</td>\n",
       "      <td>15.7998</td>\n",
       "      <td>14.2165</td>\n",
       "      <td>15.3336</td>\n",
       "      <td>17.2670</td>\n",
       "      <td>18.9402</td>\n",
       "      <td>13.0222</td>\n",
       "    </tr>\n",
       "    <tr>\n",
       "      <th>3</th>\n",
       "      <td>4</td>\n",
       "      <td>1</td>\n",
       "      <td>16.8705</td>\n",
       "      <td>13.1743</td>\n",
       "      <td>16.2900</td>\n",
       "      <td>15.4931</td>\n",
       "      <td>14.8954</td>\n",
       "      <td>14.4440</td>\n",
       "      <td>16.0538</td>\n",
       "      <td>13.2912</td>\n",
       "      <td>...</td>\n",
       "      <td>16.4285</td>\n",
       "      <td>12.3385</td>\n",
       "      <td>15.8880</td>\n",
       "      <td>8.4838</td>\n",
       "      <td>14.8774</td>\n",
       "      <td>12.8094</td>\n",
       "      <td>14.7309</td>\n",
       "      <td>15.6526</td>\n",
       "      <td>17.5066</td>\n",
       "      <td>13.1212</td>\n",
       "    </tr>\n",
       "    <tr>\n",
       "      <th>4</th>\n",
       "      <td>5</td>\n",
       "      <td>1</td>\n",
       "      <td>16.2108</td>\n",
       "      <td>13.1175</td>\n",
       "      <td>17.1489</td>\n",
       "      <td>14.8416</td>\n",
       "      <td>15.5158</td>\n",
       "      <td>15.0314</td>\n",
       "      <td>16.7884</td>\n",
       "      <td>14.6162</td>\n",
       "      <td>...</td>\n",
       "      <td>17.5532</td>\n",
       "      <td>15.3416</td>\n",
       "      <td>17.6385</td>\n",
       "      <td>11.4521</td>\n",
       "      <td>15.9572</td>\n",
       "      <td>14.7070</td>\n",
       "      <td>15.4503</td>\n",
       "      <td>19.3039</td>\n",
       "      <td>19.0848</td>\n",
       "      <td>12.8876</td>\n",
       "    </tr>\n",
       "  </tbody>\n",
       "</table>\n",
       "<p>5 rows × 5002 columns</p>\n",
       "</div>"
      ],
      "text/plain": [
       "   id  class       f1       f2       f3       f4       f5       f6       f7  \\\n",
       "0   1      1  14.3704  13.5189  15.2479  13.8274  14.2323  13.2383  16.1178   \n",
       "1   2      1  16.6945  13.3035  16.5303  15.2523  15.7153  15.6161  18.3479   \n",
       "2   3      1  16.1807  13.3308  16.1866  12.3704  13.9519  15.1695  17.2757   \n",
       "3   4      1  16.8705  13.1743  16.2900  15.4931  14.8954  14.4440  16.0538   \n",
       "4   5      1  16.2108  13.1175  17.1489  14.8416  15.5158  15.0314  16.7884   \n",
       "\n",
       "        f8  ...    f4991    f4992    f4993    f4994    f4995    f4996  \\\n",
       "0  13.2488  ...  16.0304  13.3344  16.0211  10.0160  15.2300  13.1752   \n",
       "1  14.6787  ...  17.4675  15.3745  17.5870  14.3768  16.1388  14.5012   \n",
       "2  14.3283  ...  16.1209  15.0801  18.0217  13.3382  15.7998  14.2165   \n",
       "3  13.2912  ...  16.4285  12.3385  15.8880   8.4838  14.8774  12.8094   \n",
       "4  14.6162  ...  17.5532  15.3416  17.6385  11.4521  15.9572  14.7070   \n",
       "\n",
       "     f4997    f4998    f4999    f5000  \n",
       "0  14.8580  17.1991  17.1206  13.0425  \n",
       "1  15.3480  16.3339  19.2920  13.4911  \n",
       "2  15.3336  17.2670  18.9402  13.0222  \n",
       "3  14.7309  15.6526  17.5066  13.1212  \n",
       "4  15.4503  19.3039  19.0848  12.8876  \n",
       "\n",
       "[5 rows x 5002 columns]"
      ]
     },
     "execution_count": 11,
     "metadata": {},
     "output_type": "execute_result"
    }
   ],
   "source": [
    "df_ms.head()"
   ]
  },
  {
   "cell_type": "code",
   "execution_count": 12,
   "metadata": {},
   "outputs": [
    {
     "data": {
      "text/plain": [
       "(694, 5002)"
      ]
     },
     "execution_count": 12,
     "metadata": {},
     "output_type": "execute_result"
    }
   ],
   "source": [
    "df_ms.shape"
   ]
  },
  {
   "cell_type": "code",
   "execution_count": 13,
   "metadata": {},
   "outputs": [
    {
     "data": {
      "text/plain": [
       "class\n",
       "1    125\n",
       "2    259\n",
       "3    310\n",
       "dtype: int64"
      ]
     },
     "execution_count": 13,
     "metadata": {},
     "output_type": "execute_result"
    }
   ],
   "source": [
    "df_ms.groupby(['class']).size()"
   ]
  },
  {
   "cell_type": "code",
   "execution_count": 14,
   "metadata": {},
   "outputs": [
    {
     "data": {
      "text/html": [
       "<div>\n",
       "<style scoped>\n",
       "    .dataframe tbody tr th:only-of-type {\n",
       "        vertical-align: middle;\n",
       "    }\n",
       "\n",
       "    .dataframe tbody tr th {\n",
       "        vertical-align: top;\n",
       "    }\n",
       "\n",
       "    .dataframe thead th {\n",
       "        text-align: right;\n",
       "    }\n",
       "</style>\n",
       "<table border=\"1\" class=\"dataframe\">\n",
       "  <thead>\n",
       "    <tr style=\"text-align: right;\">\n",
       "      <th></th>\n",
       "      <th>id</th>\n",
       "      <th>class</th>\n",
       "      <th>f1</th>\n",
       "      <th>f2</th>\n",
       "      <th>f3</th>\n",
       "      <th>f4</th>\n",
       "      <th>f5</th>\n",
       "      <th>f6</th>\n",
       "      <th>f7</th>\n",
       "      <th>f8</th>\n",
       "      <th>...</th>\n",
       "      <th>f4991</th>\n",
       "      <th>f4992</th>\n",
       "      <th>f4993</th>\n",
       "      <th>f4994</th>\n",
       "      <th>f4995</th>\n",
       "      <th>f4996</th>\n",
       "      <th>f4997</th>\n",
       "      <th>f4998</th>\n",
       "      <th>f4999</th>\n",
       "      <th>f5000</th>\n",
       "    </tr>\n",
       "  </thead>\n",
       "  <tbody>\n",
       "  </tbody>\n",
       "</table>\n",
       "<p>0 rows × 5002 columns</p>\n",
       "</div>"
      ],
      "text/plain": [
       "Empty DataFrame\n",
       "Columns: [id, class, f1, f2, f3, f4, f5, f6, f7, f8, f9, f10, f11, f12, f13, f14, f15, f16, f17, f18, f19, f20, f21, f22, f23, f24, f25, f26, f27, f28, f29, f30, f31, f32, f33, f34, f35, f36, f37, f38, f39, f40, f41, f42, f43, f44, f45, f46, f47, f48, f49, f50, f51, f52, f53, f54, f55, f56, f57, f58, f59, f60, f61, f62, f63, f64, f65, f66, f67, f68, f69, f70, f71, f72, f73, f74, f75, f76, f77, f78, f79, f80, f81, f82, f83, f84, f85, f86, f87, f88, f89, f90, f91, f92, f93, f94, f95, f96, f97, f98, ...]\n",
       "Index: []\n",
       "\n",
       "[0 rows x 5002 columns]"
      ]
     },
     "execution_count": 14,
     "metadata": {},
     "output_type": "execute_result"
    }
   ],
   "source": [
    "# Check for possible null values.\n",
    "df_ms[df_ms.isnull().any(axis=1)]"
   ]
  },
  {
   "cell_type": "code",
   "execution_count": 3,
   "metadata": {},
   "outputs": [
    {
     "data": {
      "text/html": [
       "<div>\n",
       "<style scoped>\n",
       "    .dataframe tbody tr th:only-of-type {\n",
       "        vertical-align: middle;\n",
       "    }\n",
       "\n",
       "    .dataframe tbody tr th {\n",
       "        vertical-align: top;\n",
       "    }\n",
       "\n",
       "    .dataframe thead th {\n",
       "        text-align: right;\n",
       "    }\n",
       "</style>\n",
       "<table border=\"1\" class=\"dataframe\">\n",
       "  <thead>\n",
       "    <tr style=\"text-align: right;\">\n",
       "      <th></th>\n",
       "      <th>f1</th>\n",
       "      <th>f2</th>\n",
       "      <th>f3</th>\n",
       "      <th>f4</th>\n",
       "      <th>f5</th>\n",
       "      <th>f6</th>\n",
       "      <th>f7</th>\n",
       "      <th>f8</th>\n",
       "      <th>f9</th>\n",
       "      <th>f10</th>\n",
       "      <th>...</th>\n",
       "      <th>f4991</th>\n",
       "      <th>f4992</th>\n",
       "      <th>f4993</th>\n",
       "      <th>f4994</th>\n",
       "      <th>f4995</th>\n",
       "      <th>f4996</th>\n",
       "      <th>f4997</th>\n",
       "      <th>f4998</th>\n",
       "      <th>f4999</th>\n",
       "      <th>f5000</th>\n",
       "    </tr>\n",
       "  </thead>\n",
       "  <tbody>\n",
       "    <tr>\n",
       "      <th>0</th>\n",
       "      <td>14.3704</td>\n",
       "      <td>13.5189</td>\n",
       "      <td>15.2479</td>\n",
       "      <td>13.8274</td>\n",
       "      <td>14.2323</td>\n",
       "      <td>13.2383</td>\n",
       "      <td>16.1178</td>\n",
       "      <td>13.2488</td>\n",
       "      <td>17.0401</td>\n",
       "      <td>13.4350</td>\n",
       "      <td>...</td>\n",
       "      <td>16.0304</td>\n",
       "      <td>13.3344</td>\n",
       "      <td>16.0211</td>\n",
       "      <td>10.0160</td>\n",
       "      <td>15.2300</td>\n",
       "      <td>13.1752</td>\n",
       "      <td>14.8580</td>\n",
       "      <td>17.1991</td>\n",
       "      <td>17.1206</td>\n",
       "      <td>13.0425</td>\n",
       "    </tr>\n",
       "    <tr>\n",
       "      <th>1</th>\n",
       "      <td>16.6945</td>\n",
       "      <td>13.3035</td>\n",
       "      <td>16.5303</td>\n",
       "      <td>15.2523</td>\n",
       "      <td>15.7153</td>\n",
       "      <td>15.6161</td>\n",
       "      <td>18.3479</td>\n",
       "      <td>14.6787</td>\n",
       "      <td>15.7241</td>\n",
       "      <td>14.0165</td>\n",
       "      <td>...</td>\n",
       "      <td>17.4675</td>\n",
       "      <td>15.3745</td>\n",
       "      <td>17.5870</td>\n",
       "      <td>14.3768</td>\n",
       "      <td>16.1388</td>\n",
       "      <td>14.5012</td>\n",
       "      <td>15.3480</td>\n",
       "      <td>16.3339</td>\n",
       "      <td>19.2920</td>\n",
       "      <td>13.4911</td>\n",
       "    </tr>\n",
       "    <tr>\n",
       "      <th>2</th>\n",
       "      <td>16.1807</td>\n",
       "      <td>13.3308</td>\n",
       "      <td>16.1866</td>\n",
       "      <td>12.3704</td>\n",
       "      <td>13.9519</td>\n",
       "      <td>15.1695</td>\n",
       "      <td>17.2757</td>\n",
       "      <td>14.3283</td>\n",
       "      <td>17.9922</td>\n",
       "      <td>15.2093</td>\n",
       "      <td>...</td>\n",
       "      <td>16.1209</td>\n",
       "      <td>15.0801</td>\n",
       "      <td>18.0217</td>\n",
       "      <td>13.3382</td>\n",
       "      <td>15.7998</td>\n",
       "      <td>14.2165</td>\n",
       "      <td>15.3336</td>\n",
       "      <td>17.2670</td>\n",
       "      <td>18.9402</td>\n",
       "      <td>13.0222</td>\n",
       "    </tr>\n",
       "    <tr>\n",
       "      <th>3</th>\n",
       "      <td>16.8705</td>\n",
       "      <td>13.1743</td>\n",
       "      <td>16.2900</td>\n",
       "      <td>15.4931</td>\n",
       "      <td>14.8954</td>\n",
       "      <td>14.4440</td>\n",
       "      <td>16.0538</td>\n",
       "      <td>13.2912</td>\n",
       "      <td>15.5441</td>\n",
       "      <td>13.6822</td>\n",
       "      <td>...</td>\n",
       "      <td>16.4285</td>\n",
       "      <td>12.3385</td>\n",
       "      <td>15.8880</td>\n",
       "      <td>8.4838</td>\n",
       "      <td>14.8774</td>\n",
       "      <td>12.8094</td>\n",
       "      <td>14.7309</td>\n",
       "      <td>15.6526</td>\n",
       "      <td>17.5066</td>\n",
       "      <td>13.1212</td>\n",
       "    </tr>\n",
       "    <tr>\n",
       "      <th>4</th>\n",
       "      <td>16.2108</td>\n",
       "      <td>13.1175</td>\n",
       "      <td>17.1489</td>\n",
       "      <td>14.8416</td>\n",
       "      <td>15.5158</td>\n",
       "      <td>15.0314</td>\n",
       "      <td>16.7884</td>\n",
       "      <td>14.6162</td>\n",
       "      <td>19.8109</td>\n",
       "      <td>15.7747</td>\n",
       "      <td>...</td>\n",
       "      <td>17.5532</td>\n",
       "      <td>15.3416</td>\n",
       "      <td>17.6385</td>\n",
       "      <td>11.4521</td>\n",
       "      <td>15.9572</td>\n",
       "      <td>14.7070</td>\n",
       "      <td>15.4503</td>\n",
       "      <td>19.3039</td>\n",
       "      <td>19.0848</td>\n",
       "      <td>12.8876</td>\n",
       "    </tr>\n",
       "  </tbody>\n",
       "</table>\n",
       "<p>5 rows × 5000 columns</p>\n",
       "</div>"
      ],
      "text/plain": [
       "        f1       f2       f3       f4       f5       f6       f7       f8  \\\n",
       "0  14.3704  13.5189  15.2479  13.8274  14.2323  13.2383  16.1178  13.2488   \n",
       "1  16.6945  13.3035  16.5303  15.2523  15.7153  15.6161  18.3479  14.6787   \n",
       "2  16.1807  13.3308  16.1866  12.3704  13.9519  15.1695  17.2757  14.3283   \n",
       "3  16.8705  13.1743  16.2900  15.4931  14.8954  14.4440  16.0538  13.2912   \n",
       "4  16.2108  13.1175  17.1489  14.8416  15.5158  15.0314  16.7884  14.6162   \n",
       "\n",
       "        f9      f10  ...    f4991    f4992    f4993    f4994    f4995  \\\n",
       "0  17.0401  13.4350  ...  16.0304  13.3344  16.0211  10.0160  15.2300   \n",
       "1  15.7241  14.0165  ...  17.4675  15.3745  17.5870  14.3768  16.1388   \n",
       "2  17.9922  15.2093  ...  16.1209  15.0801  18.0217  13.3382  15.7998   \n",
       "3  15.5441  13.6822  ...  16.4285  12.3385  15.8880   8.4838  14.8774   \n",
       "4  19.8109  15.7747  ...  17.5532  15.3416  17.6385  11.4521  15.9572   \n",
       "\n",
       "     f4996    f4997    f4998    f4999    f5000  \n",
       "0  13.1752  14.8580  17.1991  17.1206  13.0425  \n",
       "1  14.5012  15.3480  16.3339  19.2920  13.4911  \n",
       "2  14.2165  15.3336  17.2670  18.9402  13.0222  \n",
       "3  12.8094  14.7309  15.6526  17.5066  13.1212  \n",
       "4  14.7070  15.4503  19.3039  19.0848  12.8876  \n",
       "\n",
       "[5 rows x 5000 columns]"
      ]
     },
     "execution_count": 3,
     "metadata": {},
     "output_type": "execute_result"
    }
   ],
   "source": [
    "# Drop class and id columns for clustering.\n",
    "df_ms_cleaned = df_ms.drop('id', 1)\n",
    "df_ms_cleaned = df_ms_cleaned.drop('class', 1)\n",
    "df_ms_cleaned.head()"
   ]
  },
  {
   "cell_type": "code",
   "execution_count": 106,
   "metadata": {},
   "outputs": [
    {
     "data": {
      "text/plain": [
       "array([[<matplotlib.axes._subplots.AxesSubplot object at 0x13c3437d0>]],\n",
       "      dtype=object)"
      ]
     },
     "execution_count": 106,
     "metadata": {},
     "output_type": "execute_result"
    },
    {
     "data": {
      "image/png": "[encoded data removed]",
      "text/plain": [
       "<Figure size 432x288 with 1 Axes>"
      ]
     },
     "metadata": {
      "needs_background": "light"
     },
     "output_type": "display_data"
    }
   ],
   "source": [
    "df_ms_cleaned.hist(column='f1')"
   ]
  },
  {
   "cell_type": "code",
   "execution_count": 107,
   "metadata": {},
   "outputs": [
    {
     "data": {
      "text/plain": [
       "array([[<matplotlib.axes._subplots.AxesSubplot object at 0x13ba24710>]],\n",
       "      dtype=object)"
      ]
     },
     "execution_count": 107,
     "metadata": {},
     "output_type": "execute_result"
    },
    {
     "data": {
      "image/png": "[encoded data removed]",
      "text/plain": [
       "<Figure size 432x288 with 1 Axes>"
      ]
     },
     "metadata": {
      "needs_background": "light"
     },
     "output_type": "display_data"
    }
   ],
   "source": [
    "df_ms_cleaned.hist(column=\"f4340\")"
   ]
  },
  {
   "cell_type": "code",
   "execution_count": 109,
   "metadata": {},
   "outputs": [
    {
     "data": {
      "text/plain": [
       "array([[<matplotlib.axes._subplots.AxesSubplot object at 0x13bd7ed90>]],\n",
       "      dtype=object)"
      ]
     },
     "execution_count": 109,
     "metadata": {},
     "output_type": "execute_result"
    },
    {
     "data": {
      "image/png": "[encoded data removed]",
      "text/plain": [
       "<Figure size 432x288 with 1 Axes>"
      ]
     },
     "metadata": {
      "needs_background": "light"
     },
     "output_type": "display_data"
    }
   ],
   "source": [
    "df_ms_cleaned.hist(column=\"f2431\")"
   ]
  },
  {
   "cell_type": "markdown",
   "metadata": {},
   "source": [
    "The dataset contains 5000 features, and 694 data points in 3 different classes. No values are missing."
   ]
  },
  {
   "cell_type": "markdown",
   "metadata": {},
   "source": [
    "### Clustering"
   ]
  },
  {
   "cell_type": "markdown",
   "metadata": {},
   "source": [
    "In this section, different clustering methods are performed."
   ]
  },
  {
   "cell_type": "markdown",
   "metadata": {},
   "source": [
    "#### K-Means"
   ]
  },
  {
   "cell_type": "markdown",
   "metadata": {},
   "source": [
    "Analyzing the optimal number of clusters using Silhouette coefficent, Calinski Harabasz coefficent, Davies-Bouldin coefficent, and the elbow method."
   ]
  },
  {
   "cell_type": "code",
   "execution_count": 25,
   "metadata": {},
   "outputs": [
    {
     "data": {
      "image/png": "[encoded data removed]",
      "text/plain": [
       "<Figure size 1152x864 with 3 Axes>"
      ]
     },
     "metadata": {
      "needs_background": "light"
     },
     "output_type": "display_data"
    }
   ],
   "source": [
    "silhouette=[]\n",
    "calinski=[]\n",
    "davies=[]\n",
    "K=[2, 3, 4, 5, 6, 7, 10, 20]\n",
    "for i in K:\n",
    "    kmeans_model = KMeans(n_clusters=i)\n",
    "    kmeans_model = kmeans_model.fit(df_ms_cleaned)\n",
    "    labels = kmeans_model.labels_\n",
    "    silhouette.append(metrics.silhouette_score(df_ms_cleaned, labels))\n",
    "    calinski.append(metrics.calinski_harabasz_score(df_ms_cleaned, labels))\n",
    "    davies.append(metrics.davies_bouldin_score(df_ms_cleaned, labels))\n",
    "\n",
    "fig, axs = plt.subplots(3, figsize=(16,12))\n",
    "axs[0].plot(K, silhouette)\n",
    "axs[1].plot(K, calinski)\n",
    "axs[2].plot(K, davies)\n",
    "axs[0].title.set_text('Silhouette Coefficent')\n",
    "axs[1].title.set_text('Calinski Harabasz Coefficent')\n",
    "axs[2].title.set_text('Davies-Bouldin Coefficent')\n",
    "plt.show()"
   ]
  },
  {
   "cell_type": "code",
   "execution_count": 26,
   "metadata": {},
   "outputs": [
    {
     "data": {
      "image/png": "[encoded data removed]",
      "text/plain": [
       "<Figure size 1152x576 with 1 Axes>"
      ]
     },
     "metadata": {
      "needs_background": "light"
     },
     "output_type": "display_data"
    }
   ],
   "source": [
    "distortions = []\n",
    "K = range(1, 20)\n",
    "for k in K:\n",
    "    kmeanModel = KMeans(n_clusters=k)\n",
    "    kmeanModel.fit(df_ms_cleaned)\n",
    "    distortions.append(kmeanModel.inertia_)\n",
    "\n",
    "plt.figure(figsize=(16,8))\n",
    "plt.plot(K, distortions, 'bx-')\n",
    "plt.xlabel('k')\n",
    "plt.ylabel('Distortion')\n",
    "plt.title('The Elbow Method showing the optimal k')\n",
    "plt.show()\n",
    "plt.show()"
   ]
  },
  {
   "cell_type": "markdown",
   "metadata": {},
   "source": [
    "The optimal number of clusters seems to be around 3. However, also other values shall be tested. Reasoning:\n",
    "* In the Elbow Method, the optimal k is at the elbow, which seems to be around k=3.\n",
    "* Sihuette: The best value is 1 and the worst value is -1. Values near 0 indicate overlapping clusters. => Value is greatest with k=2.\n",
    "* Calinski Harabasz: Higher value is better. The maximum is at k=3.\n",
    "* Davies-Bouldin: The minimum score is zero, with lower values indicating better clustering. => Minimum at k=6."
   ]
  },
  {
   "cell_type": "markdown",
   "metadata": {},
   "source": [
    "##### Visualizing different k-values using PCA"
   ]
  },
  {
   "cell_type": "code",
   "execution_count": 18,
   "metadata": {},
   "outputs": [
    {
     "data": {
      "image/png": "[encoded data removed]",
      "text/plain": [
       "<Figure size 1440x576 with 3 Axes>"
      ]
     },
     "metadata": {
      "needs_background": "light"
     },
     "output_type": "display_data"
    }
   ],
   "source": [
    "clusterer = KMeans(n_clusters=2)\n",
    "labels2 = clusterer.fit_predict(df_ms_cleaned)\n",
    "clusterer = KMeans(n_clusters=3)\n",
    "labels3 = clusterer.fit_predict(df_ms_cleaned)\n",
    "clusterer = KMeans(n_clusters=5)\n",
    "labels5 = clusterer.fit_predict(df_ms_cleaned)\n",
    "    \n",
    "pca = PCA(n_components=2)\n",
    "principalComponents = pca.fit_transform(df_ms_cleaned)\n",
    "fig, axes = plt.subplots(1, 3, figsize=(20,8))\n",
    "axes[0].set_xlabel('Principal Component 1', fontsize = 15)\n",
    "axes[0].set_ylabel('Principal Component 2', fontsize = 15)\n",
    "axes[0].set_title('2 component PCA', fontsize = 20)\n",
    "axes[0].scatter(principalComponents[:,0], principalComponents[:,1],c=labels2, s=50)\n",
    "axes[0].grid()\n",
    "axes[1].set_xlabel('Principal Component 1', fontsize = 15)\n",
    "axes[1].set_ylabel('Principal Component 2', fontsize = 15)\n",
    "axes[1].set_title('3 component PCA', fontsize = 20)\n",
    "axes[1].scatter(principalComponents[:,0], principalComponents[:,1],c=labels3, s=50)\n",
    "axes[1].grid()\n",
    "axes[2].set_xlabel('Principal Component 1', fontsize = 15)\n",
    "axes[2].set_ylabel('Principal Component 2', fontsize = 15)\n",
    "axes[2].set_title('5 component PCA', fontsize = 20)\n",
    "axes[2].scatter(principalComponents[:,0], principalComponents[:,1],c=labels5, s=50)\n",
    "axes[2].grid()"
   ]
  },
  {
   "cell_type": "markdown",
   "metadata": {},
   "source": [
    "##### K-means NMI"
   ]
  },
  {
   "cell_type": "code",
   "execution_count": 24,
   "metadata": {},
   "outputs": [
    {
     "name": "stdout",
     "output_type": "stream",
     "text": [
      "NMI for K-means with 2 clusters: 0.52\n",
      "NMI for K-means with 3 clusters: 0.27\n",
      "NMI for K-means with 4 clusters: 0.09\n",
      "NMI for K-means with 5 clusters: 0.1\n",
      "NMI for K-means with 6 clusters: 0.09\n",
      "NMI for K-means with 7 clusters: 0.12\n",
      "NMI for K-means with 8 clusters: 0.15\n",
      "NMI for K-means with 9 clusters: 0.18\n"
     ]
    }
   ],
   "source": [
    "K = range(2,10)\n",
    "for k in K:\n",
    "    clusterer = KMeans(n_clusters=k)\n",
    "    labels = clusterer.fit_predict(df_ms_cleaned)\n",
    "    nmi = metrics.normalized_mutual_info_score(df_ms[\"class\"],labels, average_method=\"geometric\")\n",
    "    print(\"NMI for K-means with {} clusters: {}\".format(k, round(nmi,2)))"
   ]
  },
  {
   "cell_type": "markdown",
   "metadata": {},
   "source": [
    "It turned out that with K-means clustering the best NMI achieved was 0.52 with only 2 clusters."
   ]
  },
  {
   "cell_type": "markdown",
   "metadata": {},
   "source": [
    "#### Hierarchical agglomerative clustering"
   ]
  },
  {
   "cell_type": "markdown",
   "metadata": {},
   "source": [
    "In this section, hierarchical agglomerative clustering is performed using the following linkage metrics:\n",
    "* single-linkage metric\n",
    "* complete-linkage metric\n",
    "* average-linkage metric\n",
    "* ward-linkage metric"
   ]
  },
  {
   "cell_type": "code",
   "execution_count": 27,
   "metadata": {},
   "outputs": [
    {
     "name": "stdout",
     "output_type": "stream",
     "text": [
      "The maximum NMI with linkage=single is reached using 19 clusters. The NMI value is 0.06.\n",
      "The maximum NMI with linkage=average is reached using 19 clusters. The NMI value is 0.06.\n",
      "The maximum NMI with linkage=complete is reached using 19 clusters. The NMI value is 0.22.\n",
      "The maximum NMI with linkage=ward is reached using 4 clusters. The NMI value is 0.51.\n"
     ]
    }
   ],
   "source": [
    "K = range(2,20)\n",
    "for l in [\"single\", \"average\", \"complete\", \"ward\"]:\n",
    "    nmis={}\n",
    "    for k in K:\n",
    "        clustering = AgglomerativeClustering(n_clusters=k, affinity='euclidean', compute_full_tree='auto', linkage=l)\n",
    "        clusters=clustering.fit_predict(df_ms_cleaned)\n",
    "        nmi = metrics.normalized_mutual_info_score(df_ms[\"class\"], clusters, average_method=\"geometric\")\n",
    "        nmis[k]=nmi\n",
    "    max_k=max(nmis.items(), key=operator.itemgetter(1))[0]\n",
    "    print(\"The maximum NMI with linkage={} is reached using {} clusters. The NMI value is {}.\".format(l, max_k, round(nmis.get(max_k),2)))"
   ]
  },
  {
   "cell_type": "markdown",
   "metadata": {},
   "source": [
    "As a result, Agglomerative clustering with ward-linkage and 4 clusters provides the best results, reaching NMI=0.51."
   ]
  },
  {
   "cell_type": "code",
   "execution_count": 28,
   "metadata": {},
   "outputs": [
    {
     "data": {
      "image/png": "[encoded data removed]",
      "text/plain": [
       "<Figure size 1440x576 with 3 Axes>"
      ]
     },
     "metadata": {
      "needs_background": "light"
     },
     "output_type": "display_data"
    }
   ],
   "source": [
    "labels=[]   \n",
    "for k in [2, 6, 10]:\n",
    "    clustering=AgglomerativeClustering(n_clusters=k, affinity='euclidean', compute_full_tree='auto', linkage=\"ward\")\n",
    "    values=clustering.fit_predict(df_ms_cleaned)\n",
    "    labels.append(values)\n",
    "\n",
    "pca = PCA(n_components=2)\n",
    "principalComponents = pca.fit_transform(df_ms_cleaned)\n",
    "fig, axes = plt.subplots(1, 3, figsize=(20,8))\n",
    "axes[0].set_xlabel('Principal Component 1', fontsize = 15)\n",
    "axes[0].set_ylabel('Principal Component 2', fontsize = 15)\n",
    "axes[0].set_title('k=2', fontsize = 20)\n",
    "axes[0].scatter(principalComponents[:,0], principalComponents[:,1],c=labels[0], s=50)\n",
    "axes[0].grid()\n",
    "axes[1].set_xlabel('Principal Component 1', fontsize = 15)\n",
    "axes[1].set_ylabel('Principal Component 2', fontsize = 15)\n",
    "axes[1].set_title('k=6', fontsize = 20)\n",
    "axes[1].scatter(principalComponents[:,0], principalComponents[:,1],c=labels[1], s=50)\n",
    "axes[1].grid()\n",
    "axes[2].set_xlabel('Principal Component 1', fontsize = 15)\n",
    "axes[2].set_ylabel('Principal Component 2', fontsize = 15)\n",
    "axes[2].set_title('k=10', fontsize = 20)\n",
    "axes[2].scatter(principalComponents[:,0], principalComponents[:,1],c=labels[2], s=50)\n",
    "axes[2].grid()"
   ]
  },
  {
   "cell_type": "markdown",
   "metadata": {},
   "source": [
    "#### Birch clustering"
   ]
  },
  {
   "cell_type": "code",
   "execution_count": 29,
   "metadata": {},
   "outputs": [
    {
     "name": "stdout",
     "output_type": "stream",
     "text": [
      "The maximum NMI with Birch clustering is reached using 4 clusters. The NMI value is 0.51.\n"
     ]
    }
   ],
   "source": [
    "K = range(2,20)\n",
    "nmis={}\n",
    "for k in K:\n",
    "    brc = Birch(n_clusters=k)\n",
    "    brc.fit_predict(df_ms_cleaned)\n",
    "    nmi = metrics.normalized_mutual_info_score(df_ms[\"class\"], brc.labels_, average_method=\"geometric\")\n",
    "    nmis[k]=nmi\n",
    "max_k=max(nmis.items(), key=operator.itemgetter(1))[0]\n",
    "print(\"The maximum NMI with Birch clustering is reached using {} clusters. The NMI value is {}.\".format(max_k, round(nmis.get(max_k),2)))"
   ]
  },
  {
   "cell_type": "markdown",
   "metadata": {},
   "source": [
    "#### Mini-Batch clustering"
   ]
  },
  {
   "cell_type": "code",
   "execution_count": 30,
   "metadata": {},
   "outputs": [
    {
     "name": "stdout",
     "output_type": "stream",
     "text": [
      "The maximum NMI with Mini-Batch clustering is reached using 14 clusters. The NMI value is 0.26.\n",
      "The maximum NMI with Mini-Batch clustering is reached using 7 clusters. The NMI value is 0.23.\n",
      "The maximum NMI with Mini-Batch clustering is reached using 12 clusters. The NMI value is 0.17.\n",
      "The maximum NMI with Mini-Batch clustering is reached using 7 clusters. The NMI value is 0.19.\n",
      "The maximum NMI with Mini-Batch clustering is reached using 18 clusters. The NMI value is 0.22.\n"
     ]
    }
   ],
   "source": [
    "for i in range(0,5):\n",
    "    nmis={}\n",
    "    for k in range(2,20):\n",
    "        mbkmeans = MiniBatchKMeans(n_clusters=k)\n",
    "        mbkmeans.fit_predict(df_ms_cleaned)\n",
    "        nmi = metrics.normalized_mutual_info_score(df_ms[\"class\"], mbkmeans.labels_, average_method=\"geometric\")\n",
    "        nmis[k]=nmi\n",
    "    max_k=max(nmis.items(), key=operator.itemgetter(1))[0]\n",
    "    print(\"The maximum NMI with Mini-Batch clustering is reached using {} clusters. The NMI value is {}.\".format(max_k, round(nmis.get(max_k),2)))"
   ]
  },
  {
   "cell_type": "markdown",
   "metadata": {},
   "source": [
    "For minibatch clustering, the maximum NMI as well as the best performing number of clusters has some variation."
   ]
  },
  {
   "cell_type": "markdown",
   "metadata": {},
   "source": [
    "#### Gaussian Mixture"
   ]
  },
  {
   "cell_type": "code",
   "execution_count": 36,
   "metadata": {},
   "outputs": [
    {
     "data": {
      "text/plain": [
       "0.2"
      ]
     },
     "execution_count": 36,
     "metadata": {},
     "output_type": "execute_result"
    }
   ],
   "source": [
    "m = GaussianMixture(n_components=3)\n",
    "m.fit(df_ms_cleaned)\n",
    "gm_vals = m.predict(df_ms_cleaned)\n",
    "round(metrics.normalized_mutual_info_score(df_ms[\"class\"],gm_vals, average_method=\"geometric\"),2)"
   ]
  },
  {
   "cell_type": "markdown",
   "metadata": {},
   "source": [
    "Due to the long computation time, Gaussian mixture was not tested more extensively."
   ]
  },
  {
   "cell_type": "markdown",
   "metadata": {},
   "source": [
    "#### Spectral clustering"
   ]
  },
  {
   "cell_type": "code",
   "execution_count": 31,
   "metadata": {},
   "outputs": [
    {
     "name": "stderr",
     "output_type": "stream",
     "text": [
      "/usr/local/lib/python3.7/site-packages/sklearn/manifold/_spectral_embedding.py:236: UserWarning: Graph is not fully connected, spectral embedding may not work as expected.\n",
      "  warnings.warn(\"Graph is not fully connected, spectral embedding\"\n",
      "/usr/local/lib/python3.7/site-packages/sklearn/manifold/_spectral_embedding.py:236: UserWarning: Graph is not fully connected, spectral embedding may not work as expected.\n",
      "  warnings.warn(\"Graph is not fully connected, spectral embedding\"\n",
      "/usr/local/lib/python3.7/site-packages/sklearn/manifold/_spectral_embedding.py:236: UserWarning: Graph is not fully connected, spectral embedding may not work as expected.\n",
      "  warnings.warn(\"Graph is not fully connected, spectral embedding\"\n",
      "/usr/local/lib/python3.7/site-packages/sklearn/manifold/_spectral_embedding.py:236: UserWarning: Graph is not fully connected, spectral embedding may not work as expected.\n",
      "  warnings.warn(\"Graph is not fully connected, spectral embedding\"\n",
      "/usr/local/lib/python3.7/site-packages/sklearn/manifold/_spectral_embedding.py:236: UserWarning: Graph is not fully connected, spectral embedding may not work as expected.\n",
      "  warnings.warn(\"Graph is not fully connected, spectral embedding\"\n",
      "/usr/local/lib/python3.7/site-packages/sklearn/manifold/_spectral_embedding.py:236: UserWarning: Graph is not fully connected, spectral embedding may not work as expected.\n",
      "  warnings.warn(\"Graph is not fully connected, spectral embedding\"\n",
      "/usr/local/lib/python3.7/site-packages/sklearn/manifold/_spectral_embedding.py:236: UserWarning: Graph is not fully connected, spectral embedding may not work as expected.\n",
      "  warnings.warn(\"Graph is not fully connected, spectral embedding\"\n",
      "/usr/local/lib/python3.7/site-packages/sklearn/manifold/_spectral_embedding.py:236: UserWarning: Graph is not fully connected, spectral embedding may not work as expected.\n",
      "  warnings.warn(\"Graph is not fully connected, spectral embedding\"\n",
      "/usr/local/lib/python3.7/site-packages/sklearn/manifold/_spectral_embedding.py:236: UserWarning: Graph is not fully connected, spectral embedding may not work as expected.\n",
      "  warnings.warn(\"Graph is not fully connected, spectral embedding\"\n",
      "/usr/local/lib/python3.7/site-packages/sklearn/manifold/_spectral_embedding.py:236: UserWarning: Graph is not fully connected, spectral embedding may not work as expected.\n",
      "  warnings.warn(\"Graph is not fully connected, spectral embedding\"\n",
      "/usr/local/lib/python3.7/site-packages/sklearn/manifold/_spectral_embedding.py:236: UserWarning: Graph is not fully connected, spectral embedding may not work as expected.\n",
      "  warnings.warn(\"Graph is not fully connected, spectral embedding\"\n",
      "/usr/local/lib/python3.7/site-packages/sklearn/manifold/_spectral_embedding.py:236: UserWarning: Graph is not fully connected, spectral embedding may not work as expected.\n",
      "  warnings.warn(\"Graph is not fully connected, spectral embedding\"\n",
      "/usr/local/lib/python3.7/site-packages/sklearn/manifold/_spectral_embedding.py:236: UserWarning: Graph is not fully connected, spectral embedding may not work as expected.\n",
      "  warnings.warn(\"Graph is not fully connected, spectral embedding\"\n",
      "/usr/local/lib/python3.7/site-packages/sklearn/manifold/_spectral_embedding.py:236: UserWarning: Graph is not fully connected, spectral embedding may not work as expected.\n",
      "  warnings.warn(\"Graph is not fully connected, spectral embedding\"\n",
      "/usr/local/lib/python3.7/site-packages/sklearn/manifold/_spectral_embedding.py:236: UserWarning: Graph is not fully connected, spectral embedding may not work as expected.\n",
      "  warnings.warn(\"Graph is not fully connected, spectral embedding\"\n",
      "/usr/local/lib/python3.7/site-packages/sklearn/manifold/_spectral_embedding.py:236: UserWarning: Graph is not fully connected, spectral embedding may not work as expected.\n",
      "  warnings.warn(\"Graph is not fully connected, spectral embedding\"\n",
      "/usr/local/lib/python3.7/site-packages/sklearn/manifold/_spectral_embedding.py:236: UserWarning: Graph is not fully connected, spectral embedding may not work as expected.\n",
      "  warnings.warn(\"Graph is not fully connected, spectral embedding\"\n",
      "/usr/local/lib/python3.7/site-packages/sklearn/manifold/_spectral_embedding.py:236: UserWarning: Graph is not fully connected, spectral embedding may not work as expected.\n",
      "  warnings.warn(\"Graph is not fully connected, spectral embedding\"\n"
     ]
    },
    {
     "name": "stdout",
     "output_type": "stream",
     "text": [
      "The maximum NMI with Spectral clustering is reached using 18 clusters. The NMI value is 0.02.\n"
     ]
    }
   ],
   "source": [
    "K = range(2,20)\n",
    "nmis={}\n",
    "for k in K:\n",
    "    clustering = SpectralClustering(n_clusters=k)\n",
    "    clustering.fit_predict(df_ms_cleaned)\n",
    "    nmi = metrics.normalized_mutual_info_score(df_ms[\"class\"], clustering.labels_, average_method=\"geometric\")\n",
    "    nmis[k]=nmi\n",
    "max_k=max(nmis.items(), key=operator.itemgetter(1))[0]\n",
    "print(\"The maximum NMI with Spectral clustering is reached using {} clusters. The NMI value is {}.\".format(max_k, round(nmis.get(max_k),2)))"
   ]
  },
  {
   "cell_type": "markdown",
   "metadata": {},
   "source": [
    "### Feature engineering: Scaling"
   ]
  },
  {
   "cell_type": "markdown",
   "metadata": {},
   "source": [
    "Next, let's try to improve the solutions by scaling the values."
   ]
  },
  {
   "cell_type": "code",
   "execution_count": 32,
   "metadata": {},
   "outputs": [
    {
     "data": {
      "text/html": [
       "<div>\n",
       "<style scoped>\n",
       "    .dataframe tbody tr th:only-of-type {\n",
       "        vertical-align: middle;\n",
       "    }\n",
       "\n",
       "    .dataframe tbody tr th {\n",
       "        vertical-align: top;\n",
       "    }\n",
       "\n",
       "    .dataframe thead th {\n",
       "        text-align: right;\n",
       "    }\n",
       "</style>\n",
       "<table border=\"1\" class=\"dataframe\">\n",
       "  <thead>\n",
       "    <tr style=\"text-align: right;\">\n",
       "      <th></th>\n",
       "      <th>0</th>\n",
       "      <th>1</th>\n",
       "      <th>2</th>\n",
       "      <th>3</th>\n",
       "      <th>4</th>\n",
       "      <th>5</th>\n",
       "      <th>6</th>\n",
       "      <th>7</th>\n",
       "      <th>8</th>\n",
       "      <th>9</th>\n",
       "      <th>...</th>\n",
       "      <th>4990</th>\n",
       "      <th>4991</th>\n",
       "      <th>4992</th>\n",
       "      <th>4993</th>\n",
       "      <th>4994</th>\n",
       "      <th>4995</th>\n",
       "      <th>4996</th>\n",
       "      <th>4997</th>\n",
       "      <th>4998</th>\n",
       "      <th>4999</th>\n",
       "    </tr>\n",
       "  </thead>\n",
       "  <tbody>\n",
       "    <tr>\n",
       "      <th>0</th>\n",
       "      <td>0.653471</td>\n",
       "      <td>0.892607</td>\n",
       "      <td>0.742119</td>\n",
       "      <td>0.798357</td>\n",
       "      <td>0.649117</td>\n",
       "      <td>0.584171</td>\n",
       "      <td>0.715346</td>\n",
       "      <td>0.816403</td>\n",
       "      <td>0.715016</td>\n",
       "      <td>0.725033</td>\n",
       "      <td>...</td>\n",
       "      <td>0.740579</td>\n",
       "      <td>0.780618</td>\n",
       "      <td>0.763988</td>\n",
       "      <td>0.532612</td>\n",
       "      <td>0.844256</td>\n",
       "      <td>0.730324</td>\n",
       "      <td>0.751252</td>\n",
       "      <td>0.817999</td>\n",
       "      <td>0.739745</td>\n",
       "      <td>0.845812</td>\n",
       "    </tr>\n",
       "    <tr>\n",
       "      <th>1</th>\n",
       "      <td>0.862522</td>\n",
       "      <td>0.865354</td>\n",
       "      <td>0.865370</td>\n",
       "      <td>0.945777</td>\n",
       "      <td>0.780827</td>\n",
       "      <td>0.791571</td>\n",
       "      <td>0.911480</td>\n",
       "      <td>0.990376</td>\n",
       "      <td>0.614477</td>\n",
       "      <td>0.787404</td>\n",
       "      <td>...</td>\n",
       "      <td>0.872605</td>\n",
       "      <td>1.000000</td>\n",
       "      <td>0.911116</td>\n",
       "      <td>0.936165</td>\n",
       "      <td>0.941515</td>\n",
       "      <td>0.871619</td>\n",
       "      <td>0.799847</td>\n",
       "      <td>0.743186</td>\n",
       "      <td>0.926870</td>\n",
       "      <td>0.902605</td>\n",
       "    </tr>\n",
       "    <tr>\n",
       "      <th>2</th>\n",
       "      <td>0.816306</td>\n",
       "      <td>0.868808</td>\n",
       "      <td>0.832337</td>\n",
       "      <td>0.647616</td>\n",
       "      <td>0.624214</td>\n",
       "      <td>0.752617</td>\n",
       "      <td>0.817182</td>\n",
       "      <td>0.947744</td>\n",
       "      <td>0.787754</td>\n",
       "      <td>0.915341</td>\n",
       "      <td>...</td>\n",
       "      <td>0.748893</td>\n",
       "      <td>0.968342</td>\n",
       "      <td>0.951959</td>\n",
       "      <td>0.840052</td>\n",
       "      <td>0.905235</td>\n",
       "      <td>0.841283</td>\n",
       "      <td>0.798419</td>\n",
       "      <td>0.823871</td>\n",
       "      <td>0.896553</td>\n",
       "      <td>0.843242</td>\n",
       "    </tr>\n",
       "    <tr>\n",
       "      <th>3</th>\n",
       "      <td>0.878353</td>\n",
       "      <td>0.849007</td>\n",
       "      <td>0.842275</td>\n",
       "      <td>0.970690</td>\n",
       "      <td>0.708009</td>\n",
       "      <td>0.689336</td>\n",
       "      <td>0.709717</td>\n",
       "      <td>0.821562</td>\n",
       "      <td>0.600726</td>\n",
       "      <td>0.751547</td>\n",
       "      <td>...</td>\n",
       "      <td>0.777152</td>\n",
       "      <td>0.673524</td>\n",
       "      <td>0.751482</td>\n",
       "      <td>0.390820</td>\n",
       "      <td>0.806522</td>\n",
       "      <td>0.691345</td>\n",
       "      <td>0.738647</td>\n",
       "      <td>0.684275</td>\n",
       "      <td>0.773009</td>\n",
       "      <td>0.855776</td>\n",
       "    </tr>\n",
       "    <tr>\n",
       "      <th>4</th>\n",
       "      <td>0.819013</td>\n",
       "      <td>0.841821</td>\n",
       "      <td>0.924823</td>\n",
       "      <td>0.903286</td>\n",
       "      <td>0.763109</td>\n",
       "      <td>0.740571</td>\n",
       "      <td>0.774324</td>\n",
       "      <td>0.982772</td>\n",
       "      <td>0.926697</td>\n",
       "      <td>0.975985</td>\n",
       "      <td>...</td>\n",
       "      <td>0.880478</td>\n",
       "      <td>0.996462</td>\n",
       "      <td>0.915955</td>\n",
       "      <td>0.665510</td>\n",
       "      <td>0.922080</td>\n",
       "      <td>0.893549</td>\n",
       "      <td>0.809993</td>\n",
       "      <td>1.000000</td>\n",
       "      <td>0.909014</td>\n",
       "      <td>0.826201</td>\n",
       "    </tr>\n",
       "  </tbody>\n",
       "</table>\n",
       "<p>5 rows × 5000 columns</p>\n",
       "</div>"
      ],
      "text/plain": [
       "       0         1         2         3         4         5         6     \\\n",
       "0  0.653471  0.892607  0.742119  0.798357  0.649117  0.584171  0.715346   \n",
       "1  0.862522  0.865354  0.865370  0.945777  0.780827  0.791571  0.911480   \n",
       "2  0.816306  0.868808  0.832337  0.647616  0.624214  0.752617  0.817182   \n",
       "3  0.878353  0.849007  0.842275  0.970690  0.708009  0.689336  0.709717   \n",
       "4  0.819013  0.841821  0.924823  0.903286  0.763109  0.740571  0.774324   \n",
       "\n",
       "       7         8         9     ...      4990      4991      4992      4993  \\\n",
       "0  0.816403  0.715016  0.725033  ...  0.740579  0.780618  0.763988  0.532612   \n",
       "1  0.990376  0.614477  0.787404  ...  0.872605  1.000000  0.911116  0.936165   \n",
       "2  0.947744  0.787754  0.915341  ...  0.748893  0.968342  0.951959  0.840052   \n",
       "3  0.821562  0.600726  0.751547  ...  0.777152  0.673524  0.751482  0.390820   \n",
       "4  0.982772  0.926697  0.975985  ...  0.880478  0.996462  0.915955  0.665510   \n",
       "\n",
       "       4994      4995      4996      4997      4998      4999  \n",
       "0  0.844256  0.730324  0.751252  0.817999  0.739745  0.845812  \n",
       "1  0.941515  0.871619  0.799847  0.743186  0.926870  0.902605  \n",
       "2  0.905235  0.841283  0.798419  0.823871  0.896553  0.843242  \n",
       "3  0.806522  0.691345  0.738647  0.684275  0.773009  0.855776  \n",
       "4  0.922080  0.893549  0.809993  1.000000  0.909014  0.826201  \n",
       "\n",
       "[5 rows x 5000 columns]"
      ]
     },
     "execution_count": 32,
     "metadata": {},
     "output_type": "execute_result"
    }
   ],
   "source": [
    "x = df_ms_cleaned.values\n",
    "min_max_scaler = preprocessing.MinMaxScaler()\n",
    "x_scaled = min_max_scaler.fit_transform(x)\n",
    "df_ms_cleaned_minmax_scaled = pd.DataFrame(x_scaled)\n",
    "df_ms_cleaned_minmax_scaled.head()"
   ]
  },
  {
   "cell_type": "code",
   "execution_count": 34,
   "metadata": {},
   "outputs": [
    {
     "data": {
      "text/html": [
       "<div>\n",
       "<style scoped>\n",
       "    .dataframe tbody tr th:only-of-type {\n",
       "        vertical-align: middle;\n",
       "    }\n",
       "\n",
       "    .dataframe tbody tr th {\n",
       "        vertical-align: top;\n",
       "    }\n",
       "\n",
       "    .dataframe thead th {\n",
       "        text-align: right;\n",
       "    }\n",
       "</style>\n",
       "<table border=\"1\" class=\"dataframe\">\n",
       "  <thead>\n",
       "    <tr style=\"text-align: right;\">\n",
       "      <th></th>\n",
       "      <th>0</th>\n",
       "      <th>1</th>\n",
       "      <th>2</th>\n",
       "      <th>3</th>\n",
       "      <th>4</th>\n",
       "      <th>5</th>\n",
       "      <th>6</th>\n",
       "      <th>7</th>\n",
       "      <th>8</th>\n",
       "      <th>9</th>\n",
       "      <th>...</th>\n",
       "      <th>4990</th>\n",
       "      <th>4991</th>\n",
       "      <th>4992</th>\n",
       "      <th>4993</th>\n",
       "      <th>4994</th>\n",
       "      <th>4995</th>\n",
       "      <th>4996</th>\n",
       "      <th>4997</th>\n",
       "      <th>4998</th>\n",
       "      <th>4999</th>\n",
       "    </tr>\n",
       "  </thead>\n",
       "  <tbody>\n",
       "    <tr>\n",
       "      <th>0</th>\n",
       "      <td>0.087711</td>\n",
       "      <td>0.743481</td>\n",
       "      <td>0.654223</td>\n",
       "      <td>0.460459</td>\n",
       "      <td>0.194121</td>\n",
       "      <td>-0.193143</td>\n",
       "      <td>0.248234</td>\n",
       "      <td>0.237064</td>\n",
       "      <td>0.592898</td>\n",
       "      <td>0.196438</td>\n",
       "      <td>...</td>\n",
       "      <td>0.351207</td>\n",
       "      <td>0.704515</td>\n",
       "      <td>0.199400</td>\n",
       "      <td>-0.452143</td>\n",
       "      <td>0.554273</td>\n",
       "      <td>0.756305</td>\n",
       "      <td>0.439018</td>\n",
       "      <td>0.839665</td>\n",
       "      <td>0.068912</td>\n",
       "      <td>0.587890</td>\n",
       "    </tr>\n",
       "    <tr>\n",
       "      <th>1</th>\n",
       "      <td>0.896209</td>\n",
       "      <td>0.639774</td>\n",
       "      <td>1.150687</td>\n",
       "      <td>1.023650</td>\n",
       "      <td>0.746792</td>\n",
       "      <td>0.663605</td>\n",
       "      <td>1.028037</td>\n",
       "      <td>0.842536</td>\n",
       "      <td>0.171329</td>\n",
       "      <td>0.418216</td>\n",
       "      <td>...</td>\n",
       "      <td>0.847282</td>\n",
       "      <td>1.603438</td>\n",
       "      <td>0.737546</td>\n",
       "      <td>1.070310</td>\n",
       "      <td>0.900535</td>\n",
       "      <td>1.341116</td>\n",
       "      <td>0.630572</td>\n",
       "      <td>0.531149</td>\n",
       "      <td>0.723791</td>\n",
       "      <td>0.797695</td>\n",
       "    </tr>\n",
       "    <tr>\n",
       "      <th>2</th>\n",
       "      <td>0.717470</td>\n",
       "      <td>0.652918</td>\n",
       "      <td>1.017628</td>\n",
       "      <td>-0.115419</td>\n",
       "      <td>0.089624</td>\n",
       "      <td>0.502690</td>\n",
       "      <td>0.653119</td>\n",
       "      <td>0.694164</td>\n",
       "      <td>0.897895</td>\n",
       "      <td>0.873139</td>\n",
       "      <td>...</td>\n",
       "      <td>0.382447</td>\n",
       "      <td>1.473718</td>\n",
       "      <td>0.886937</td>\n",
       "      <td>0.707711</td>\n",
       "      <td>0.771373</td>\n",
       "      <td>1.215554</td>\n",
       "      <td>0.624943</td>\n",
       "      <td>0.863877</td>\n",
       "      <td>0.617690</td>\n",
       "      <td>0.578396</td>\n",
       "    </tr>\n",
       "    <tr>\n",
       "      <th>3</th>\n",
       "      <td>0.957435</td>\n",
       "      <td>0.577569</td>\n",
       "      <td>1.057658</td>\n",
       "      <td>1.118826</td>\n",
       "      <td>0.441239</td>\n",
       "      <td>0.241284</td>\n",
       "      <td>0.225855</td>\n",
       "      <td>0.255018</td>\n",
       "      <td>0.113668</td>\n",
       "      <td>0.290717</td>\n",
       "      <td>...</td>\n",
       "      <td>0.488628</td>\n",
       "      <td>0.265695</td>\n",
       "      <td>0.153659</td>\n",
       "      <td>-0.987068</td>\n",
       "      <td>0.419929</td>\n",
       "      <td>0.594975</td>\n",
       "      <td>0.389331</td>\n",
       "      <td>0.288209</td>\n",
       "      <td>0.185327</td>\n",
       "      <td>0.624697</td>\n",
       "    </tr>\n",
       "    <tr>\n",
       "      <th>4</th>\n",
       "      <td>0.727941</td>\n",
       "      <td>0.550222</td>\n",
       "      <td>1.390170</td>\n",
       "      <td>0.861321</td>\n",
       "      <td>0.672444</td>\n",
       "      <td>0.452931</td>\n",
       "      <td>0.482724</td>\n",
       "      <td>0.816071</td>\n",
       "      <td>1.480500</td>\n",
       "      <td>1.088777</td>\n",
       "      <td>...</td>\n",
       "      <td>0.876865</td>\n",
       "      <td>1.588942</td>\n",
       "      <td>0.755245</td>\n",
       "      <td>0.049232</td>\n",
       "      <td>0.831343</td>\n",
       "      <td>1.431881</td>\n",
       "      <td>0.670564</td>\n",
       "      <td>1.590200</td>\n",
       "      <td>0.661301</td>\n",
       "      <td>0.515445</td>\n",
       "    </tr>\n",
       "  </tbody>\n",
       "</table>\n",
       "<p>5 rows × 5000 columns</p>\n",
       "</div>"
      ],
      "text/plain": [
       "       0         1         2         3         4         5         6     \\\n",
       "0  0.087711  0.743481  0.654223  0.460459  0.194121 -0.193143  0.248234   \n",
       "1  0.896209  0.639774  1.150687  1.023650  0.746792  0.663605  1.028037   \n",
       "2  0.717470  0.652918  1.017628 -0.115419  0.089624  0.502690  0.653119   \n",
       "3  0.957435  0.577569  1.057658  1.118826  0.441239  0.241284  0.225855   \n",
       "4  0.727941  0.550222  1.390170  0.861321  0.672444  0.452931  0.482724   \n",
       "\n",
       "       7         8         9     ...      4990      4991      4992      4993  \\\n",
       "0  0.237064  0.592898  0.196438  ...  0.351207  0.704515  0.199400 -0.452143   \n",
       "1  0.842536  0.171329  0.418216  ...  0.847282  1.603438  0.737546  1.070310   \n",
       "2  0.694164  0.897895  0.873139  ...  0.382447  1.473718  0.886937  0.707711   \n",
       "3  0.255018  0.113668  0.290717  ...  0.488628  0.265695  0.153659 -0.987068   \n",
       "4  0.816071  1.480500  1.088777  ...  0.876865  1.588942  0.755245  0.049232   \n",
       "\n",
       "       4994      4995      4996      4997      4998      4999  \n",
       "0  0.554273  0.756305  0.439018  0.839665  0.068912  0.587890  \n",
       "1  0.900535  1.341116  0.630572  0.531149  0.723791  0.797695  \n",
       "2  0.771373  1.215554  0.624943  0.863877  0.617690  0.578396  \n",
       "3  0.419929  0.594975  0.389331  0.288209  0.185327  0.624697  \n",
       "4  0.831343  1.431881  0.670564  1.590200  0.661301  0.515445  \n",
       "\n",
       "[5 rows x 5000 columns]"
      ]
     },
     "execution_count": 34,
     "metadata": {},
     "output_type": "execute_result"
    }
   ],
   "source": [
    "x = df_ms_cleaned.values\n",
    "standard_scaler = preprocessing.StandardScaler()\n",
    "x_scaled = standard_scaler.fit_transform(x)\n",
    "df_ms_cleaned_standard_scaled = pd.DataFrame(x_scaled)\n",
    "df_ms_cleaned_standard_scaled.head()"
   ]
  },
  {
   "cell_type": "markdown",
   "metadata": {},
   "source": [
    "Next, let's try out clustering with these new, scaled datasets and the best performing methods."
   ]
  },
  {
   "cell_type": "code",
   "execution_count": 49,
   "metadata": {},
   "outputs": [
    {
     "name": "stdout",
     "output_type": "stream",
     "text": [
      "NMI with Birch, 4 clusters and minmax-scaled data: 0.19\n"
     ]
    }
   ],
   "source": [
    "brc = Birch(n_clusters=4)\n",
    "brc.fit_predict(df_ms_cleaned_minmax_scaled)\n",
    "print(\"NMI with Birch, 4 clusters and minmax-scaled data: {}\".format(round(metrics.normalized_mutual_info_score(df_ms[\"class\"],brc.labels_, average_method=\"geometric\"),2)))"
   ]
  },
  {
   "cell_type": "code",
   "execution_count": 50,
   "metadata": {},
   "outputs": [
    {
     "name": "stdout",
     "output_type": "stream",
     "text": [
      "NMI with Birch, 4 clusters and standard-scaled data: 0.3\n"
     ]
    }
   ],
   "source": [
    "brc = Birch(n_clusters=4)\n",
    "brc.fit_predict(df_ms_cleaned_standard_scaled)\n",
    "print(\"NMI with Birch, 4 clusters and standard-scaled data: {}\".format(round(metrics.normalized_mutual_info_score(df_ms[\"class\"],brc.labels_, average_method=\"geometric\"),2)))"
   ]
  },
  {
   "cell_type": "code",
   "execution_count": 51,
   "metadata": {},
   "outputs": [
    {
     "name": "stdout",
     "output_type": "stream",
     "text": [
      "NMI with Agglomerative clustering, 4 clusters and minmax-scaled data: 0.19\n"
     ]
    }
   ],
   "source": [
    "clustering = AgglomerativeClustering(n_clusters=4, affinity='euclidean', compute_full_tree='auto', linkage=\"ward\")\n",
    "clusters=clustering.fit_predict(df_ms_cleaned_minmax_scaled)\n",
    "print(\"NMI with Agglomerative clustering, 4 clusters and minmax-scaled data: {}\".format(round(metrics.normalized_mutual_info_score(df_ms[\"class\"],clusters, average_method=\"geometric\"),2)))"
   ]
  },
  {
   "cell_type": "code",
   "execution_count": 53,
   "metadata": {},
   "outputs": [
    {
     "name": "stdout",
     "output_type": "stream",
     "text": [
      "NMI with Agglomerative clustering, 4 clusters and standard-scaled data: 0.3\n"
     ]
    }
   ],
   "source": [
    "clustering = AgglomerativeClustering(n_clusters=4, affinity='euclidean', compute_full_tree='auto', linkage=\"ward\")\n",
    "clusters=clustering.fit_predict(df_ms_cleaned_standard_scaled)\n",
    "print(\"NMI with Agglomerative clustering, 4 clusters and standard-scaled data: {}\".format(round(metrics.normalized_mutual_info_score(df_ms[\"class\"],clusters, average_method=\"geometric\"),2)))"
   ]
  },
  {
   "cell_type": "markdown",
   "metadata": {},
   "source": [
    "As can be seen, fitting with scaled data did not improve the performance but quite the opposite."
   ]
  },
  {
   "cell_type": "markdown",
   "metadata": {},
   "source": [
    "### Feature engineering: PCA"
   ]
  },
  {
   "cell_type": "code",
   "execution_count": 60,
   "metadata": {},
   "outputs": [
    {
     "name": "stdout",
     "output_type": "stream",
     "text": [
      "The maximum NMI with Birch clustering and PCA is reached using 4 components. The NMI value is 0.86.\n",
      "The maximum NMI with Birch clustering and PCA is reached using 3 components. The NMI value is 0.87.\n",
      "The maximum NMI with Birch clustering and PCA is reached using 5 components. The NMI value is 0.87.\n",
      "The maximum NMI with Birch clustering and PCA is reached using 5 components. The NMI value is 0.83.\n",
      "The maximum NMI with Birch clustering and PCA is reached using 4 components. The NMI value is 0.86.\n"
     ]
    }
   ],
   "source": [
    "for i in range(0,5):\n",
    "    pcas={}\n",
    "    for pcnum in [2, 3, 4, 5, 6, 7, 8, 9, 10, 20, 50, 100, 200, 500, 600, 650]:\n",
    "        pca = PCA(n_components=pcnum)\n",
    "        pcs = pca.fit_transform(df_ms_cleaned)\n",
    "        brc = Birch(n_clusters=4)\n",
    "        brc.fit_predict(pcs)\n",
    "        pcas[pcnum]=metrics.normalized_mutual_info_score(df_ms[\"class\"],brc.labels_, average_method=\"geometric\")\n",
    "    max_val=max(pcas.items(), key=operator.itemgetter(1))[0]\n",
    "    print(\"The maximum NMI with Birch clustering and PCA is reached using {} components. The NMI value is {}.\".format(max_val, round(pcas.get(max_val),2)))"
   ]
  },
  {
   "cell_type": "markdown",
   "metadata": {},
   "source": [
    "As can be seen, the performance is increased by fitting the data after performing PCA. It can also be seen that the number of components has some variation. Let's try the same with scaled data."
   ]
  },
  {
   "cell_type": "code",
   "execution_count": 59,
   "metadata": {},
   "outputs": [
    {
     "name": "stdout",
     "output_type": "stream",
     "text": [
      "The maximum NMI with Birch clustering, Minmax scaling, and PCA is reached using 6 components. The NMI value is 0.62.\n",
      "The maximum NMI with Birch clustering, Minmax scaling, and PCA is reached using 4 components. The NMI value is 0.62.\n",
      "The maximum NMI with Birch clustering, Minmax scaling, and PCA is reached using 6 components. The NMI value is 0.61.\n",
      "The maximum NMI with Birch clustering, Minmax scaling, and PCA is reached using 6 components. The NMI value is 0.62.\n",
      "The maximum NMI with Birch clustering, Minmax scaling, and PCA is reached using 5 components. The NMI value is 0.6.\n"
     ]
    }
   ],
   "source": [
    "for i in range(0,5):\n",
    "    pcas={}\n",
    "    for pcnum in [2, 3, 4, 5, 6, 7, 8, 9, 10, 20, 50, 100, 200, 500, 600, 650]:\n",
    "        pca = PCA(n_components=pcnum)\n",
    "        pcs = pca.fit_transform(df_ms_cleaned_minmax_scaled)\n",
    "        brc = Birch(n_clusters=4)\n",
    "        brc.fit_predict(pcs)\n",
    "        pcas[pcnum]=metrics.normalized_mutual_info_score(df_ms[\"class\"],brc.labels_, average_method=\"geometric\")\n",
    "    max_val=max(pcas.items(), key=operator.itemgetter(1))[0]\n",
    "    print(\"The maximum NMI with Birch clustering, Minmax scaling, and PCA is reached using {} components. The NMI value is {}.\".format(max_val, round(pcas.get(max_val),2)))"
   ]
  },
  {
   "cell_type": "markdown",
   "metadata": {},
   "source": [
    "Scaling the data seems only to decrease the performance."
   ]
  },
  {
   "cell_type": "code",
   "execution_count": 48,
   "metadata": {},
   "outputs": [
    {
     "name": "stdout",
     "output_type": "stream",
     "text": [
      "The maximum NMI with K-means clustering, and PCA is reached using 2 components. The NMI value is 0.7.\n",
      "The maximum NMI with K-means clustering, and PCA is reached using 2 components. The NMI value is 0.68.\n",
      "The maximum NMI with K-means clustering, and PCA is reached using 2 components. The NMI value is 0.69.\n",
      "The maximum NMI with K-means clustering, and PCA is reached using 2 components. The NMI value is 0.69.\n",
      "The maximum NMI with K-means clustering, and PCA is reached using 2 components. The NMI value is 0.68.\n"
     ]
    }
   ],
   "source": [
    "for i in range(0,5):\n",
    "    pcas={}\n",
    "    for pcnum in [2,5,10,20,50,100,200,500, 600, 650]:\n",
    "        pca = PCA(n_components=pcnum)\n",
    "        pcs = pca.fit_transform(df_ms_cleaned)\n",
    "        clusterer = KMeans(n_clusters=2)\n",
    "        labels = clusterer.fit_predict(pcs)\n",
    "        pcas[pcnum]=metrics.normalized_mutual_info_score(df_ms[\"class\"],labels, average_method=\"geometric\")\n",
    "    max_val=max(pcas.items(), key=operator.itemgetter(1))[0]\n",
    "    print(\"The maximum NMI with K-means clustering, and PCA is reached using {} components. The NMI value is {}.\".format(max_val, round(pcas.get(max_val),2)))"
   ]
  },
  {
   "cell_type": "code",
   "execution_count": 55,
   "metadata": {},
   "outputs": [
    {
     "name": "stdout",
     "output_type": "stream",
     "text": [
      "The maximum NMI with Agglomerative clustering, and PCA is reached using 2 components. The NMI value is 0.06.\n",
      "The maximum NMI with Agglomerative clustering, and PCA is reached using 2 components. The NMI value is 0.06.\n",
      "The maximum NMI with Agglomerative clustering, and PCA is reached using 2 components. The NMI value is 0.06.\n",
      "The maximum NMI with Agglomerative clustering, and PCA is reached using 2 components. The NMI value is 0.06.\n",
      "The maximum NMI with Agglomerative clustering, and PCA is reached using 2 components. The NMI value is 0.06.\n"
     ]
    }
   ],
   "source": [
    "for i in range(0,5):\n",
    "    pcas={}\n",
    "    for pcnum in [2,5,10,20,50,100,200,500, 600, 650]:\n",
    "        pca = PCA(n_components=pcnum)\n",
    "        pcs = pca.fit_transform(df_ms_cleaned)\n",
    "        clustering = AgglomerativeClustering(n_clusters=4, affinity='euclidean', compute_full_tree='auto', linkage=\"ward\")\n",
    "        clusters=clustering.fit_predict(df_ms_cleaned)\n",
    "        pcas[pcnum]=metrics.normalized_mutual_info_score(df_ms[\"class\"],labels, average_method=\"geometric\")\n",
    "    max_val=max(pcas.items(), key=operator.itemgetter(1))[0]\n",
    "    print(\"The maximum NMI with Agglomerative clustering, and PCA is reached using {} components. The NMI value is {}.\".format(max_val, round(pcas.get(max_val),2)))"
   ]
  },
  {
   "cell_type": "markdown",
   "metadata": {},
   "source": [
    "The best performing method was achieved by performing PCA (5 components), and performing Birch clustering for this data. The achieved NMI varies from 0.74 to 0.86. It is worth mentioning that sometimes, PCA with other component amounts tend to perform better."
   ]
  },
  {
   "cell_type": "markdown",
   "metadata": {},
   "source": [
    "### Feature engineering: Feature selection"
   ]
  },
  {
   "cell_type": "code",
   "execution_count": 56,
   "metadata": {},
   "outputs": [
    {
     "name": "stdout",
     "output_type": "stream",
     "text": [
      "      Specs      Score\n",
      "4339  f4340  78.037198\n",
      "2430  f2431  74.397723\n",
      "3614  f3615  67.807381\n",
      "3816  f3817  67.665916\n",
      "910    f911  64.872084\n",
      "1207  f1208  63.029748\n",
      "1496  f1497  60.057672\n",
      "4232  f4233  57.337520\n",
      "3204  f3205  55.293856\n",
      "860    f861  55.091094\n"
     ]
    }
   ],
   "source": [
    "bestfeatures = SelectKBest(score_func=chi2, k=10)\n",
    "fit = bestfeatures.fit(df_ms_cleaned,df_ms[\"class\"])\n",
    "dfscores = pd.DataFrame(fit.scores_)\n",
    "dfcolumns = pd.DataFrame(df_ms_cleaned.columns)\n",
    "\n",
    "featureScores = pd.concat([dfcolumns,dfscores],axis=1)\n",
    "featureScores.columns = ['Specs','Score']  #naming the dataframe columns\n",
    "print(featureScores.nlargest(10,'Score'))  #print 10 best"
   ]
  },
  {
   "cell_type": "code",
   "execution_count": 61,
   "metadata": {},
   "outputs": [
    {
     "name": "stdout",
     "output_type": "stream",
     "text": [
      "Number of features: 2. NMI: 0.06\n",
      "Number of features: 10. NMI: 0.07\n",
      "Number of features: 50. NMI: 0.29\n",
      "Number of features: 100. NMI: 0.65\n",
      "Number of features: 150. NMI: 0.63\n",
      "Number of features: 200. NMI: 0.69\n",
      "Number of features: 300. NMI: 0.74\n",
      "Number of features: 400. NMI: 0.76\n",
      "Number of features: 500. NMI: 0.76\n",
      "Number of features: 600. NMI: 0.77\n",
      "Number of features: 700. NMI: 0.76\n",
      "Number of features: 800. NMI: 0.77\n",
      "Number of features: 900. NMI: 0.74\n",
      "Number of features: 1000. NMI: 0.74\n"
     ]
    }
   ],
   "source": [
    "for n in [2,10,50,100,150,200,300, 400, 500, 600, 700, 800, 900, 1000]:\n",
    "    selected_data = df_ms_cleaned[featureScores.nlargest(n, \"Score\").Specs]\n",
    "    brc = Birch(n_clusters=4)\n",
    "    brc.fit_predict(selected_data)\n",
    "    print(\"Number of features: {}. NMI: {}\".format(n,round(metrics.normalized_mutual_info_score(df_ms[\"class\"],brc.labels_, average_method=\"geometric\"),2)))"
   ]
  },
  {
   "cell_type": "code",
   "execution_count": 62,
   "metadata": {},
   "outputs": [
    {
     "name": "stdout",
     "output_type": "stream",
     "text": [
      "Number of features: 2. NMI: 0.11\n",
      "Number of features: 10. NMI: 0.07\n",
      "Number of features: 50. NMI: 0.29\n",
      "Number of features: 100. NMI: 0.65\n",
      "Number of features: 150. NMI: 0.63\n",
      "Number of features: 200. NMI: 0.69\n",
      "Number of features: 300. NMI: 0.74\n",
      "Number of features: 500. NMI: 0.76\n",
      "Number of features: 1000. NMI: 0.74\n",
      "Number of features: 1500. NMI: 0.71\n"
     ]
    }
   ],
   "source": [
    "for n in [2,10,50,100,150,200,300,500,1000,1500]:\n",
    "    selected_data = df_ms_cleaned[featureScores.nlargest(n, \"Score\").Specs]\n",
    "    clustering = AgglomerativeClustering(n_clusters=4, affinity='euclidean', compute_full_tree='auto', linkage=\"ward\")\n",
    "    clusters=clustering.fit_predict(selected_data)\n",
    "    print(\"Number of features: {}. NMI: {}\".format(n,round(metrics.normalized_mutual_info_score(df_ms[\"class\"],clusters, average_method=\"geometric\"),2)))"
   ]
  },
  {
   "cell_type": "code",
   "execution_count": 73,
   "metadata": {},
   "outputs": [
    {
     "name": "stdout",
     "output_type": "stream",
     "text": [
      "Number of features: 100. PCA: 100. NMI: 0.65\n",
      "Number of features: 150. PCA: 20. NMI: 0.79\n",
      "Number of features: 200. PCA: 10. NMI: 0.82\n",
      "Number of features: 300. PCA: 10. NMI: 0.86\n",
      "Number of features: 500. PCA: 10. NMI: 0.9\n",
      "Number of features: 1000. PCA: 10. NMI: 0.92\n"
     ]
    }
   ],
   "source": [
    "for n in [100, 150, 200, 300, 500, 1000]:\n",
    "    pcas={}\n",
    "    for pcnum in [2, 5, 10, 20, 50, 100]:\n",
    "        selected_data = df_ms_cleaned[featureScores.nlargest(n, \"Score\").Specs]\n",
    "        pca = PCA(n_components=pcnum)\n",
    "        pcs = pca.fit_transform(selected_data)\n",
    "        brc = Birch(n_clusters=4)\n",
    "        brc.fit_predict(pcs)\n",
    "        pcas[pcnum]=metrics.normalized_mutual_info_score(df_ms[\"class\"],brc.labels_, average_method=\"geometric\")\n",
    "    max_val=max(pcas.items(), key=operator.itemgetter(1))[0]\n",
    "    print(\"Number of features: {}. PCA: {}. NMI: {}\".format(n,max_val,round(pcas.get(max_val),2)))"
   ]
  },
  {
   "cell_type": "markdown",
   "metadata": {},
   "source": [
    "It seems like the most solid results are achieved by selecting around >500 most valuable features, performing PCA (around 10 components) on these, and using Birch clustering on them. This way NMI of 0.9 is achieved."
   ]
  },
  {
   "cell_type": "markdown",
   "metadata": {},
   "source": [
    "### Ensemble method"
   ]
  },
  {
   "cell_type": "code",
   "execution_count": 65,
   "metadata": {},
   "outputs": [],
   "source": [
    "# Sort of ensemble method where Birch and Agglomerative clusterings are ran multiple times with different k-values, and the most common cluster is selected for each data point. \n",
    "def ensemble(data, pcs, k_list):\n",
    "    labs=[]\n",
    "    for pcnum in pcs:\n",
    "        for k in k_list:\n",
    "            pca = PCA(n_components=pcnum)\n",
    "            pcs = pca.fit_transform(df_ms_cleaned)\n",
    "            brc = Birch(n_clusters=k)\n",
    "            brc.fit_predict(pcs)\n",
    "            labs.append(brc.labels_)\n",
    "            print(round(metrics.normalized_mutual_info_score(df_ms[\"class\"],brc.labels_, average_method=\"geometric\"),2))\n",
    "            \n",
    "            clustering = AgglomerativeClustering(n_clusters=k, affinity='euclidean', compute_full_tree='auto', linkage=\"ward\")\n",
    "            clusters=clustering.fit_predict(df_ms_cleaned)\n",
    "            labs.append(clusters)\n",
    "            print(round(metrics.normalized_mutual_info_score(df_ms[\"class\"],clusters, average_method=\"geometric\"),2))\n",
    "    return np.array(labs)"
   ]
  },
  {
   "cell_type": "code",
   "execution_count": 66,
   "metadata": {},
   "outputs": [
    {
     "name": "stdout",
     "output_type": "stream",
     "text": [
      "0.34\n",
      "0.24\n",
      "0.43\n",
      "0.51\n",
      "0.43\n",
      "0.48\n",
      "0.14\n",
      "0.24\n",
      "0.48\n",
      "0.51\n",
      "0.44\n",
      "0.48\n",
      "0.23\n",
      "0.24\n",
      "0.38\n",
      "0.51\n",
      "0.23\n",
      "0.48\n"
     ]
    }
   ],
   "source": [
    "klist=[3,4,5]\n",
    "pcs=[100,400,500]\n",
    "cl_data=ensemble(df_ms_cleaned, pcs, klist)"
   ]
  },
  {
   "cell_type": "code",
   "execution_count": 67,
   "metadata": {},
   "outputs": [],
   "source": [
    "def most_common(lst):\n",
    "    return max(set(lst), key=lst.count)\n",
    "\n",
    "labels=[]\n",
    "for i in range(0,694):\n",
    "    vals=[]\n",
    "    for val in range(0,18):\n",
    "        vals.append(cl_data[val,i])\n",
    "    labels.append(most_common(vals))"
   ]
  },
  {
   "cell_type": "code",
   "execution_count": 69,
   "metadata": {},
   "outputs": [
    {
     "data": {
      "text/plain": [
       "0.44"
      ]
     },
     "execution_count": 69,
     "metadata": {},
     "output_type": "execute_result"
    }
   ],
   "source": [
    "round(metrics.normalized_mutual_info_score(df_ms[\"class\"],labels, average_method=\"geometric\"),2)"
   ]
  },
  {
   "cell_type": "code",
   "execution_count": 70,
   "metadata": {},
   "outputs": [
    {
     "data": {
      "image/png": "[encoded data removed]",
      "text/plain": [
       "<Figure size 432x288 with 1 Axes>"
      ]
     },
     "metadata": {
      "needs_background": "light"
     },
     "output_type": "display_data"
    }
   ],
   "source": [
    "pca = PCA(n_components=2)\n",
    "principalComponents = pca.fit_transform(df_ms_cleaned)\n",
    "plt.scatter(principalComponents[:,0], principalComponents[:,1],c=labels, s=50)\n",
    "plt.xlabel('Principal Component 1', fontsize = 15)\n",
    "plt.ylabel('Principal Component 2', fontsize = 15)\n",
    "plt.title('Ensemble method', fontsize = 20)\n",
    "plt.grid()"
   ]
  },
  {
   "cell_type": "markdown",
   "metadata": {},
   "source": [
    "Unfortunately, the used ensemble did not improve the performance. In general, the logic of the ensembling was probably way too simple, and more sophisticated algorithm would be needed for ensembling. "
   ]
  },
  {
   "cell_type": "markdown",
   "metadata": {},
   "source": [
    "### Optimizing the best performing method"
   ]
  },
  {
   "cell_type": "markdown",
   "metadata": {},
   "source": [
    "It turned out that best results were achieved by combining feature selection with PCA and Birch clustering."
   ]
  },
  {
   "cell_type": "code",
   "execution_count": 75,
   "metadata": {},
   "outputs": [
    {
     "name": "stdout",
     "output_type": "stream",
     "text": [
      "k: 3. Number of features: 100. PCA: 100. NMI: 0.67\n",
      "k: 3. Number of features: 150. PCA: 12. NMI: 0.79\n",
      "k: 3. Number of features: 200. PCA: 10. NMI: 0.85\n",
      "k: 3. Number of features: 300. PCA: 10. NMI: 0.9\n",
      "k: 3. Number of features: 500. PCA: 5. NMI: 0.69\n",
      "k: 3. Number of features: 800. PCA: 5. NMI: 0.73\n",
      "k: 3. Number of features: 900. PCA: 5. NMI: 0.73\n",
      "k: 3. Number of features: 1000. PCA: 5. NMI: 0.73\n",
      "k: 3. Number of features: 1100. PCA: 2. NMI: 0.71\n",
      "k: 3. Number of features: 1200. PCA: 2. NMI: 0.71\n",
      "k: 3. Number of features: 1300. PCA: 5. NMI: 0.71\n",
      "k: 3. Number of features: 1400. PCA: 2. NMI: 0.71\n",
      "k: 3. Number of features: 1500. PCA: 2. NMI: 0.71\n",
      "k: 3. Number of features: 2000. PCA: 8. NMI: 0.7\n",
      "k: 3. Number of features: 2500. PCA: 2. NMI: 0.71\n",
      "k: 3. Number of features: 3000. PCA: 2. NMI: 0.71\n",
      "k: 3. Number of features: 3500. PCA: 2. NMI: 0.71\n",
      "k: 4. Number of features: 100. PCA: 100. NMI: 0.65\n",
      "k: 4. Number of features: 150. PCA: 13. NMI: 0.78\n",
      "k: 4. Number of features: 200. PCA: 7. NMI: 0.82\n",
      "k: 4. Number of features: 300. PCA: 11. NMI: 0.9\n",
      "k: 4. Number of features: 500. PCA: 14. NMI: 0.91\n",
      "k: 4. Number of features: 800. PCA: 5. NMI: 0.94\n",
      "k: 4. Number of features: 900. PCA: 5. NMI: 0.94\n",
      "k: 4. Number of features: 1000. PCA: 6. NMI: 0.93\n",
      "k: 4. Number of features: 1100. PCA: 8. NMI: 0.91\n",
      "k: 4. Number of features: 1200. PCA: 5. NMI: 0.92\n",
      "k: 4. Number of features: 1300. PCA: 5. NMI: 0.92\n",
      "k: 4. Number of features: 1400. PCA: 5. NMI: 0.92\n",
      "k: 4. Number of features: 1500. PCA: 5. NMI: 0.92\n",
      "k: 4. Number of features: 2000. PCA: 6. NMI: 0.92\n",
      "k: 4. Number of features: 2500. PCA: 5. NMI: 0.92\n",
      "k: 4. Number of features: 3000. PCA: 6. NMI: 0.91\n",
      "k: 4. Number of features: 3500. PCA: 6. NMI: 0.9\n",
      "k: 5. Number of features: 100. PCA: 100. NMI: 0.62\n",
      "k: 5. Number of features: 150. PCA: 20. NMI: 0.73\n",
      "k: 5. Number of features: 200. PCA: 14. NMI: 0.78\n",
      "k: 5. Number of features: 300. PCA: 10. NMI: 0.8\n",
      "k: 5. Number of features: 500. PCA: 12. NMI: 0.89\n",
      "k: 5. Number of features: 800. PCA: 6. NMI: 0.92\n",
      "k: 5. Number of features: 900. PCA: 5. NMI: 0.92\n",
      "k: 5. Number of features: 1000. PCA: 9. NMI: 0.92\n",
      "k: 5. Number of features: 1100. PCA: 6. NMI: 0.92\n",
      "k: 5. Number of features: 1200. PCA: 8. NMI: 0.92\n",
      "k: 5. Number of features: 1300. PCA: 6. NMI: 0.92\n",
      "k: 5. Number of features: 1400. PCA: 5. NMI: 0.92\n",
      "k: 5. Number of features: 1500. PCA: 5. NMI: 0.92\n",
      "k: 5. Number of features: 2000. PCA: 6. NMI: 0.92\n",
      "k: 5. Number of features: 2500. PCA: 5. NMI: 0.92\n",
      "k: 5. Number of features: 3000. PCA: 5. NMI: 0.92\n",
      "k: 5. Number of features: 3500. PCA: 2. NMI: 0.85\n",
      "k: 6. Number of features: 100. PCA: 20. NMI: 0.57\n",
      "k: 6. Number of features: 150. PCA: 15. NMI: 0.66\n",
      "k: 6. Number of features: 200. PCA: 12. NMI: 0.72\n",
      "k: 6. Number of features: 300. PCA: 10. NMI: 0.76\n",
      "k: 6. Number of features: 500. PCA: 9. NMI: 0.82\n",
      "k: 6. Number of features: 800. PCA: 6. NMI: 0.84\n",
      "k: 6. Number of features: 900. PCA: 11. NMI: 0.84\n",
      "k: 6. Number of features: 1000. PCA: 7. NMI: 0.83\n",
      "k: 6. Number of features: 1100. PCA: 7. NMI: 0.83\n",
      "k: 6. Number of features: 1200. PCA: 5. NMI: 0.85\n",
      "k: 6. Number of features: 1300. PCA: 10. NMI: 0.83\n",
      "k: 6. Number of features: 1400. PCA: 20. NMI: 0.84\n",
      "k: 6. Number of features: 1500. PCA: 7. NMI: 0.84\n",
      "k: 6. Number of features: 2000. PCA: 8. NMI: 0.84\n",
      "k: 6. Number of features: 2500. PCA: 8. NMI: 0.84\n",
      "k: 6. Number of features: 3000. PCA: 5. NMI: 0.83\n",
      "k: 6. Number of features: 3500. PCA: 2. NMI: 0.81\n"
     ]
    }
   ],
   "source": [
    "for k in [3, 4, 5, 6]:\n",
    "    for n in [100, 150, 200, 300, 500, 800, 900, 1000, 1100, 1200, 1300, 1400, 1500, 2000, 2500, 3000, 3500]:\n",
    "        pcas={}\n",
    "        for pcnum in [2, 5, 6, 7, 8, 9, 10, 11, 12, 13, 14, 15, 20, 50, 100]:\n",
    "            selected_data = df_ms_cleaned[featureScores.nlargest(n, \"Score\").Specs]\n",
    "            pca = PCA(n_components=pcnum)\n",
    "            pcs = pca.fit_transform(selected_data)\n",
    "            brc = Birch(n_clusters=k)\n",
    "            brc.fit_predict(pcs)\n",
    "            pcas[pcnum]=metrics.normalized_mutual_info_score(df_ms[\"class\"],brc.labels_, average_method=\"geometric\")\n",
    "        max_val=max(pcas.items(), key=operator.itemgetter(1))[0]\n",
    "        print(\"k: {}. Number of features: {}. PCA: {}. NMI: {}\".format(k, n,max_val,round(pcas.get(max_val),2)))"
   ]
  },
  {
   "cell_type": "code",
   "execution_count": 105,
   "metadata": {},
   "outputs": [
    {
     "name": "stdout",
     "output_type": "stream",
     "text": [
      "Average NMI for 800 features and 5 pcas: 0.9236\n",
      "Average NMI for 850 features and 5 pcas: 0.9232\n",
      "Average NMI for 900 features and 5 pcas: 0.9281\n",
      "Average NMI for 950 features and 5 pcas: 0.9256\n"
     ]
    }
   ],
   "source": [
    "pcnum = 5\n",
    "feature_list = [800, 850, 900, 950]\n",
    "k = 4\n",
    "\n",
    "for features in feature_list:\n",
    "        results=[]\n",
    "        for i in range(0,100):\n",
    "            bestfeatures = SelectKBest(score_func=chi2, k=10)\n",
    "            fit = bestfeatures.fit(df_ms_cleaned,df_ms[\"class\"])\n",
    "            dfscores = pd.DataFrame(fit.scores_)\n",
    "            dfcolumns = pd.DataFrame(df_ms_cleaned.columns)\n",
    "            featureScores = pd.concat([dfcolumns,dfscores],axis=1)\n",
    "            featureScores.columns = ['Specs','Score']\n",
    "            selected_data = df_ms_cleaned[featureScores.nlargest(features, \"Score\").Specs]\n",
    "            \n",
    "            pca = PCA(n_components=pcnum)\n",
    "            pcs = pca.fit_transform(selected_data)\n",
    "            brc = Birch(n_clusters=k)\n",
    "            brc.fit_predict(pcs)\n",
    "            val = metrics.normalized_mutual_info_score(df_ms[\"class\"],brc.labels_, average_method=\"geometric\")\n",
    "            results.append(val)\n",
    "        print(\"Average NMI for {} features and {} pcas: {}\".format(features, pcnum, round((sum(results)/len(results)),4)))"
   ]
  },
  {
   "cell_type": "markdown",
   "metadata": {},
   "source": [
    "The best configuration that was found consist of the following parts:\n",
    "* Selecting k best features, where k=900.\n",
    "* Performing PCA with 5 components.\n",
    "* Clustering using Birch clustering and 4 clusters.\n",
    "\n",
    "The resulted NMI is on average 0.93."
   ]
  },
  {
   "cell_type": "code",
   "execution_count": 125,
   "metadata": {},
   "outputs": [
    {
     "name": "stdout",
     "output_type": "stream",
     "text": [
      "Average NMI for 4 clusters, 850 features, 8 pcas, 2.0 threshold, 50 branching factor, score_func <function chi2 at 0x13b1cd3b0>, and 50 best features: 0.9284\n",
      "Average NMI for 4 clusters, 950 features, 6 pcas, 1.0 threshold, 10 branching factor, score_func <function chi2 at 0x13b1cd3b0>, and 100 best features: 0.9284\n",
      "Average NMI for 5 clusters, 1000 features, 4 pcas, 0.1 threshold, 50 branching factor, score_func <function f_classif at 0x13b0b5830>, and 50 best features: 0.9249\n",
      "Average NMI for 5 clusters, 1100 features, 3 pcas, 0.5 threshold, 100 branching factor, score_func <function chi2 at 0x13b1cd3b0>, and 1000 best features: 0.9249\n",
      "Average NMI for 5 clusters, 1500 features, 5 pcas, 1.0 threshold, 50 branching factor, score_func <function f_classif at 0x13b0b5830>, and 1000 best features: 0.9249\n",
      "Average NMI for 4 clusters, 900 features, 3 pcas, 1.0 threshold, 50 branching factor, score_func <function chi2 at 0x13b1cd3b0>, and 1000 best features: 0.9371\n",
      "Average NMI for 4 clusters, 850 features, 4 pcas, 1.0 threshold, 100 branching factor, score_func <function chi2 at 0x13b1cd3b0>, and 50 best features: 0.929\n",
      "Average NMI for 4 clusters, 850 features, 4 pcas, 0.7 threshold, 10 branching factor, score_func <function chi2 at 0x13b1cd3b0>, and 100 best features: 0.9289\n"
     ]
    }
   ],
   "source": [
    "import random\n",
    "features = [800, 850, 900, 950, 1000, 1100, 1500]\n",
    "K = [3,4,5]\n",
    "K2 = [10, 50, 100, 1000]\n",
    "pcnums = [2, 3, 4, 5, 6, 7, 8, 9, 10, 20]\n",
    "ths = [0.1, 0.3, 0.5, 0.7, 1.0, 2.0, 3.0]\n",
    "bfs = [10, 50, 100]\n",
    "score_function = [f_classif, chi2]\n",
    "\n",
    "for i in range(0,100):\n",
    "    feature=random.choice(features)\n",
    "    k=random.choice(K)\n",
    "    k2=random.choice(K2)\n",
    "    pcnum=random.choice(pcnums)\n",
    "    th=random.choice(ths)\n",
    "    bf=random.choice(bfs)\n",
    "    sf = random.choice(score_function)\n",
    "    if pcnum > feature:\n",
    "        continue\n",
    "    results = []\n",
    "    bestfeatures = SelectKBest(score_func=sf, k=k2)\n",
    "    fit = bestfeatures.fit(df_ms_cleaned,df_ms[\"class\"])\n",
    "    dfscores = pd.DataFrame(fit.scores_)\n",
    "    dfcolumns = pd.DataFrame(df_ms_cleaned.columns)\n",
    "    featureScores = pd.concat([dfcolumns,dfscores],axis=1)\n",
    "    featureScores.columns = ['Specs','Score']\n",
    "    selected_data = df_ms_cleaned[featureScores.nlargest(feature, \"Score\").Specs]\n",
    "    pca = PCA(n_components=pcnum)\n",
    "    pcs = pca.fit_transform(selected_data)\n",
    "    for j in range(0,20):\n",
    "        brc = Birch(n_clusters=k, threshold=th, branching_factor=bf)\n",
    "        brc.fit_predict(pcs)\n",
    "        val = metrics.normalized_mutual_info_score(df_ms[\"class\"],brc.labels_, average_method=\"geometric\")\n",
    "        results.append(val)\n",
    "    avg_nmi = sum(results)/len(results)\n",
    "    if avg_nmi > 0.92:\n",
    "        print(\"Average NMI for {} clusters, {} features, {} pcas, {} threshold, {} branching factor, score_func {}, and {} best features: {}\".format(k, feature, pcnum, th, bf, str(sf), k2, round((sum(results)/len(results)),4)))"
   ]
  },
  {
   "cell_type": "code",
   "execution_count": 4,
   "metadata": {},
   "outputs": [
    {
     "name": "stdout",
     "output_type": "stream",
     "text": [
      "NMI: 0.929\n",
      "NMI: 0.911\n",
      "NMI: 0.929\n",
      "NMI: 0.921\n",
      "NMI: 0.937\n",
      "NMI: 0.928\n",
      "NMI: 0.937\n",
      "NMI: 0.937\n",
      "NMI: 0.928\n",
      "NMI: 0.929\n",
      "NMI: 0.92\n",
      "NMI: 0.937\n",
      "NMI: 0.937\n",
      "NMI: 0.929\n",
      "NMI: 0.937\n",
      "NMI: 0.937\n",
      "NMI: 0.922\n",
      "NMI: 0.92\n",
      "NMI: 0.929\n",
      "NMI: 0.937\n",
      "MS_DATA NMI average for 20 runs: 0.93\n"
     ]
    }
   ],
   "source": [
    "results=[]\n",
    "nmi_max=0\n",
    "for i in range(0,20):\n",
    "    # Select best 900 features\n",
    "    bestfeatures = SelectKBest(score_func=chi2, k=1000)\n",
    "    fit = bestfeatures.fit(df_ms_cleaned,df_ms[\"class\"])\n",
    "    dfscores = pd.DataFrame(fit.scores_)\n",
    "    dfcolumns = pd.DataFrame(df_ms_cleaned.columns)\n",
    "    featureScores = pd.concat([dfcolumns,dfscores],axis=1)\n",
    "    featureScores.columns = ['Specs','Score']\n",
    "    selected_data = df_ms_cleaned[featureScores.nlargest(900, \"Score\").Specs]\n",
    "    \n",
    "    # Perform PCA for 5 components\n",
    "    pca = PCA(n_components=5)\n",
    "    pcs = pca.fit_transform(selected_data)\n",
    "    \n",
    "    # Perform Birch clustering to 4 clusters\n",
    "    brc = Birch(n_clusters=4, threshold=1.0, branching_factor=50)\n",
    "    brc.fit_predict(pcs)\n",
    "    \n",
    "    # Measure NMI\n",
    "    nmi = metrics.normalized_mutual_info_score(df_ms[\"class\"],brc.labels_, average_method=\"geometric\")\n",
    "    if(nmi>nmi_max):\n",
    "        ms_labels=brc.labels_\n",
    "    results.append(nmi)\n",
    "    print(\"NMI: {}\".format(round(nmi,3)))\n",
    "print(\"MS_DATA NMI average for 20 runs: {}\".format(round(sum(results)/len(results),3)))"
   ]
  },
  {
   "cell_type": "code",
   "execution_count": null,
   "metadata": {},
   "outputs": [],
   "source": []
  }
 ],
 "metadata": {
  "kernelspec": {
   "display_name": "Python 3",
   "language": "python",
   "name": "python3"
  },
  "language_info": {
   "codemirror_mode": {
    "name": "ipython",
    "version": 3
   },
   "file_extension": ".py",
   "mimetype": "text/x-python",
   "name": "python",
   "nbconvert_exporter": "python",
   "pygments_lexer": "ipython3",
   "version": "3.7.7"
  }
 },
 "nbformat": 4,
 "nbformat_minor": 4
}
